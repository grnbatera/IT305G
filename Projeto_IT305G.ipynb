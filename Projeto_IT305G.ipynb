{
  "nbformat": 4,
  "nbformat_minor": 0,
  "metadata": {
    "colab": {
      "name": "Projeto IT305G.ipynb",
      "provenance": [],
      "collapsed_sections": [],
      "toc_visible": true,
      "include_colab_link": true
    },
    "kernelspec": {
      "name": "python3",
      "display_name": "Python 3"
    }
  },
  "cells": [
    {
      "cell_type": "markdown",
      "metadata": {
        "id": "view-in-github",
        "colab_type": "text"
      },
      "source": [
        "<a href=\"https://colab.research.google.com/github/grnbatera/IT305G/blob/main/Projeto_IT305G.ipynb\" target=\"_parent\"><img src=\"https://colab.research.google.com/assets/colab-badge.svg\" alt=\"Open In Colab\"/></a>"
      ]
    },
    {
      "cell_type": "markdown",
      "metadata": {
        "id": "Kz-ehtpDomHC"
      },
      "source": [
        "# IT305G: Gestão de Energia e Eficiência Energética.\r\n",
        "##Prof. Dr. Luiz Carlos Pereira da Silva e Prof. Msc João Ito.\r\n"
      ]
    },
    {
      "cell_type": "markdown",
      "metadata": {
        "id": "-NThjXMJT6jD"
      },
      "source": [
        "# Análise de dados de Eficiência Energética através de Machine Learning "
      ]
    },
    {
      "cell_type": "markdown",
      "metadata": {
        "id": "AkfYmDBcUIWw"
      },
      "source": [
        "Uma metodologia muito utilizado para analisar dados é o chamado ``CRISP-DM\", por suas siglas em inglês: Cross-Industry Standard Process for Data Mining. O CRISP-DM tem seis etapas que são:\r\n",
        "\r\n",
        "* **Business Understanding:** Definição dos objetivos, declaração do problema, * * pergunta de interesse.\r\n",
        "* **Data Understanding:** Utilização de nosso conhecimento para coletar os dados.\r\n",
        "* **Data Preparation:** Manipulação de dados para a eliminação de outliers e dados faltantes.\r\n",
        "* **Modeling:** Modelo ou abordagem utilizado para estudar o comportamento de nosso sistema a partir de nossos dados.\r\n",
        "* **Evaluation:** Avaliação dos resultados obtidos, no contexto se são de ajuda para responder nossa pergunta de interesse.\r\n",
        "* **Deployment:** Disponibilizar o análise de dados."
      ]
    },
    {
      "cell_type": "markdown",
      "metadata": {
        "id": "q_TZAkqqUh5y"
      },
      "source": [
        "# Business Understanding"
      ]
    },
    {
      "cell_type": "markdown",
      "metadata": {
        "id": "G33ALa4rUm1h"
      },
      "source": [
        "* **Definição dos objetivos:** O objetivo do presente notebook é apresentar as variaveis disponíveis no banco de dados D1A.xlsx.\r\n",
        "* **Declaração do problema:** O arquivo D1A.xlsx, reune um conjunto de informações disponíveis sobre anos-base de 2013 a 2019 compilados dos Resultados Anuais do Procel, do Balanço Energético Nacional, do Atlas da Eficiência Energética, do Anuário Estatítico de Energia Elétrica e do World Energy Trilemma Index.\r\n",
        "* **Perguntas de Interesse:**\r\n",
        "Há dados faltantes? Esses dados possuem alguma correlação? É possível estabelecer um modelo estatítico de predição de forma que possamos fazer uma tomada de decisão de política pública para a melhora da Eficiência Energética no país?"
      ]
    },
    {
      "cell_type": "markdown",
      "metadata": {
        "id": "UcMU8qzDyB6g"
      },
      "source": [
        "#Protocolos iniciais do Phyton"
      ]
    },
    {
      "cell_type": "code",
      "metadata": {
        "colab": {
          "base_uri": "https://localhost:8080/"
        },
        "id": "QqLGzsiC-6tC",
        "outputId": "0889c7c6-c120-4dc0-a35a-3d646f9cd4ef"
      },
      "source": [
        "#Clonando repositório do GitHub\r\n",
        "!git clone https://github.com/grnbatera/IT305G.git"
      ],
      "execution_count": 174,
      "outputs": [
        {
          "output_type": "stream",
          "text": [
            "Cloning into 'IT305G'...\n",
            "remote: Enumerating objects: 51, done.\u001b[K\n",
            "remote: Counting objects: 100% (51/51), done.\u001b[K\n",
            "remote: Compressing objects: 100% (48/48), done.\u001b[K\n",
            "remote: Total 51 (delta 14), reused 0 (delta 0), pack-reused 0\u001b[K\n",
            "Unpacking objects: 100% (51/51), done.\n"
          ],
          "name": "stdout"
        }
      ]
    },
    {
      "cell_type": "code",
      "metadata": {
        "id": "gngBWtGBU8tf"
      },
      "source": [
        "import pandas as pd\r\n",
        "import matplotlib as mpl\r\n",
        "import matplotlib.pyplot as plt\r\n",
        "import numpy as np\r\n",
        "import seaborn as sns\r\n",
        "from sklearn.linear_model import LinearRegression\r\n",
        "from sklearn import tree\r\n",
        "from sklearn.ensemble import BaggingRegressor\r\n",
        "from sklearn.ensemble import RandomForestRegressor\r\n",
        "from sklearn.model_selection import cross_val_score\r\n",
        "from sklearn.model_selection import KFold\r\n",
        "from sklearn.preprocessing import StandardScaler\r\n",
        "from sklearn.pipeline import Pipeline\r\n",
        "from sklearn.model_selection import train_test_split\r\n",
        "from sklearn.ensemble import AdaBoostRegressor\r\n",
        "from sklearn.ensemble import GradientBoostingRegressor\r\n",
        "from sklearn.metrics import mean_squared_error\r\n",
        "from sklearn.svm import SVR"
      ],
      "execution_count": 175,
      "outputs": []
    },
    {
      "cell_type": "markdown",
      "metadata": {
        "id": "A6DTevFfyMU0"
      },
      "source": [
        "##Modelo de gráficos pelo Seaborn"
      ]
    },
    {
      "cell_type": "code",
      "metadata": {
        "id": "vNmpyqYbyLnV"
      },
      "source": [
        "mpl.rcParams['font.family'] = 'DejaVu Sans'\r\n",
        "plt.rcParams['font.family'] = 'DejaVu Sans'\r\n",
        "sns.set(font='Roboto',\r\n",
        "        rc={\r\n",
        " 'axes.axisbelow': False,\r\n",
        " 'axes.edgecolor': 'lightgrey',\r\n",
        " 'axes.facecolor': 'None',\r\n",
        " 'axes.grid': False,\r\n",
        " 'axes.labelcolor': 'dimgrey',\r\n",
        " 'axes.spines.right': False,\r\n",
        " 'axes.spines.top': False,\r\n",
        " 'figure.facecolor': 'white',\r\n",
        " 'lines.solid_capstyle': 'round',\r\n",
        " 'patch.edgecolor': 'w',\r\n",
        " 'patch.force_edgecolor': True,\r\n",
        " 'text.color': 'black',\r\n",
        " 'xtick.bottom': False,\r\n",
        " 'xtick.color': 'dimgrey',\r\n",
        " 'xtick.direction': 'out',\r\n",
        " 'xtick.top': False,\r\n",
        " 'ytick.color': 'dimgrey',\r\n",
        " 'ytick.direction': 'out',\r\n",
        " 'ytick.left': False,\r\n",
        " 'ytick.right': False})\r\n",
        " \r\n",
        "sns.set_context(\"notebook\", rc={\"font.size\":20,\r\n",
        "                                \"axes.titlesize\":24,\r\n",
        "                                \"axes.labelsize\":18})"
      ],
      "execution_count": 176,
      "outputs": []
    },
    {
      "cell_type": "markdown",
      "metadata": {
        "id": "QrFirraKUzp_"
      },
      "source": [
        "# Data Understanding"
      ]
    },
    {
      "cell_type": "code",
      "metadata": {
        "colab": {
          "base_uri": "https://localhost:8080/"
        },
        "id": "AhP-7Nf-VQJe",
        "outputId": "9e3222d3-ad59-4a15-afb9-bfc8d6c14ab1"
      },
      "source": [
        "UC1 = pd.read_csv(\"/content/IT305G/D1A.csv\")\r\n",
        "UC1.shape"
      ],
      "execution_count": 177,
      "outputs": [
        {
          "output_type": "execute_result",
          "data": {
            "text/plain": [
              "(7, 59)"
            ]
          },
          "metadata": {
            "tags": []
          },
          "execution_count": 177
        }
      ]
    },
    {
      "cell_type": "code",
      "metadata": {
        "colab": {
          "base_uri": "https://localhost:8080/",
          "height": 274
        },
        "id": "VDnqi00bVWB-",
        "outputId": "d9e08f03-ea07-48d4-d278-cc3863770fd2"
      },
      "source": [
        "UC1"
      ],
      "execution_count": 178,
      "outputs": [
        {
          "output_type": "execute_result",
          "data": {
            "text/html": [
              "<div>\n",
              "<style scoped>\n",
              "    .dataframe tbody tr th:only-of-type {\n",
              "        vertical-align: middle;\n",
              "    }\n",
              "\n",
              "    .dataframe tbody tr th {\n",
              "        vertical-align: top;\n",
              "    }\n",
              "\n",
              "    .dataframe thead th {\n",
              "        text-align: right;\n",
              "    }\n",
              "</style>\n",
              "<table border=\"1\" class=\"dataframe\">\n",
              "  <thead>\n",
              "    <tr style=\"text-align: right;\">\n",
              "      <th></th>\n",
              "      <th>ano</th>\n",
              "      <th>v01</th>\n",
              "      <th>v02</th>\n",
              "      <th>v03</th>\n",
              "      <th>v04</th>\n",
              "      <th>v05</th>\n",
              "      <th>v06</th>\n",
              "      <th>v07</th>\n",
              "      <th>v08</th>\n",
              "      <th>v09</th>\n",
              "      <th>v10</th>\n",
              "      <th>v11</th>\n",
              "      <th>v12</th>\n",
              "      <th>v13</th>\n",
              "      <th>v14</th>\n",
              "      <th>v15</th>\n",
              "      <th>v16</th>\n",
              "      <th>v17</th>\n",
              "      <th>v18</th>\n",
              "      <th>v19</th>\n",
              "      <th>v20</th>\n",
              "      <th>v21</th>\n",
              "      <th>v22</th>\n",
              "      <th>v23</th>\n",
              "      <th>v24</th>\n",
              "      <th>v25</th>\n",
              "      <th>v26</th>\n",
              "      <th>v27</th>\n",
              "      <th>v28</th>\n",
              "      <th>v29</th>\n",
              "      <th>v30</th>\n",
              "      <th>v31</th>\n",
              "      <th>v32</th>\n",
              "      <th>v33</th>\n",
              "      <th>v34</th>\n",
              "      <th>v35</th>\n",
              "      <th>v36</th>\n",
              "      <th>v37</th>\n",
              "      <th>v38</th>\n",
              "      <th>v39</th>\n",
              "      <th>v40</th>\n",
              "      <th>v41</th>\n",
              "      <th>v42</th>\n",
              "      <th>v43</th>\n",
              "      <th>v44</th>\n",
              "      <th>v45</th>\n",
              "      <th>v46</th>\n",
              "      <th>v47</th>\n",
              "      <th>v48</th>\n",
              "      <th>v49</th>\n",
              "      <th>v50</th>\n",
              "      <th>v51</th>\n",
              "      <th>v52</th>\n",
              "      <th>v53</th>\n",
              "      <th>v54</th>\n",
              "      <th>v55</th>\n",
              "      <th>v56</th>\n",
              "      <th>v57</th>\n",
              "      <th>rank</th>\n",
              "    </tr>\n",
              "  </thead>\n",
              "  <tbody>\n",
              "    <tr>\n",
              "      <th>0</th>\n",
              "      <td>2013</td>\n",
              "      <td>70.6</td>\n",
              "      <td>7.6</td>\n",
              "      <td>1.1</td>\n",
              "      <td>0.00</td>\n",
              "      <td>11.3</td>\n",
              "      <td>4.4</td>\n",
              "      <td>2.4</td>\n",
              "      <td>2.6</td>\n",
              "      <td>570.0</td>\n",
              "      <td>31.95</td>\n",
              "      <td>33.93</td>\n",
              "      <td>10.05</td>\n",
              "      <td>9.12</td>\n",
              "      <td>4.59</td>\n",
              "      <td>4.09</td>\n",
              "      <td>59.6</td>\n",
              "      <td>40.4</td>\n",
              "      <td>16.7</td>\n",
              "      <td>83.3</td>\n",
              "      <td>71.2</td>\n",
              "      <td>28.8</td>\n",
              "      <td>86018</td>\n",
              "      <td>36528</td>\n",
              "      <td>2202</td>\n",
              "      <td>5</td>\n",
              "      <td>62.47</td>\n",
              "      <td>7.90</td>\n",
              "      <td>0.0</td>\n",
              "      <td>0.60</td>\n",
              "      <td>22.3</td>\n",
              "      <td>74.79</td>\n",
              "      <td>77294</td>\n",
              "      <td>16.9</td>\n",
              "      <td>0.0960</td>\n",
              "      <td>7</td>\n",
              "      <td>254.45</td>\n",
              "      <td>143.57</td>\n",
              "      <td>169.95</td>\n",
              "      <td>164.53</td>\n",
              "      <td>204.17</td>\n",
              "      <td>230.81</td>\n",
              "      <td>266.29</td>\n",
              "      <td>272.66</td>\n",
              "      <td>106</td>\n",
              "      <td>45921</td>\n",
              "      <td>64778</td>\n",
              "      <td>16661</td>\n",
              "      <td>7457</td>\n",
              "      <td>117309</td>\n",
              "      <td>1673</td>\n",
              "      <td>209237</td>\n",
              "      <td>9.744</td>\n",
              "      <td>0.935</td>\n",
              "      <td>3769</td>\n",
              "      <td>114.8</td>\n",
              "      <td>97.0</td>\n",
              "      <td>101.9</td>\n",
              "      <td>30</td>\n",
              "    </tr>\n",
              "    <tr>\n",
              "      <th>1</th>\n",
              "      <td>2014</td>\n",
              "      <td>65.2</td>\n",
              "      <td>7.3</td>\n",
              "      <td>2.0</td>\n",
              "      <td>0.00</td>\n",
              "      <td>13.0</td>\n",
              "      <td>6.9</td>\n",
              "      <td>2.5</td>\n",
              "      <td>3.2</td>\n",
              "      <td>624.3</td>\n",
              "      <td>32.48</td>\n",
              "      <td>32.87</td>\n",
              "      <td>10.33</td>\n",
              "      <td>9.33</td>\n",
              "      <td>4.75</td>\n",
              "      <td>4.21</td>\n",
              "      <td>59.1</td>\n",
              "      <td>40.9</td>\n",
              "      <td>17.5</td>\n",
              "      <td>82.5</td>\n",
              "      <td>72.3</td>\n",
              "      <td>27.7</td>\n",
              "      <td>89193</td>\n",
              "      <td>37827</td>\n",
              "      <td>4888</td>\n",
              "      <td>15</td>\n",
              "      <td>67.80</td>\n",
              "      <td>7.35</td>\n",
              "      <td>0.0</td>\n",
              "      <td>0.70</td>\n",
              "      <td>23.4</td>\n",
              "      <td>94.07</td>\n",
              "      <td>84319</td>\n",
              "      <td>17.9</td>\n",
              "      <td>0.1355</td>\n",
              "      <td>11</td>\n",
              "      <td>276.97</td>\n",
              "      <td>167.10</td>\n",
              "      <td>190.23</td>\n",
              "      <td>180.42</td>\n",
              "      <td>233.95</td>\n",
              "      <td>256.00</td>\n",
              "      <td>294.32</td>\n",
              "      <td>293.82</td>\n",
              "      <td>106</td>\n",
              "      <td>42653</td>\n",
              "      <td>60695</td>\n",
              "      <td>17416</td>\n",
              "      <td>7929</td>\n",
              "      <td>119942</td>\n",
              "      <td>1637</td>\n",
              "      <td>224444</td>\n",
              "      <td>10.517</td>\n",
              "      <td>1.425</td>\n",
              "      <td>2522</td>\n",
              "      <td>114.9</td>\n",
              "      <td>95.8</td>\n",
              "      <td>100.1</td>\n",
              "      <td>37</td>\n",
              "    </tr>\n",
              "    <tr>\n",
              "      <th>2</th>\n",
              "      <td>2015</td>\n",
              "      <td>64.0</td>\n",
              "      <td>8.0</td>\n",
              "      <td>3.5</td>\n",
              "      <td>0.01</td>\n",
              "      <td>12.9</td>\n",
              "      <td>4.8</td>\n",
              "      <td>2.4</td>\n",
              "      <td>4.5</td>\n",
              "      <td>581.5</td>\n",
              "      <td>32.24</td>\n",
              "      <td>32.47</td>\n",
              "      <td>10.65</td>\n",
              "      <td>9.57</td>\n",
              "      <td>4.82</td>\n",
              "      <td>4.41</td>\n",
              "      <td>58.9</td>\n",
              "      <td>41.1</td>\n",
              "      <td>20.7</td>\n",
              "      <td>79.3</td>\n",
              "      <td>72.5</td>\n",
              "      <td>27.5</td>\n",
              "      <td>91650</td>\n",
              "      <td>39563</td>\n",
              "      <td>7633</td>\n",
              "      <td>21</td>\n",
              "      <td>57.14</td>\n",
              "      <td>8.60</td>\n",
              "      <td>0.0</td>\n",
              "      <td>0.75</td>\n",
              "      <td>34.3</td>\n",
              "      <td>89.61</td>\n",
              "      <td>84613</td>\n",
              "      <td>18.3</td>\n",
              "      <td>0.1244</td>\n",
              "      <td>11</td>\n",
              "      <td>395.04</td>\n",
              "      <td>314.32</td>\n",
              "      <td>314.95</td>\n",
              "      <td>257.23</td>\n",
              "      <td>361.03</td>\n",
              "      <td>379.64</td>\n",
              "      <td>438.38</td>\n",
              "      <td>409.93</td>\n",
              "      <td>118</td>\n",
              "      <td>43632</td>\n",
              "      <td>57449</td>\n",
              "      <td>16258</td>\n",
              "      <td>7794</td>\n",
              "      <td>116119</td>\n",
              "      <td>1515</td>\n",
              "      <td>222825</td>\n",
              "      <td>11.680</td>\n",
              "      <td>1.453</td>\n",
              "      <td>2801</td>\n",
              "      <td>118.1</td>\n",
              "      <td>95.8</td>\n",
              "      <td>100.1</td>\n",
              "      <td>57</td>\n",
              "    </tr>\n",
              "    <tr>\n",
              "      <th>3</th>\n",
              "      <td>2016</td>\n",
              "      <td>68.1</td>\n",
              "      <td>8.2</td>\n",
              "      <td>5.4</td>\n",
              "      <td>0.01</td>\n",
              "      <td>9.1</td>\n",
              "      <td>3.7</td>\n",
              "      <td>2.6</td>\n",
              "      <td>2.9</td>\n",
              "      <td>619.7</td>\n",
              "      <td>32.40</td>\n",
              "      <td>33.00</td>\n",
              "      <td>10.30</td>\n",
              "      <td>9.70</td>\n",
              "      <td>4.90</td>\n",
              "      <td>4.00</td>\n",
              "      <td>58.0</td>\n",
              "      <td>42.0</td>\n",
              "      <td>20.0</td>\n",
              "      <td>80.0</td>\n",
              "      <td>64.0</td>\n",
              "      <td>36.0</td>\n",
              "      <td>96925</td>\n",
              "      <td>41276</td>\n",
              "      <td>10124</td>\n",
              "      <td>24</td>\n",
              "      <td>78.50</td>\n",
              "      <td>6.10</td>\n",
              "      <td>0.3</td>\n",
              "      <td>1.00</td>\n",
              "      <td>14.1</td>\n",
              "      <td>64.44</td>\n",
              "      <td>88097</td>\n",
              "      <td>19.2</td>\n",
              "      <td>0.0817</td>\n",
              "      <td>7</td>\n",
              "      <td>419.15</td>\n",
              "      <td>316.26</td>\n",
              "      <td>329.51</td>\n",
              "      <td>274.67</td>\n",
              "      <td>360.53</td>\n",
              "      <td>400.28</td>\n",
              "      <td>466.61</td>\n",
              "      <td>434.87</td>\n",
              "      <td>73</td>\n",
              "      <td>43264</td>\n",
              "      <td>57357</td>\n",
              "      <td>16494</td>\n",
              "      <td>9627</td>\n",
              "      <td>110714</td>\n",
              "      <td>2541</td>\n",
              "      <td>221709</td>\n",
              "      <td>15.500</td>\n",
              "      <td>1.238</td>\n",
              "      <td>3634</td>\n",
              "      <td>126.0</td>\n",
              "      <td>96.7</td>\n",
              "      <td>97.3</td>\n",
              "      <td>54</td>\n",
              "    </tr>\n",
              "    <tr>\n",
              "      <th>4</th>\n",
              "      <td>2017</td>\n",
              "      <td>65.2</td>\n",
              "      <td>8.2</td>\n",
              "      <td>6.8</td>\n",
              "      <td>0.10</td>\n",
              "      <td>10.5</td>\n",
              "      <td>3.0</td>\n",
              "      <td>2.5</td>\n",
              "      <td>3.6</td>\n",
              "      <td>624.3</td>\n",
              "      <td>32.70</td>\n",
              "      <td>32.90</td>\n",
              "      <td>10.10</td>\n",
              "      <td>9.70</td>\n",
              "      <td>4.80</td>\n",
              "      <td>4.00</td>\n",
              "      <td>57.0</td>\n",
              "      <td>43.0</td>\n",
              "      <td>20.0</td>\n",
              "      <td>80.0</td>\n",
              "      <td>63.0</td>\n",
              "      <td>37.0</td>\n",
              "      <td>100275</td>\n",
              "      <td>41628</td>\n",
              "      <td>12283</td>\n",
              "      <td>935</td>\n",
              "      <td>46.20</td>\n",
              "      <td>23.50</td>\n",
              "      <td>5.0</td>\n",
              "      <td>2.50</td>\n",
              "      <td>22.8</td>\n",
              "      <td>61.14</td>\n",
              "      <td>89139</td>\n",
              "      <td>19.2</td>\n",
              "      <td>0.0927</td>\n",
              "      <td>8</td>\n",
              "      <td>421.35</td>\n",
              "      <td>361.37</td>\n",
              "      <td>322.51</td>\n",
              "      <td>293.06</td>\n",
              "      <td>348.07</td>\n",
              "      <td>397.01</td>\n",
              "      <td>478.38</td>\n",
              "      <td>434.91</td>\n",
              "      <td>72</td>\n",
              "      <td>42892</td>\n",
              "      <td>57811</td>\n",
              "      <td>16652</td>\n",
              "      <td>10480</td>\n",
              "      <td>114950</td>\n",
              "      <td>1401</td>\n",
              "      <td>222903</td>\n",
              "      <td>21.200</td>\n",
              "      <td>1.965</td>\n",
              "      <td>6887</td>\n",
              "      <td>126.6</td>\n",
              "      <td>100.0</td>\n",
              "      <td>97.0</td>\n",
              "      <td>53</td>\n",
              "    </tr>\n",
              "    <tr>\n",
              "      <th>5</th>\n",
              "      <td>2018</td>\n",
              "      <td>66.6</td>\n",
              "      <td>8.5</td>\n",
              "      <td>7.6</td>\n",
              "      <td>0.50</td>\n",
              "      <td>8.6</td>\n",
              "      <td>2.4</td>\n",
              "      <td>2.5</td>\n",
              "      <td>3.2</td>\n",
              "      <td>636.4</td>\n",
              "      <td>32.70</td>\n",
              "      <td>31.70</td>\n",
              "      <td>11.20</td>\n",
              "      <td>9.90</td>\n",
              "      <td>4.90</td>\n",
              "      <td>4.10</td>\n",
              "      <td>57.0</td>\n",
              "      <td>43.0</td>\n",
              "      <td>23.0</td>\n",
              "      <td>77.0</td>\n",
              "      <td>65.0</td>\n",
              "      <td>35.0</td>\n",
              "      <td>104139</td>\n",
              "      <td>40523</td>\n",
              "      <td>14390</td>\n",
              "      <td>1798</td>\n",
              "      <td>63.50</td>\n",
              "      <td>19.10</td>\n",
              "      <td>1.7</td>\n",
              "      <td>1.80</td>\n",
              "      <td>13.9</td>\n",
              "      <td>52.70</td>\n",
              "      <td>90135</td>\n",
              "      <td>19.1</td>\n",
              "      <td>0.0740</td>\n",
              "      <td>7</td>\n",
              "      <td>474.99</td>\n",
              "      <td>308.92</td>\n",
              "      <td>358.51</td>\n",
              "      <td>338.06</td>\n",
              "      <td>402.24</td>\n",
              "      <td>443.92</td>\n",
              "      <td>540.78</td>\n",
              "      <td>489.76</td>\n",
              "      <td>65</td>\n",
              "      <td>41561</td>\n",
              "      <td>61377</td>\n",
              "      <td>17219</td>\n",
              "      <td>8912</td>\n",
              "      <td>116723</td>\n",
              "      <td>1301</td>\n",
              "      <td>227662</td>\n",
              "      <td>22.990</td>\n",
              "      <td>1.701</td>\n",
              "      <td>7257</td>\n",
              "      <td>128.5</td>\n",
              "      <td>100.0</td>\n",
              "      <td>96.8</td>\n",
              "      <td>39</td>\n",
              "    </tr>\n",
              "    <tr>\n",
              "      <th>6</th>\n",
              "      <td>2019</td>\n",
              "      <td>64.9</td>\n",
              "      <td>8.4</td>\n",
              "      <td>8.6</td>\n",
              "      <td>1.00</td>\n",
              "      <td>9.3</td>\n",
              "      <td>2.0</td>\n",
              "      <td>2.5</td>\n",
              "      <td>3.3</td>\n",
              "      <td>651.3</td>\n",
              "      <td>32.70</td>\n",
              "      <td>30.40</td>\n",
              "      <td>11.20</td>\n",
              "      <td>10.30</td>\n",
              "      <td>5.10</td>\n",
              "      <td>4.90</td>\n",
              "      <td>58.0</td>\n",
              "      <td>42.0</td>\n",
              "      <td>25.0</td>\n",
              "      <td>75.0</td>\n",
              "      <td>66.0</td>\n",
              "      <td>34.0</td>\n",
              "      <td>109058</td>\n",
              "      <td>41219</td>\n",
              "      <td>15378</td>\n",
              "      <td>2473</td>\n",
              "      <td>74.50</td>\n",
              "      <td>13.90</td>\n",
              "      <td>1.3</td>\n",
              "      <td>0.70</td>\n",
              "      <td>9.5</td>\n",
              "      <td>56.30</td>\n",
              "      <td>92515</td>\n",
              "      <td>19.3</td>\n",
              "      <td>0.0750</td>\n",
              "      <td>7</td>\n",
              "      <td>511.92</td>\n",
              "      <td>314.20</td>\n",
              "      <td>383.36</td>\n",
              "      <td>336.16</td>\n",
              "      <td>399.64</td>\n",
              "      <td>472.53</td>\n",
              "      <td>577.15</td>\n",
              "      <td>529.27</td>\n",
              "      <td>61</td>\n",
              "      <td>39215</td>\n",
              "      <td>60001</td>\n",
              "      <td>17806</td>\n",
              "      <td>9208</td>\n",
              "      <td>120170</td>\n",
              "      <td>1320</td>\n",
              "      <td>234444</td>\n",
              "      <td>21.600</td>\n",
              "      <td>1.600</td>\n",
              "      <td>8129</td>\n",
              "      <td>128.7</td>\n",
              "      <td>100.5</td>\n",
              "      <td>95.0</td>\n",
              "      <td>28</td>\n",
              "    </tr>\n",
              "  </tbody>\n",
              "</table>\n",
              "</div>"
            ],
            "text/plain": [
              "    ano   v01  v02  v03   v04   v05  ...    v53   v54    v55    v56    v57  rank\n",
              "0  2013  70.6  7.6  1.1  0.00  11.3  ...  0.935  3769  114.8   97.0  101.9    30\n",
              "1  2014  65.2  7.3  2.0  0.00  13.0  ...  1.425  2522  114.9   95.8  100.1    37\n",
              "2  2015  64.0  8.0  3.5  0.01  12.9  ...  1.453  2801  118.1   95.8  100.1    57\n",
              "3  2016  68.1  8.2  5.4  0.01   9.1  ...  1.238  3634  126.0   96.7   97.3    54\n",
              "4  2017  65.2  8.2  6.8  0.10  10.5  ...  1.965  6887  126.6  100.0   97.0    53\n",
              "5  2018  66.6  8.5  7.6  0.50   8.6  ...  1.701  7257  128.5  100.0   96.8    39\n",
              "6  2019  64.9  8.4  8.6  1.00   9.3  ...  1.600  8129  128.7  100.5   95.0    28\n",
              "\n",
              "[7 rows x 59 columns]"
            ]
          },
          "metadata": {
            "tags": []
          },
          "execution_count": 178
        }
      ]
    },
    {
      "cell_type": "code",
      "metadata": {
        "colab": {
          "base_uri": "https://localhost:8080/"
        },
        "id": "7CedXKdljVU7",
        "outputId": "3dd79cf9-a0ef-4e8f-c942-7064a4aff32c"
      },
      "source": [
        "mapa = pd.read_csv(\"/content/IT305G/mapadevariaveisdeD1A.csv\")\r\n",
        "mapa.shape"
      ],
      "execution_count": 179,
      "outputs": [
        {
          "output_type": "execute_result",
          "data": {
            "text/plain": [
              "(59, 2)"
            ]
          },
          "metadata": {
            "tags": []
          },
          "execution_count": 179
        }
      ]
    },
    {
      "cell_type": "markdown",
      "metadata": {
        "id": "y4cL6aORVllY"
      },
      "source": [
        "# Data Preparation"
      ]
    },
    {
      "cell_type": "markdown",
      "metadata": {
        "id": "DfCtrsm8zXj0"
      },
      "source": [
        "##Normalização dos Dados"
      ]
    },
    {
      "cell_type": "code",
      "metadata": {
        "id": "sug9Af5R7QvJ"
      },
      "source": [
        "UC1n = (UC1-UC1.mean(axis=0))/UC1.std(axis=0)\r\n",
        "anomedia = 2016\r\n",
        "anostd = 2.160246899\r\n",
        "rankmedia = 42.57142857\r\n",
        "rankstd = 11.98411647"
      ],
      "execution_count": 78,
      "outputs": []
    },
    {
      "cell_type": "markdown",
      "metadata": {
        "id": "rWLCpfuN0hrW"
      },
      "source": [
        "##Divsão e ajuste dos dados para treino e teste"
      ]
    },
    {
      "cell_type": "code",
      "metadata": {
        "id": "655DUOtkxqfF"
      },
      "source": [
        "treino=UC1n.iloc[[0,1,2,3,6]]\r\n",
        "anotreino=treino.iloc[:,0:58]\r\n",
        "ranktreino=treino.iloc[:,58:]\r\n",
        "teste=UC1n.iloc[[4,5]]\r\n",
        "anoteste=teste.iloc[:,0:58]\r\n",
        "rankteste=teste.iloc[:,58:]"
      ],
      "execution_count": 79,
      "outputs": []
    },
    {
      "cell_type": "code",
      "metadata": {
        "id": "W5Qa-D4x9hUq"
      },
      "source": [
        "anoteste=np.array(anoteste).reshape(len(anoteste),58)\r\n",
        "anotreino=np.array(anotreino).reshape(len(anotreino),58)\r\n",
        "rankteste=np.array(rankteste).reshape(len(rankteste),1)\r\n",
        "ranktreino=np.array(ranktreino).reshape(len(ranktreino),1)"
      ],
      "execution_count": 80,
      "outputs": []
    },
    {
      "cell_type": "code",
      "metadata": {
        "colab": {
          "base_uri": "https://localhost:8080/"
        },
        "id": "VcOqFIscaOCK",
        "outputId": "09eb3948-d189-4501-dc34-c289392d1073"
      },
      "source": [
        "anoteste.shape"
      ],
      "execution_count": 81,
      "outputs": [
        {
          "output_type": "execute_result",
          "data": {
            "text/plain": [
              "(2, 58)"
            ]
          },
          "metadata": {
            "tags": []
          },
          "execution_count": 81
        }
      ]
    },
    {
      "cell_type": "code",
      "metadata": {
        "colab": {
          "base_uri": "https://localhost:8080/"
        },
        "id": "q8STsMeGaWRK",
        "outputId": "42581d99-7a75-4b5e-de04-23ad15f4a9c8"
      },
      "source": [
        "anotreino.shape"
      ],
      "execution_count": 82,
      "outputs": [
        {
          "output_type": "execute_result",
          "data": {
            "text/plain": [
              "(5, 58)"
            ]
          },
          "metadata": {
            "tags": []
          },
          "execution_count": 82
        }
      ]
    },
    {
      "cell_type": "code",
      "metadata": {
        "colab": {
          "base_uri": "https://localhost:8080/"
        },
        "id": "-fzG6Ud7abFJ",
        "outputId": "98d7735e-8040-40d9-a9fa-81b146c1dbf8"
      },
      "source": [
        "ranktreino.shape"
      ],
      "execution_count": 83,
      "outputs": [
        {
          "output_type": "execute_result",
          "data": {
            "text/plain": [
              "(5, 1)"
            ]
          },
          "metadata": {
            "tags": []
          },
          "execution_count": 83
        }
      ]
    },
    {
      "cell_type": "code",
      "metadata": {
        "colab": {
          "base_uri": "https://localhost:8080/"
        },
        "id": "veFQvegpbWa5",
        "outputId": "535b1483-1dfb-491e-8555-23e5d615758c"
      },
      "source": [
        "rankteste.shape"
      ],
      "execution_count": 84,
      "outputs": [
        {
          "output_type": "execute_result",
          "data": {
            "text/plain": [
              "(2, 1)"
            ]
          },
          "metadata": {
            "tags": []
          },
          "execution_count": 84
        }
      ]
    },
    {
      "cell_type": "markdown",
      "metadata": {
        "id": "R23509PYWKqA"
      },
      "source": [
        "## Visualização de Dados Faltantes"
      ]
    },
    {
      "cell_type": "code",
      "metadata": {
        "colab": {
          "base_uri": "https://localhost:8080/"
        },
        "id": "BGt6iqPdVp74",
        "outputId": "1f0816de-5e72-411c-f986-0ba2b4ab6484"
      },
      "source": [
        "np.nan + np.nan"
      ],
      "execution_count": 85,
      "outputs": [
        {
          "output_type": "execute_result",
          "data": {
            "text/plain": [
              "nan"
            ]
          },
          "metadata": {
            "tags": []
          },
          "execution_count": 85
        }
      ]
    },
    {
      "cell_type": "code",
      "metadata": {
        "colab": {
          "base_uri": "https://localhost:8080/"
        },
        "id": "UKMxerpIVzKX",
        "outputId": "bb9e2a44-323c-4c6a-f2bd-5e8bf2d59725"
      },
      "source": [
        "np.nan == np.nan"
      ],
      "execution_count": 86,
      "outputs": [
        {
          "output_type": "execute_result",
          "data": {
            "text/plain": [
              "False"
            ]
          },
          "metadata": {
            "tags": []
          },
          "execution_count": 86
        }
      ]
    },
    {
      "cell_type": "code",
      "metadata": {
        "colab": {
          "base_uri": "https://localhost:8080/"
        },
        "id": "rU4cm9IrV6b2",
        "outputId": "8b7a206f-fcf2-4517-e1c4-ead7e878dff0"
      },
      "source": [
        "np.isnan(np.nan)"
      ],
      "execution_count": 87,
      "outputs": [
        {
          "output_type": "execute_result",
          "data": {
            "text/plain": [
              "True"
            ]
          },
          "metadata": {
            "tags": []
          },
          "execution_count": 87
        }
      ]
    },
    {
      "cell_type": "code",
      "metadata": {
        "id": "0-i8vvg5WFVF"
      },
      "source": [
        "import missingno as msno"
      ],
      "execution_count": 88,
      "outputs": []
    },
    {
      "cell_type": "code",
      "metadata": {
        "colab": {
          "base_uri": "https://localhost:8080/",
          "height": 520
        },
        "id": "oZi_c82sWPp2",
        "outputId": "326732fd-c622-4dc5-8d63-5625696dc22d"
      },
      "source": [
        "msno.bar(UC1, labels=True,color=\"RoyalBlue\") #para visualizar a integridade do datafram"
      ],
      "execution_count": 89,
      "outputs": [
        {
          "output_type": "execute_result",
          "data": {
            "text/plain": [
              "<matplotlib.axes._subplots.AxesSubplot at 0x7f4093874940>"
            ]
          },
          "metadata": {
            "tags": []
          },
          "execution_count": 89
        },
        {
          "output_type": "display_data",
          "data": {
            "image/png": "[encoded data removed]",
            "text/plain": [
              "<Figure size 1728x720 with 3 Axes>"
            ]
          },
          "metadata": {
            "tags": []
          }
        }
      ]
    },
    {
      "cell_type": "markdown",
      "metadata": {
        "id": "rTeJgbpBWZpI"
      },
      "source": [
        "## Matriz de Dados Faltantes"
      ]
    },
    {
      "cell_type": "code",
      "metadata": {
        "colab": {
          "base_uri": "https://localhost:8080/",
          "height": 532
        },
        "id": "AfTxZvsPWRKU",
        "outputId": "3dfe3aaf-a60e-4d20-a7d4-564e7b702144"
      },
      "source": [
        "msno.matrix(UC1, labels=True, color = (0.25,0.4,0.8))"
      ],
      "execution_count": 90,
      "outputs": [
        {
          "output_type": "execute_result",
          "data": {
            "text/plain": [
              "<matplotlib.axes._subplots.AxesSubplot at 0x7f40935caa20>"
            ]
          },
          "metadata": {
            "tags": []
          },
          "execution_count": 90
        },
        {
          "output_type": "display_data",
          "data": {
            "image/png": "[encoded data removed]",
            "text/plain": [
              "<Figure size 1800x720 with 2 Axes>"
            ]
          },
          "metadata": {
            "tags": []
          }
        }
      ]
    },
    {
      "cell_type": "markdown",
      "metadata": {
        "id": "DaeXdZdmWuqP"
      },
      "source": [
        "## Matriz de Correlação de Dados Faltantes"
      ]
    },
    {
      "cell_type": "code",
      "metadata": {
        "colab": {
          "base_uri": "https://localhost:8080/",
          "height": 801
        },
        "id": "Nwv2o5H-WdJu",
        "outputId": "886dd52d-1ef9-4edd-c1e4-5d213b90edb3"
      },
      "source": [
        "msno.heatmap(UC1,labels=True)"
      ],
      "execution_count": 91,
      "outputs": [
        {
          "output_type": "stream",
          "text": [
            "/usr/local/lib/python3.6/dist-packages/seaborn/matrix.py:301: UserWarning: Attempting to set identical bottom == top == 0 results in singular transformations; automatically expanding.\n",
            "  ax.set(xlim=(0, self.data.shape[1]), ylim=(0, self.data.shape[0]))\n",
            "/usr/local/lib/python3.6/dist-packages/seaborn/matrix.py:301: UserWarning: Attempting to set identical left == right == 0 results in singular transformations; automatically expanding.\n",
            "  ax.set(xlim=(0, self.data.shape[1]), ylim=(0, self.data.shape[0]))\n"
          ],
          "name": "stderr"
        },
        {
          "output_type": "execute_result",
          "data": {
            "text/plain": [
              "<matplotlib.axes._subplots.AxesSubplot at 0x7f4095172d30>"
            ]
          },
          "metadata": {
            "tags": []
          },
          "execution_count": 91
        },
        {
          "output_type": "display_data",
          "data": {
            "image/png": "[encoded data removed]",
            "text/plain": [
              "<Figure size 1440x864 with 2 Axes>"
            ]
          },
          "metadata": {
            "tags": []
          }
        }
      ]
    },
    {
      "cell_type": "markdown",
      "metadata": {
        "id": "DeUlGgt_W_3X"
      },
      "source": [
        "## Dendogram de dados Faltantes"
      ]
    },
    {
      "cell_type": "code",
      "metadata": {
        "colab": {
          "base_uri": "https://localhost:8080/",
          "height": 810
        },
        "id": "zpJsDoiyWwm1",
        "outputId": "c2c2f74e-ab7c-48b3-c411-3adb6c4c71d4"
      },
      "source": [
        "msno.dendrogram(UC1)"
      ],
      "execution_count": 92,
      "outputs": [
        {
          "output_type": "stream",
          "text": [
            "/usr/local/lib/python3.6/dist-packages/scipy/cluster/hierarchy.py:2865: UserWarning: Attempting to set identical left == right == 0.0 results in singular transformations; automatically expanding.\n",
            "  ax.set_xlim([dvw, 0])\n"
          ],
          "name": "stderr"
        },
        {
          "output_type": "execute_result",
          "data": {
            "text/plain": [
              "<matplotlib.axes._subplots.AxesSubplot at 0x7f4093426dd8>"
            ]
          },
          "metadata": {
            "tags": []
          },
          "execution_count": 92
        },
        {
          "output_type": "display_data",
          "data": {
            "image/png": "[encoded data removed]",
            "text/plain": [
              "<Figure size 1800x1224 with 1 Axes>"
            ]
          },
          "metadata": {
            "tags": []
          }
        }
      ]
    },
    {
      "cell_type": "markdown",
      "metadata": {
        "id": "0vxnc6vMAc1y"
      },
      "source": [
        "##Modelo de Avaliação"
      ]
    },
    {
      "cell_type": "markdown",
      "metadata": {
        "id": "oMEUlt2qAadD"
      },
      "source": [
        "$R M S E=\\sqrt{\\sum_{i=1}^{n} \\frac{\\left(\\hat{y}_{i}-y_{i}\\right)^{2}}{n}}$"
      ]
    },
    {
      "cell_type": "code",
      "metadata": {
        "id": "zqtps5YBR1Pb"
      },
      "source": [
        "def RMSE(yh, y):\r\n",
        "  er = yh - y\r\n",
        "  RMSE = sum(er*er/len(er))**0.5\r\n",
        "  return RMSE"
      ],
      "execution_count": 93,
      "outputs": []
    },
    {
      "cell_type": "markdown",
      "metadata": {
        "id": "T3LfuKVh3q6e"
      },
      "source": [
        "#Modeling: Regressões Não-Lineares por Machine Learning"
      ]
    },
    {
      "cell_type": "markdown",
      "metadata": {
        "id": "XsyLwXvJ357f"
      },
      "source": [
        "##Regressão Multivariável"
      ]
    },
    {
      "cell_type": "code",
      "metadata": {
        "id": "KsQ9uIS1kHbo"
      },
      "source": [
        "modelo01 = LinearRegression().fit(anotreino,ranktreino)"
      ],
      "execution_count": 94,
      "outputs": []
    },
    {
      "cell_type": "code",
      "metadata": {
        "colab": {
          "base_uri": "https://localhost:8080/"
        },
        "id": "WebqHwHVlw5J",
        "outputId": "a5d4cac3-4ce4-432e-d6df-4d241f3e5872"
      },
      "source": [
        "modelo01.score(anotreino,ranktreino)"
      ],
      "execution_count": 95,
      "outputs": [
        {
          "output_type": "execute_result",
          "data": {
            "text/plain": [
              "1.0"
            ]
          },
          "metadata": {
            "tags": []
          },
          "execution_count": 95
        }
      ]
    },
    {
      "cell_type": "code",
      "metadata": {
        "colab": {
          "base_uri": "https://localhost:8080/"
        },
        "id": "XderOhrK2Sjh",
        "outputId": "0c65a321-a578-4935-e08d-d2c9603cd8f5"
      },
      "source": [
        "modelo01.score(anoteste,rankteste)"
      ],
      "execution_count": 96,
      "outputs": [
        {
          "output_type": "execute_result",
          "data": {
            "text/plain": [
              "0.6575994921653434"
            ]
          },
          "metadata": {
            "tags": []
          },
          "execution_count": 96
        }
      ]
    },
    {
      "cell_type": "code",
      "metadata": {
        "colab": {
          "base_uri": "https://localhost:8080/"
        },
        "id": "BOk942a5PK3e",
        "outputId": "2d057ec9-6a69-4279-99ea-3e400740e5ef"
      },
      "source": [
        "rmsmodelo01 = RMSE(rankteste.ravel(), modelo01.predict(anoteste).ravel())\r\n",
        "rmsmodelo01"
      ],
      "execution_count": 97,
      "outputs": [
        {
          "output_type": "execute_result",
          "data": {
            "text/plain": [
              "0.3417898951320977"
            ]
          },
          "metadata": {
            "tags": []
          },
          "execution_count": 97
        }
      ]
    },
    {
      "cell_type": "code",
      "metadata": {
        "colab": {
          "base_uri": "https://localhost:8080/"
        },
        "id": "RO7s3pMm1np0",
        "outputId": "7a9e5957-9f89-450e-b3eb-ce1f0d4751a0"
      },
      "source": [
        "predicao01 = (modelo01.predict(anoteste))*rankstd+rankmedia\r\n",
        "predicao01.ravel()"
      ],
      "execution_count": 98,
      "outputs": [
        {
          "output_type": "execute_result",
          "data": {
            "text/plain": [
              "array([48.10283144, 35.90597513])"
            ]
          },
          "metadata": {
            "tags": []
          },
          "execution_count": 98
        }
      ]
    },
    {
      "cell_type": "code",
      "metadata": {
        "colab": {
          "base_uri": "https://localhost:8080/",
          "height": 195
        },
        "id": "GggWAdPNVklF",
        "outputId": "f4c18d06-f3b2-4b52-e053-0e493c9c6e9b"
      },
      "source": [
        "importancia01a = pd.DataFrame(modelo01.coef_).T\r\n",
        "importancia01 = importancia01a.sort_values(by=0,ascending=False)\r\n",
        "importancia01.head()"
      ],
      "execution_count": 99,
      "outputs": [
        {
          "output_type": "execute_result",
          "data": {
            "text/html": [
              "<div>\n",
              "<style scoped>\n",
              "    .dataframe tbody tr th:only-of-type {\n",
              "        vertical-align: middle;\n",
              "    }\n",
              "\n",
              "    .dataframe tbody tr th {\n",
              "        vertical-align: top;\n",
              "    }\n",
              "\n",
              "    .dataframe thead th {\n",
              "        text-align: right;\n",
              "    }\n",
              "</style>\n",
              "<table border=\"1\" class=\"dataframe\">\n",
              "  <thead>\n",
              "    <tr style=\"text-align: right;\">\n",
              "      <th></th>\n",
              "      <th>0</th>\n",
              "    </tr>\n",
              "  </thead>\n",
              "  <tbody>\n",
              "    <tr>\n",
              "      <th>8</th>\n",
              "      <td>0.108742</td>\n",
              "    </tr>\n",
              "    <tr>\n",
              "      <th>37</th>\n",
              "      <td>0.095114</td>\n",
              "    </tr>\n",
              "    <tr>\n",
              "      <th>50</th>\n",
              "      <td>0.088605</td>\n",
              "    </tr>\n",
              "    <tr>\n",
              "      <th>30</th>\n",
              "      <td>0.083740</td>\n",
              "    </tr>\n",
              "    <tr>\n",
              "      <th>40</th>\n",
              "      <td>0.072880</td>\n",
              "    </tr>\n",
              "  </tbody>\n",
              "</table>\n",
              "</div>"
            ],
            "text/plain": [
              "           0\n",
              "8   0.108742\n",
              "37  0.095114\n",
              "50  0.088605\n",
              "30  0.083740\n",
              "40  0.072880"
            ]
          },
          "metadata": {
            "tags": []
          },
          "execution_count": 99
        }
      ]
    },
    {
      "cell_type": "markdown",
      "metadata": {
        "id": "1iF0tZwW8aaL"
      },
      "source": [
        "##Regressão por Árvore de Decisão"
      ]
    },
    {
      "cell_type": "code",
      "metadata": {
        "id": "zODDJxiVihSz"
      },
      "source": [
        "modelo02 = tree.DecisionTreeRegressor(max_depth=2,random_state=18).fit(anotreino,ranktreino)"
      ],
      "execution_count": 100,
      "outputs": []
    },
    {
      "cell_type": "code",
      "metadata": {
        "colab": {
          "base_uri": "https://localhost:8080/"
        },
        "id": "9IjqWbG_ihS6",
        "outputId": "994cffd5-72a1-4735-8c8a-309006e55770"
      },
      "source": [
        "modelo02.score(anotreino,ranktreino)"
      ],
      "execution_count": 101,
      "outputs": [
        {
          "output_type": "execute_result",
          "data": {
            "text/plain": [
              "0.9972632731253421"
            ]
          },
          "metadata": {
            "tags": []
          },
          "execution_count": 101
        }
      ]
    },
    {
      "cell_type": "code",
      "metadata": {
        "colab": {
          "base_uri": "https://localhost:8080/"
        },
        "id": "6FznpA55ihS6",
        "outputId": "abea58bb-7cd9-4d0f-bc71-eb5189ca4940"
      },
      "source": [
        "modelo02.score(anoteste,rankteste)"
      ],
      "execution_count": 102,
      "outputs": [
        {
          "output_type": "execute_result",
          "data": {
            "text/plain": [
              "-0.030612244897959103"
            ]
          },
          "metadata": {
            "tags": []
          },
          "execution_count": 102
        }
      ]
    },
    {
      "cell_type": "code",
      "metadata": {
        "colab": {
          "base_uri": "https://localhost:8080/"
        },
        "id": "_sSkhPIXihS7",
        "outputId": "edcc8f41-5f9e-4ae4-9c41-da7b377b96ba"
      },
      "source": [
        "rmsmodelo02 = RMSE(rankteste.ravel(), modelo02.predict(anoteste).ravel())\r\n",
        "rmsmodelo02"
      ],
      "execution_count": 103,
      "outputs": [
        {
          "output_type": "execute_result",
          "data": {
            "text/plain": [
              "0.5929794839916582"
            ]
          },
          "metadata": {
            "tags": []
          },
          "execution_count": 103
        }
      ]
    },
    {
      "cell_type": "code",
      "metadata": {
        "colab": {
          "base_uri": "https://localhost:8080/"
        },
        "id": "LCpyi4WcihS7",
        "outputId": "b1a6eb0e-d6d6-4304-9199-9bd894123fbd"
      },
      "source": [
        "predicao02 = (modelo02.predict(anoteste))*rankstd+rankmedia\r\n",
        "predicao02.ravel()"
      ],
      "execution_count": 104,
      "outputs": [
        {
          "output_type": "execute_result",
          "data": {
            "text/plain": [
              "array([54., 29.])"
            ]
          },
          "metadata": {
            "tags": []
          },
          "execution_count": 104
        }
      ]
    },
    {
      "cell_type": "code",
      "metadata": {
        "colab": {
          "base_uri": "https://localhost:8080/",
          "height": 195
        },
        "id": "YKLhO28VihS7",
        "outputId": "c778508d-12f8-4ef0-f658-c9985107c4ee"
      },
      "source": [
        "importancia02a = pd.DataFrame((modelo02.feature_importances_))\r\n",
        "importancia02 = importancia02a.sort_values(by=0,ascending=False)\r\n",
        "importancia02.head()"
      ],
      "execution_count": 105,
      "outputs": [
        {
          "output_type": "execute_result",
          "data": {
            "text/html": [
              "<div>\n",
              "<style scoped>\n",
              "    .dataframe tbody tr th:only-of-type {\n",
              "        vertical-align: middle;\n",
              "    }\n",
              "\n",
              "    .dataframe tbody tr th {\n",
              "        vertical-align: top;\n",
              "    }\n",
              "\n",
              "    .dataframe thead th {\n",
              "        text-align: right;\n",
              "    }\n",
              "</style>\n",
              "<table border=\"1\" class=\"dataframe\">\n",
              "  <thead>\n",
              "    <tr style=\"text-align: right;\">\n",
              "      <th></th>\n",
              "      <th>0</th>\n",
              "    </tr>\n",
              "  </thead>\n",
              "  <tbody>\n",
              "    <tr>\n",
              "      <th>37</th>\n",
              "      <td>0.935282</td>\n",
              "    </tr>\n",
              "    <tr>\n",
              "      <th>35</th>\n",
              "      <td>0.058544</td>\n",
              "    </tr>\n",
              "    <tr>\n",
              "      <th>56</th>\n",
              "      <td>0.006175</td>\n",
              "    </tr>\n",
              "    <tr>\n",
              "      <th>0</th>\n",
              "      <td>0.000000</td>\n",
              "    </tr>\n",
              "    <tr>\n",
              "      <th>43</th>\n",
              "      <td>0.000000</td>\n",
              "    </tr>\n",
              "  </tbody>\n",
              "</table>\n",
              "</div>"
            ],
            "text/plain": [
              "           0\n",
              "37  0.935282\n",
              "35  0.058544\n",
              "56  0.006175\n",
              "0   0.000000\n",
              "43  0.000000"
            ]
          },
          "metadata": {
            "tags": []
          },
          "execution_count": 105
        }
      ]
    },
    {
      "cell_type": "markdown",
      "metadata": {
        "id": "Bt9PrnC_pVD-"
      },
      "source": [
        "##Regressão por Árvore de Decisão com AdaBoost"
      ]
    },
    {
      "cell_type": "code",
      "metadata": {
        "id": "vyiqj_p8_ChS"
      },
      "source": [
        "modelo03 =  AdaBoostRegressor(tree.DecisionTreeRegressor(max_depth=4), loss='exponential',n_estimators=4, random_state=400).fit(anotreino,ranktreino.ravel())"
      ],
      "execution_count": 106,
      "outputs": []
    },
    {
      "cell_type": "code",
      "metadata": {
        "colab": {
          "base_uri": "https://localhost:8080/"
        },
        "id": "XahwPqXDpm5E",
        "outputId": "aeb9f3e8-9bc8-4848-f9bb-0aced44ce851"
      },
      "source": [
        "modelo03.score(anotreino,ranktreino)"
      ],
      "execution_count": 107,
      "outputs": [
        {
          "output_type": "execute_result",
          "data": {
            "text/plain": [
              "0.8891625615763546"
            ]
          },
          "metadata": {
            "tags": []
          },
          "execution_count": 107
        }
      ]
    },
    {
      "cell_type": "code",
      "metadata": {
        "colab": {
          "base_uri": "https://localhost:8080/"
        },
        "id": "Qp0tsWb6pm5F",
        "outputId": "a927f2a6-330f-40fe-a8a9-e4148c8925d6"
      },
      "source": [
        "modelo03.score(anoteste,rankteste)"
      ],
      "execution_count": 108,
      "outputs": [
        {
          "output_type": "execute_result",
          "data": {
            "text/plain": [
              "0.9489795918367349"
            ]
          },
          "metadata": {
            "tags": []
          },
          "execution_count": 108
        }
      ]
    },
    {
      "cell_type": "code",
      "metadata": {
        "colab": {
          "base_uri": "https://localhost:8080/"
        },
        "id": "ADzz3Daxpm5F",
        "outputId": "a3de4de0-4863-406c-84ee-047e89c4864a"
      },
      "source": [
        "rmsmodelo03 = RMSE(rankteste.ravel(), modelo03.predict(anoteste).ravel())\r\n",
        "rmsmodelo03"
      ],
      "execution_count": 109,
      "outputs": [
        {
          "output_type": "execute_result",
          "data": {
            "text/plain": [
              "0.1319362035368364"
            ]
          },
          "metadata": {
            "tags": []
          },
          "execution_count": 109
        }
      ]
    },
    {
      "cell_type": "code",
      "metadata": {
        "colab": {
          "base_uri": "https://localhost:8080/"
        },
        "id": "WcCFyuZ7pm5F",
        "outputId": "935ed9d9-5e59-4b24-b740-a22e1c898910"
      },
      "source": [
        "predicao03 = (modelo03.predict(anoteste))*rankstd+rankmedia\r\n",
        "predicao03.ravel()"
      ],
      "execution_count": 110,
      "outputs": [
        {
          "output_type": "execute_result",
          "data": {
            "text/plain": [
              "array([54., 37.])"
            ]
          },
          "metadata": {
            "tags": []
          },
          "execution_count": 110
        }
      ]
    },
    {
      "cell_type": "code",
      "metadata": {
        "colab": {
          "base_uri": "https://localhost:8080/",
          "height": 195
        },
        "id": "jGBYDifIpm5G",
        "outputId": "7240d97b-ca2e-4d85-ddd0-9f865d3af78e"
      },
      "source": [
        "importancia03a = pd.DataFrame((modelo03.feature_importances_))\r\n",
        "importancia03 = importancia03a.sort_values(by=0,ascending=False)\r\n",
        "importancia03.head()"
      ],
      "execution_count": 111,
      "outputs": [
        {
          "output_type": "execute_result",
          "data": {
            "text/html": [
              "<div>\n",
              "<style scoped>\n",
              "    .dataframe tbody tr th:only-of-type {\n",
              "        vertical-align: middle;\n",
              "    }\n",
              "\n",
              "    .dataframe tbody tr th {\n",
              "        vertical-align: top;\n",
              "    }\n",
              "\n",
              "    .dataframe thead th {\n",
              "        text-align: right;\n",
              "    }\n",
              "</style>\n",
              "<table border=\"1\" class=\"dataframe\">\n",
              "  <thead>\n",
              "    <tr style=\"text-align: right;\">\n",
              "      <th></th>\n",
              "      <th>0</th>\n",
              "    </tr>\n",
              "  </thead>\n",
              "  <tbody>\n",
              "    <tr>\n",
              "      <th>2</th>\n",
              "      <td>0.305600</td>\n",
              "    </tr>\n",
              "    <tr>\n",
              "      <th>45</th>\n",
              "      <td>0.276745</td>\n",
              "    </tr>\n",
              "    <tr>\n",
              "      <th>46</th>\n",
              "      <td>0.222966</td>\n",
              "    </tr>\n",
              "    <tr>\n",
              "      <th>52</th>\n",
              "      <td>0.172757</td>\n",
              "    </tr>\n",
              "    <tr>\n",
              "      <th>29</th>\n",
              "      <td>0.018597</td>\n",
              "    </tr>\n",
              "  </tbody>\n",
              "</table>\n",
              "</div>"
            ],
            "text/plain": [
              "           0\n",
              "2   0.305600\n",
              "45  0.276745\n",
              "46  0.222966\n",
              "52  0.172757\n",
              "29  0.018597"
            ]
          },
          "metadata": {
            "tags": []
          },
          "execution_count": 111
        }
      ]
    },
    {
      "cell_type": "code",
      "metadata": {
        "id": "J43t4vWwyyVK"
      },
      "source": [
        ""
      ],
      "execution_count": 111,
      "outputs": []
    },
    {
      "cell_type": "markdown",
      "metadata": {
        "id": "GEpmI3UUyyq0"
      },
      "source": [
        "##Regressão por AdaBoost"
      ]
    },
    {
      "cell_type": "code",
      "metadata": {
        "id": "HD9O4qR1yyq2"
      },
      "source": [
        "modelo04 =  AdaBoostRegressor(n_estimators=40).fit(anotreino,ranktreino.ravel())"
      ],
      "execution_count": 112,
      "outputs": []
    },
    {
      "cell_type": "code",
      "metadata": {
        "colab": {
          "base_uri": "https://localhost:8080/"
        },
        "id": "VWIKKJhWyyq4",
        "outputId": "026af498-011c-4fa1-d47c-e69f36409c03"
      },
      "source": [
        "modelo04.score(anotreino,ranktreino)"
      ],
      "execution_count": 113,
      "outputs": [
        {
          "output_type": "execute_result",
          "data": {
            "text/plain": [
              "1.0"
            ]
          },
          "metadata": {
            "tags": []
          },
          "execution_count": 113
        }
      ]
    },
    {
      "cell_type": "code",
      "metadata": {
        "colab": {
          "base_uri": "https://localhost:8080/"
        },
        "id": "D0vVfwMQyyq5",
        "outputId": "2eba6e07-6e98-4d4c-f01d-a23756ea6c6e"
      },
      "source": [
        "modelo04.score(anoteste,rankteste)"
      ],
      "execution_count": 114,
      "outputs": [
        {
          "output_type": "execute_result",
          "data": {
            "text/plain": [
              "0.9489795918367349"
            ]
          },
          "metadata": {
            "tags": []
          },
          "execution_count": 114
        }
      ]
    },
    {
      "cell_type": "code",
      "metadata": {
        "colab": {
          "base_uri": "https://localhost:8080/"
        },
        "id": "sux01kJ4yyq6",
        "outputId": "7c81ee80-f6ea-475b-ca47-df5df9d899d6"
      },
      "source": [
        "rmsmodelo04 = RMSE(rankteste.ravel(), modelo04.predict(anoteste).ravel())\r\n",
        "rmsmodelo04"
      ],
      "execution_count": 115,
      "outputs": [
        {
          "output_type": "execute_result",
          "data": {
            "text/plain": [
              "0.1319362035368364"
            ]
          },
          "metadata": {
            "tags": []
          },
          "execution_count": 115
        }
      ]
    },
    {
      "cell_type": "code",
      "metadata": {
        "colab": {
          "base_uri": "https://localhost:8080/"
        },
        "id": "sr_l8nIXyyq7",
        "outputId": "d99f8719-03a5-4250-8696-b64ab49c84d3"
      },
      "source": [
        "predicao04 = (modelo03.predict(anoteste))*rankstd+rankmedia\r\n",
        "predicao04.ravel()"
      ],
      "execution_count": 116,
      "outputs": [
        {
          "output_type": "execute_result",
          "data": {
            "text/plain": [
              "array([54., 37.])"
            ]
          },
          "metadata": {
            "tags": []
          },
          "execution_count": 116
        }
      ]
    },
    {
      "cell_type": "code",
      "metadata": {
        "colab": {
          "base_uri": "https://localhost:8080/",
          "height": 195
        },
        "id": "db9CtbDiyyq7",
        "outputId": "d26c4917-a152-4585-fc65-42dd5a0d0ede"
      },
      "source": [
        "importancia04a = pd.DataFrame((modelo04.feature_importances_))\r\n",
        "importancia04 = importancia04a.sort_values(by=0,ascending=False)\r\n",
        "importancia04.head()"
      ],
      "execution_count": 117,
      "outputs": [
        {
          "output_type": "execute_result",
          "data": {
            "text/html": [
              "<div>\n",
              "<style scoped>\n",
              "    .dataframe tbody tr th:only-of-type {\n",
              "        vertical-align: middle;\n",
              "    }\n",
              "\n",
              "    .dataframe tbody tr th {\n",
              "        vertical-align: top;\n",
              "    }\n",
              "\n",
              "    .dataframe thead th {\n",
              "        text-align: right;\n",
              "    }\n",
              "</style>\n",
              "<table border=\"1\" class=\"dataframe\">\n",
              "  <thead>\n",
              "    <tr style=\"text-align: right;\">\n",
              "      <th></th>\n",
              "      <th>0</th>\n",
              "    </tr>\n",
              "  </thead>\n",
              "  <tbody>\n",
              "    <tr>\n",
              "      <th>29</th>\n",
              "      <td>0.082999</td>\n",
              "    </tr>\n",
              "    <tr>\n",
              "      <th>37</th>\n",
              "      <td>0.068108</td>\n",
              "    </tr>\n",
              "    <tr>\n",
              "      <th>15</th>\n",
              "      <td>0.061632</td>\n",
              "    </tr>\n",
              "    <tr>\n",
              "      <th>26</th>\n",
              "      <td>0.057488</td>\n",
              "    </tr>\n",
              "    <tr>\n",
              "      <th>46</th>\n",
              "      <td>0.050358</td>\n",
              "    </tr>\n",
              "  </tbody>\n",
              "</table>\n",
              "</div>"
            ],
            "text/plain": [
              "           0\n",
              "29  0.082999\n",
              "37  0.068108\n",
              "15  0.061632\n",
              "26  0.057488\n",
              "46  0.050358"
            ]
          },
          "metadata": {
            "tags": []
          },
          "execution_count": 117
        }
      ]
    },
    {
      "cell_type": "markdown",
      "metadata": {
        "id": "bucfozGLtlsn"
      },
      "source": [
        "##Regressão com GradientBoosting"
      ]
    },
    {
      "cell_type": "code",
      "metadata": {
        "id": "NlZdQsVIte8u"
      },
      "source": [
        "modelo05 =  GradientBoostingRegressor(n_estimators=300).fit(anotreino,ranktreino.ravel())"
      ],
      "execution_count": 118,
      "outputs": []
    },
    {
      "cell_type": "code",
      "metadata": {
        "colab": {
          "base_uri": "https://localhost:8080/"
        },
        "id": "mpCdZE6Qte9C",
        "outputId": "dc74c728-9820-4ba8-badb-ae0a12b96565"
      },
      "source": [
        "modelo05.score(anotreino,ranktreino)"
      ],
      "execution_count": 119,
      "outputs": [
        {
          "output_type": "execute_result",
          "data": {
            "text/plain": [
              "0.9999999060685005"
            ]
          },
          "metadata": {
            "tags": []
          },
          "execution_count": 119
        }
      ]
    },
    {
      "cell_type": "code",
      "metadata": {
        "colab": {
          "base_uri": "https://localhost:8080/"
        },
        "id": "qxdWN8T5te9D",
        "outputId": "103cdd85-012b-4b8a-cf4f-c30da8efeebc"
      },
      "source": [
        "modelo05.score(anoteste,rankteste)"
      ],
      "execution_count": 120,
      "outputs": [
        {
          "output_type": "execute_result",
          "data": {
            "text/plain": [
              "0.9053577467545587"
            ]
          },
          "metadata": {
            "tags": []
          },
          "execution_count": 120
        }
      ]
    },
    {
      "cell_type": "code",
      "metadata": {
        "colab": {
          "base_uri": "https://localhost:8080/"
        },
        "id": "P3ChyjY7te9E",
        "outputId": "e8f3bfb3-eb17-4497-d558-b11e10fac131"
      },
      "source": [
        "rmsmodelo05 = RMSE(rankteste.ravel(), modelo05.predict(anoteste).ravel())\r\n",
        "rmsmodelo05"
      ],
      "execution_count": 121,
      "outputs": [
        {
          "output_type": "execute_result",
          "data": {
            "text/plain": [
              "0.17969440477639811"
            ]
          },
          "metadata": {
            "tags": []
          },
          "execution_count": 121
        }
      ]
    },
    {
      "cell_type": "code",
      "metadata": {
        "colab": {
          "base_uri": "https://localhost:8080/"
        },
        "id": "CZ-nOX9Vte9E",
        "outputId": "53f6dbb4-6f2e-49a2-b9cf-a4032e514be4"
      },
      "source": [
        "predicao05 = (modelo05.predict(anoteste))*rankstd+rankmedia\r\n",
        "predicao05.ravel()"
      ],
      "execution_count": 122,
      "outputs": [
        {
          "output_type": "execute_result",
          "data": {
            "text/plain": [
              "array([51.80776161, 36.19758881])"
            ]
          },
          "metadata": {
            "tags": []
          },
          "execution_count": 122
        }
      ]
    },
    {
      "cell_type": "code",
      "metadata": {
        "colab": {
          "base_uri": "https://localhost:8080/",
          "height": 195
        },
        "id": "1gi5Mcwwte9E",
        "outputId": "25fa59a3-cdeb-448f-e9d0-a7d146581775"
      },
      "source": [
        "importancia05a = pd.DataFrame((modelo05.feature_importances_))\r\n",
        "importancia05 = importancia05a.sort_values(by=0,ascending=False)\r\n",
        "importancia05.head()"
      ],
      "execution_count": 123,
      "outputs": [
        {
          "output_type": "execute_result",
          "data": {
            "text/html": [
              "<div>\n",
              "<style scoped>\n",
              "    .dataframe tbody tr th:only-of-type {\n",
              "        vertical-align: middle;\n",
              "    }\n",
              "\n",
              "    .dataframe tbody tr th {\n",
              "        vertical-align: top;\n",
              "    }\n",
              "\n",
              "    .dataframe thead th {\n",
              "        text-align: right;\n",
              "    }\n",
              "</style>\n",
              "<table border=\"1\" class=\"dataframe\">\n",
              "  <thead>\n",
              "    <tr style=\"text-align: right;\">\n",
              "      <th></th>\n",
              "      <th>0</th>\n",
              "    </tr>\n",
              "  </thead>\n",
              "  <tbody>\n",
              "    <tr>\n",
              "      <th>49</th>\n",
              "      <td>0.429088</td>\n",
              "    </tr>\n",
              "    <tr>\n",
              "      <th>29</th>\n",
              "      <td>0.239168</td>\n",
              "    </tr>\n",
              "    <tr>\n",
              "      <th>37</th>\n",
              "      <td>0.145746</td>\n",
              "    </tr>\n",
              "    <tr>\n",
              "      <th>47</th>\n",
              "      <td>0.087572</td>\n",
              "    </tr>\n",
              "    <tr>\n",
              "      <th>46</th>\n",
              "      <td>0.031195</td>\n",
              "    </tr>\n",
              "  </tbody>\n",
              "</table>\n",
              "</div>"
            ],
            "text/plain": [
              "           0\n",
              "49  0.429088\n",
              "29  0.239168\n",
              "37  0.145746\n",
              "47  0.087572\n",
              "46  0.031195"
            ]
          },
          "metadata": {
            "tags": []
          },
          "execution_count": 123
        }
      ]
    },
    {
      "cell_type": "markdown",
      "metadata": {
        "id": "y7I3F2E8C-EQ"
      },
      "source": [
        "##Regressão por Bagging"
      ]
    },
    {
      "cell_type": "code",
      "metadata": {
        "id": "O0ft3AOZ2vty"
      },
      "source": [
        "modelo06 =  BaggingRegressor(n_estimators=300).fit(anotreino,ranktreino.ravel())"
      ],
      "execution_count": 124,
      "outputs": []
    },
    {
      "cell_type": "code",
      "metadata": {
        "colab": {
          "base_uri": "https://localhost:8080/"
        },
        "id": "ljP9rMZQ2vty",
        "outputId": "1d11d7e1-556a-488a-d5ac-4addf1b104f4"
      },
      "source": [
        "modelo06.score(anotreino,ranktreino)"
      ],
      "execution_count": 125,
      "outputs": [
        {
          "output_type": "execute_result",
          "data": {
            "text/plain": [
              "0.812289728151798"
            ]
          },
          "metadata": {
            "tags": []
          },
          "execution_count": 125
        }
      ]
    },
    {
      "cell_type": "code",
      "metadata": {
        "colab": {
          "base_uri": "https://localhost:8080/"
        },
        "id": "2BZH9ZcT2vtz",
        "outputId": "d814dcbe-9c9c-447f-e628-1323e51f07fb"
      },
      "source": [
        "modelo06.score(anoteste,rankteste)"
      ],
      "execution_count": 126,
      "outputs": [
        {
          "output_type": "execute_result",
          "data": {
            "text/plain": [
              "0.3255128117913828"
            ]
          },
          "metadata": {
            "tags": []
          },
          "execution_count": 126
        }
      ]
    },
    {
      "cell_type": "code",
      "metadata": {
        "colab": {
          "base_uri": "https://localhost:8080/"
        },
        "id": "8utPOfwh2vt0",
        "outputId": "815be031-3bf4-4d73-ab7e-d9e12adddab9"
      },
      "source": [
        "rmsmodelo06 = RMSE(rankteste.ravel(), modelo06.predict(anoteste).ravel())\r\n",
        "rmsmodelo06"
      ],
      "execution_count": 127,
      "outputs": [
        {
          "output_type": "execute_result",
          "data": {
            "text/plain": [
              "0.4797101096972128"
            ]
          },
          "metadata": {
            "tags": []
          },
          "execution_count": 127
        }
      ]
    },
    {
      "cell_type": "code",
      "metadata": {
        "colab": {
          "base_uri": "https://localhost:8080/"
        },
        "id": "zT_67k8o2vt0",
        "outputId": "42b11cc9-e796-4bbe-f48d-4cf3130fce5f"
      },
      "source": [
        "predicao06 = (modelo06.predict(anoteste))*rankstd+rankmedia\r\n",
        "predicao06.ravel()"
      ],
      "execution_count": 128,
      "outputs": [
        {
          "output_type": "execute_result",
          "data": {
            "text/plain": [
              "array([44.87      , 38.94666667])"
            ]
          },
          "metadata": {
            "tags": []
          },
          "execution_count": 128
        }
      ]
    },
    {
      "cell_type": "markdown",
      "metadata": {
        "id": "7iROb4O4FYqe"
      },
      "source": [
        "##Regressão por Random Forrest"
      ]
    },
    {
      "cell_type": "code",
      "metadata": {
        "id": "F5VDAyo232w5"
      },
      "source": [
        "modelo07 =  RandomForestRegressor(n_estimators=160).fit(anotreino,ranktreino.ravel())"
      ],
      "execution_count": 129,
      "outputs": []
    },
    {
      "cell_type": "code",
      "metadata": {
        "colab": {
          "base_uri": "https://localhost:8080/"
        },
        "id": "-VRA7LjY32w6",
        "outputId": "e3e1d5ef-fb2d-448b-9413-4e128cac38f9"
      },
      "source": [
        "modelo07.score(anotreino,ranktreino)"
      ],
      "execution_count": 130,
      "outputs": [
        {
          "output_type": "execute_result",
          "data": {
            "text/plain": [
              "0.8241439710762176"
            ]
          },
          "metadata": {
            "tags": []
          },
          "execution_count": 130
        }
      ]
    },
    {
      "cell_type": "code",
      "metadata": {
        "colab": {
          "base_uri": "https://localhost:8080/"
        },
        "id": "2C_XSBXu32w7",
        "outputId": "e18df216-3ea2-402d-8708-05e97b21dbaf"
      },
      "source": [
        "modelo07.score(anoteste,rankteste)"
      ],
      "execution_count": 131,
      "outputs": [
        {
          "output_type": "execute_result",
          "data": {
            "text/plain": [
              "0.30460738201530724"
            ]
          },
          "metadata": {
            "tags": []
          },
          "execution_count": 131
        }
      ]
    },
    {
      "cell_type": "code",
      "metadata": {
        "colab": {
          "base_uri": "https://localhost:8080/"
        },
        "id": "KDPu04Re32w8",
        "outputId": "c3dc3c0e-0c4c-49c6-e1a1-6911fc4dee96"
      },
      "source": [
        "rmsmodelo07 = RMSE(rankteste.ravel(), modelo07.predict(anoteste).ravel())\r\n",
        "rmsmodelo07"
      ],
      "execution_count": 132,
      "outputs": [
        {
          "output_type": "execute_result",
          "data": {
            "text/plain": [
              "0.48708758107757477"
            ]
          },
          "metadata": {
            "tags": []
          },
          "execution_count": 132
        }
      ]
    },
    {
      "cell_type": "code",
      "metadata": {
        "colab": {
          "base_uri": "https://localhost:8080/"
        },
        "id": "T--y2Y6632w9",
        "outputId": "2fae8aa9-3766-40aa-9031-cd54c17290e3"
      },
      "source": [
        "predicao07 = (modelo07.predict(anoteste))*rankstd+rankmedia\r\n",
        "predicao07.ravel()"
      ],
      "execution_count": 133,
      "outputs": [
        {
          "output_type": "execute_result",
          "data": {
            "text/plain": [
              "array([44.78125, 38.225  ])"
            ]
          },
          "metadata": {
            "tags": []
          },
          "execution_count": 133
        }
      ]
    },
    {
      "cell_type": "code",
      "metadata": {
        "colab": {
          "base_uri": "https://localhost:8080/",
          "height": 195
        },
        "id": "Gbu7zSEy32w-",
        "outputId": "ee0d966f-a9bf-4c44-afe4-2e4e9f25d15f"
      },
      "source": [
        "importancia07a = pd.DataFrame((modelo07.feature_importances_))\r\n",
        "importancia07 = importancia07a.sort_values(by=0,ascending=False)\r\n",
        "importancia07.head()"
      ],
      "execution_count": 134,
      "outputs": [
        {
          "output_type": "execute_result",
          "data": {
            "text/html": [
              "<div>\n",
              "<style scoped>\n",
              "    .dataframe tbody tr th:only-of-type {\n",
              "        vertical-align: middle;\n",
              "    }\n",
              "\n",
              "    .dataframe tbody tr th {\n",
              "        vertical-align: top;\n",
              "    }\n",
              "\n",
              "    .dataframe thead th {\n",
              "        text-align: right;\n",
              "    }\n",
              "</style>\n",
              "<table border=\"1\" class=\"dataframe\">\n",
              "  <thead>\n",
              "    <tr style=\"text-align: right;\">\n",
              "      <th></th>\n",
              "      <th>0</th>\n",
              "    </tr>\n",
              "  </thead>\n",
              "  <tbody>\n",
              "    <tr>\n",
              "      <th>37</th>\n",
              "      <td>0.082225</td>\n",
              "    </tr>\n",
              "    <tr>\n",
              "      <th>46</th>\n",
              "      <td>0.066427</td>\n",
              "    </tr>\n",
              "    <tr>\n",
              "      <th>29</th>\n",
              "      <td>0.058254</td>\n",
              "    </tr>\n",
              "    <tr>\n",
              "      <th>47</th>\n",
              "      <td>0.057886</td>\n",
              "    </tr>\n",
              "    <tr>\n",
              "      <th>44</th>\n",
              "      <td>0.042298</td>\n",
              "    </tr>\n",
              "  </tbody>\n",
              "</table>\n",
              "</div>"
            ],
            "text/plain": [
              "           0\n",
              "37  0.082225\n",
              "46  0.066427\n",
              "29  0.058254\n",
              "47  0.057886\n",
              "44  0.042298"
            ]
          },
          "metadata": {
            "tags": []
          },
          "execution_count": 134
        }
      ]
    },
    {
      "cell_type": "markdown",
      "metadata": {
        "id": "6HcxkF8s5mDs"
      },
      "source": [
        "##Regressão por Support Vector Regressor - Kernel RBF"
      ]
    },
    {
      "cell_type": "code",
      "metadata": {
        "id": "BwCAGGXT5mD7"
      },
      "source": [
        "modelo08 =  SVR(kernel='rbf', C=4).fit(anotreino,ranktreino.ravel())"
      ],
      "execution_count": 135,
      "outputs": []
    },
    {
      "cell_type": "code",
      "metadata": {
        "colab": {
          "base_uri": "https://localhost:8080/"
        },
        "id": "YVmT3mul5mD8",
        "outputId": "3774fc81-5c71-48ff-f30b-2a52db3293a4"
      },
      "source": [
        "modelo08.score(anotreino,ranktreino)"
      ],
      "execution_count": 136,
      "outputs": [
        {
          "output_type": "execute_result",
          "data": {
            "text/plain": [
              "0.9901571764140344"
            ]
          },
          "metadata": {
            "tags": []
          },
          "execution_count": 136
        }
      ]
    },
    {
      "cell_type": "code",
      "metadata": {
        "colab": {
          "base_uri": "https://localhost:8080/"
        },
        "id": "6KZefexg5mD9",
        "outputId": "1d93d402-b7af-4168-fa33-426a14422c71"
      },
      "source": [
        "modelo08.score(anoteste,rankteste)"
      ],
      "execution_count": 137,
      "outputs": [
        {
          "output_type": "execute_result",
          "data": {
            "text/plain": [
              "0.14471751980583203"
            ]
          },
          "metadata": {
            "tags": []
          },
          "execution_count": 137
        }
      ]
    },
    {
      "cell_type": "code",
      "metadata": {
        "colab": {
          "base_uri": "https://localhost:8080/"
        },
        "id": "DI3B-iuW5mD9",
        "outputId": "6874160f-cddc-4c74-b76c-842793d07418"
      },
      "source": [
        "rmsmodelo08 = RMSE(rankteste.ravel(), modelo08.predict(anoteste).ravel())\r\n",
        "rmsmodelo08"
      ],
      "execution_count": 138,
      "outputs": [
        {
          "output_type": "execute_result",
          "data": {
            "text/plain": [
              "0.540190331461215"
            ]
          },
          "metadata": {
            "tags": []
          },
          "execution_count": 138
        }
      ]
    },
    {
      "cell_type": "code",
      "metadata": {
        "colab": {
          "base_uri": "https://localhost:8080/"
        },
        "id": "QwzTzgHZ5mD-",
        "outputId": "c2354816-d326-4caa-b300-30058013ad2f"
      },
      "source": [
        "predicao08 = (modelo08.predict(anoteste))*rankstd+rankmedia\r\n",
        "predicao08.ravel()"
      ],
      "execution_count": 139,
      "outputs": [
        {
          "output_type": "execute_result",
          "data": {
            "text/plain": [
              "array([43.92770857, 37.77068662])"
            ]
          },
          "metadata": {
            "tags": []
          },
          "execution_count": 139
        }
      ]
    },
    {
      "cell_type": "markdown",
      "metadata": {
        "id": "YtyYdV515nU7"
      },
      "source": [
        "##Regressão por Support Vector Regressor - Kernel Linear"
      ]
    },
    {
      "cell_type": "code",
      "metadata": {
        "id": "yDD0EMWz5nU7"
      },
      "source": [
        "modelo09 =  SVR(kernel='linear', C=200, gamma='auto').fit(anotreino,ranktreino.ravel())"
      ],
      "execution_count": 140,
      "outputs": []
    },
    {
      "cell_type": "code",
      "metadata": {
        "colab": {
          "base_uri": "https://localhost:8080/"
        },
        "id": "DG1TWYXc5nU8",
        "outputId": "f5109a06-e49d-4815-a44b-c4c046124c8f"
      },
      "source": [
        "modelo09.score(anotreino,ranktreino)"
      ],
      "execution_count": 141,
      "outputs": [
        {
          "output_type": "execute_result",
          "data": {
            "text/plain": [
              "0.9901686520518388"
            ]
          },
          "metadata": {
            "tags": []
          },
          "execution_count": 141
        }
      ]
    },
    {
      "cell_type": "code",
      "metadata": {
        "colab": {
          "base_uri": "https://localhost:8080/"
        },
        "id": "LDp_OS-t5nU9",
        "outputId": "eb7cddaf-961d-4398-883e-fedd7765944d"
      },
      "source": [
        "modelo09.score(anoteste,rankteste)"
      ],
      "execution_count": 142,
      "outputs": [
        {
          "output_type": "execute_result",
          "data": {
            "text/plain": [
              "0.6126893919925578"
            ]
          },
          "metadata": {
            "tags": []
          },
          "execution_count": 142
        }
      ]
    },
    {
      "cell_type": "code",
      "metadata": {
        "colab": {
          "base_uri": "https://localhost:8080/"
        },
        "id": "qVVLSn7a5nU9",
        "outputId": "2b368340-d008-4eb6-e219-1584f54764d3"
      },
      "source": [
        "rmsmodelo09 = RMSE(rankteste.ravel(), modelo09.predict(anoteste).ravel())\r\n",
        "rmsmodelo09"
      ],
      "execution_count": 143,
      "outputs": [
        {
          "output_type": "execute_result",
          "data": {
            "text/plain": [
              "0.36351447986132845"
            ]
          },
          "metadata": {
            "tags": []
          },
          "execution_count": 143
        }
      ]
    },
    {
      "cell_type": "code",
      "metadata": {
        "colab": {
          "base_uri": "https://localhost:8080/"
        },
        "id": "e6HjkAfM5nU-",
        "outputId": "597fb847-9813-4f8b-ceba-7eb70a45bf50"
      },
      "source": [
        "predicao09 = (modelo09.predict(anoteste))*rankstd+rankmedia\r\n",
        "predicao09.ravel()"
      ],
      "execution_count": 144,
      "outputs": [
        {
          "output_type": "execute_result",
          "data": {
            "text/plain": [
              "array([47.47406691, 36.27593997])"
            ]
          },
          "metadata": {
            "tags": []
          },
          "execution_count": 144
        }
      ]
    },
    {
      "cell_type": "code",
      "metadata": {
        "colab": {
          "base_uri": "https://localhost:8080/",
          "height": 195
        },
        "id": "P2DOAKl95nU-",
        "outputId": "a94b57fd-d231-49ea-bf91-55dbfd9f9d5f"
      },
      "source": [
        "importancia09a = pd.DataFrame(modelo09.coef_).T\r\n",
        "importancia09 = importancia09a.sort_values(by=0,ascending=False)\r\n",
        "importancia09.head()"
      ],
      "execution_count": 145,
      "outputs": [
        {
          "output_type": "execute_result",
          "data": {
            "text/html": [
              "<div>\n",
              "<style scoped>\n",
              "    .dataframe tbody tr th:only-of-type {\n",
              "        vertical-align: middle;\n",
              "    }\n",
              "\n",
              "    .dataframe tbody tr th {\n",
              "        vertical-align: top;\n",
              "    }\n",
              "\n",
              "    .dataframe thead th {\n",
              "        text-align: right;\n",
              "    }\n",
              "</style>\n",
              "<table border=\"1\" class=\"dataframe\">\n",
              "  <thead>\n",
              "    <tr style=\"text-align: right;\">\n",
              "      <th></th>\n",
              "      <th>0</th>\n",
              "    </tr>\n",
              "  </thead>\n",
              "  <tbody>\n",
              "    <tr>\n",
              "      <th>8</th>\n",
              "      <td>0.098491</td>\n",
              "    </tr>\n",
              "    <tr>\n",
              "      <th>37</th>\n",
              "      <td>0.084941</td>\n",
              "    </tr>\n",
              "    <tr>\n",
              "      <th>50</th>\n",
              "      <td>0.080283</td>\n",
              "    </tr>\n",
              "    <tr>\n",
              "      <th>30</th>\n",
              "      <td>0.075869</td>\n",
              "    </tr>\n",
              "    <tr>\n",
              "      <th>40</th>\n",
              "      <td>0.064908</td>\n",
              "    </tr>\n",
              "  </tbody>\n",
              "</table>\n",
              "</div>"
            ],
            "text/plain": [
              "           0\n",
              "8   0.098491\n",
              "37  0.084941\n",
              "50  0.080283\n",
              "30  0.075869\n",
              "40  0.064908"
            ]
          },
          "metadata": {
            "tags": []
          },
          "execution_count": 145
        }
      ]
    },
    {
      "cell_type": "code",
      "metadata": {
        "id": "pUj7kYSs5oSA"
      },
      "source": [
        ""
      ],
      "execution_count": 145,
      "outputs": []
    },
    {
      "cell_type": "markdown",
      "metadata": {
        "id": "9eqEm_495opB"
      },
      "source": [
        "##Regressão por Support Vector Regressor - Kernel Polynomial"
      ]
    },
    {
      "cell_type": "code",
      "metadata": {
        "id": "JK1ksqbL5opB"
      },
      "source": [
        "modelo10 =  SVR(kernel='poly', C=100, gamma='auto', degree=3, epsilon=.1, coef0=1).fit(anotreino,ranktreino.ravel())"
      ],
      "execution_count": 146,
      "outputs": []
    },
    {
      "cell_type": "code",
      "metadata": {
        "colab": {
          "base_uri": "https://localhost:8080/"
        },
        "id": "2zbCR2Zi5opC",
        "outputId": "fac0c713-d00d-4c01-f243-1bb468444df7"
      },
      "source": [
        "modelo10.score(anotreino,ranktreino)"
      ],
      "execution_count": 147,
      "outputs": [
        {
          "output_type": "execute_result",
          "data": {
            "text/plain": [
              "0.9901830755602106"
            ]
          },
          "metadata": {
            "tags": []
          },
          "execution_count": 147
        }
      ]
    },
    {
      "cell_type": "code",
      "metadata": {
        "colab": {
          "base_uri": "https://localhost:8080/"
        },
        "id": "NCN9DIK-5opC",
        "outputId": "2e212b13-008a-4829-e5cc-2fc98beb48b6"
      },
      "source": [
        "modelo10.score(anoteste,rankteste)"
      ],
      "execution_count": 148,
      "outputs": [
        {
          "output_type": "execute_result",
          "data": {
            "text/plain": [
              "0.7330552864367361"
            ]
          },
          "metadata": {
            "tags": []
          },
          "execution_count": 148
        }
      ]
    },
    {
      "cell_type": "code",
      "metadata": {
        "colab": {
          "base_uri": "https://localhost:8080/"
        },
        "id": "DXBgWfoV5opC",
        "outputId": "ab2b6b52-cdc4-472a-9c0b-b5fa67f0c1c8"
      },
      "source": [
        "rmsmodelo10 = RMSE(rankteste.ravel(), modelo10.predict(anoteste).ravel())\r\n",
        "rmsmodelo10"
      ],
      "execution_count": 149,
      "outputs": [
        {
          "output_type": "execute_result",
          "data": {
            "text/plain": [
              "0.3017884963085526"
            ]
          },
          "metadata": {
            "tags": []
          },
          "execution_count": 149
        }
      ]
    },
    {
      "cell_type": "code",
      "metadata": {
        "colab": {
          "base_uri": "https://localhost:8080/"
        },
        "id": "-rraydSD5opD",
        "outputId": "449436af-f08b-46ec-a0db-e5cf37580e95"
      },
      "source": [
        "predicao10 = (modelo10.predict(anoteste))*rankstd+rankmedia\r\n",
        "predicao10.ravel()"
      ],
      "execution_count": 150,
      "outputs": [
        {
          "output_type": "execute_result",
          "data": {
            "text/plain": [
              "array([48.90240883, 42.06109924])"
            ]
          },
          "metadata": {
            "tags": []
          },
          "execution_count": 150
        }
      ]
    },
    {
      "cell_type": "code",
      "metadata": {
        "colab": {
          "base_uri": "https://localhost:8080/",
          "height": 195
        },
        "id": "59rgGc_fmdLd",
        "outputId": "974c9fb8-24f9-41e8-d23a-1d74a28d04be"
      },
      "source": [
        "mapa.head()"
      ],
      "execution_count": 180,
      "outputs": [
        {
          "output_type": "execute_result",
          "data": {
            "text/html": [
              "<div>\n",
              "<style scoped>\n",
              "    .dataframe tbody tr th:only-of-type {\n",
              "        vertical-align: middle;\n",
              "    }\n",
              "\n",
              "    .dataframe tbody tr th {\n",
              "        vertical-align: top;\n",
              "    }\n",
              "\n",
              "    .dataframe thead th {\n",
              "        text-align: right;\n",
              "    }\n",
              "</style>\n",
              "<table border=\"1\" class=\"dataframe\">\n",
              "  <thead>\n",
              "    <tr style=\"text-align: right;\">\n",
              "      <th></th>\n",
              "      <th>Variavel</th>\n",
              "      <th>Descricao</th>\n",
              "    </tr>\n",
              "  </thead>\n",
              "  <tbody>\n",
              "    <tr>\n",
              "      <th>0</th>\n",
              "      <td>ano</td>\n",
              "      <td>Ano-Base</td>\n",
              "    </tr>\n",
              "    <tr>\n",
              "      <th>1</th>\n",
              "      <td>v01</td>\n",
              "      <td>Oferta Energia Renovavel - Hidraulica(%)</td>\n",
              "    </tr>\n",
              "    <tr>\n",
              "      <th>2</th>\n",
              "      <td>v02</td>\n",
              "      <td>Oferta Energia Renovavel - Biomassa(%)</td>\n",
              "    </tr>\n",
              "    <tr>\n",
              "      <th>3</th>\n",
              "      <td>v03</td>\n",
              "      <td>Oferta Energia Renovavel - Eolica(%)</td>\n",
              "    </tr>\n",
              "    <tr>\n",
              "      <th>4</th>\n",
              "      <td>v04</td>\n",
              "      <td>Oferta Energia Renovavel - Solar(%)</td>\n",
              "    </tr>\n",
              "  </tbody>\n",
              "</table>\n",
              "</div>"
            ],
            "text/plain": [
              "  Variavel                                 Descricao\n",
              "0      ano                                  Ano-Base\n",
              "1      v01  Oferta Energia Renovavel - Hidraulica(%)\n",
              "2      v02    Oferta Energia Renovavel - Biomassa(%)\n",
              "3      v03      Oferta Energia Renovavel - Eolica(%)\n",
              "4      v04       Oferta Energia Renovavel - Solar(%)"
            ]
          },
          "metadata": {
            "tags": []
          },
          "execution_count": 180
        }
      ]
    },
    {
      "cell_type": "code",
      "metadata": {
        "id": "SuYL6cyqnDPN"
      },
      "source": [
        "rank01=pd.DataFrame(modelo01.predict(UC1n.iloc[:,0:58]))*rankstd+rankmedia\r\n",
        "rank02=pd.DataFrame(modelo02.predict(UC1n.iloc[:,0:58]))*rankstd+rankmedia\r\n",
        "rank03=pd.DataFrame(modelo03.predict(UC1n.iloc[:,0:58]))*rankstd+rankmedia\r\n",
        "rank04=pd.DataFrame(modelo04.predict(UC1n.iloc[:,0:58]))*rankstd+rankmedia\r\n",
        "rank05=pd.DataFrame(modelo05.predict(UC1n.iloc[:,0:58]))*rankstd+rankmedia\r\n",
        "rank06=pd.DataFrame(modelo06.predict(UC1n.iloc[:,0:58]))*rankstd+rankmedia\r\n",
        "rank07=pd.DataFrame(modelo07.predict(UC1n.iloc[:,0:58]))*rankstd+rankmedia\r\n",
        "rank08=pd.DataFrame(modelo08.predict(UC1n.iloc[:,0:58]))*rankstd+rankmedia\r\n",
        "rank09=pd.DataFrame(modelo09.predict(UC1n.iloc[:,0:58]))*rankstd+rankmedia\r\n",
        "rank10=pd.DataFrame(modelo10.predict(UC1n.iloc[:,0:58]))*rankstd+rankmedia"
      ],
      "execution_count": 195,
      "outputs": []
    },
    {
      "cell_type": "markdown",
      "metadata": {
        "id": "jyzZQcIaApwZ"
      },
      "source": [
        "#Evaluation"
      ]
    },
    {
      "cell_type": "markdown",
      "metadata": {
        "id": "IaLZJXNRBNV8"
      },
      "source": [
        "##Análise de gráficos das regressões por Machine Learning"
      ]
    },
    {
      "cell_type": "code",
      "metadata": {
        "colab": {
          "base_uri": "https://localhost:8080/",
          "height": 348
        },
        "id": "joSrEjT3BkTk",
        "outputId": "d7f2be5e-9a95-4565-de00-dd891e2ed2d9"
      },
      "source": [
        "#Gráfico de evolução eventos na rede\r\n",
        "plt.figure(figsize=(10, 5))\r\n",
        "plt.title('Brasil no Trilemma Ranking')\r\n",
        "plt.xlabel('Ano')\r\n",
        "plt.ylabel('Posição')\r\n",
        "for x,y in zip(UC1['ano'],UC1['rank']):\r\n",
        "\r\n",
        "    label = \"{:.2f}\".format(y)\r\n",
        "\r\n",
        "    plt.annotate(label, # this is the text\r\n",
        "                 (x,y), # this is the point to label\r\n",
        "                 textcoords=\"offset points\", # how to position the text\r\n",
        "                 xytext=(0,20),\r\n",
        "                 fontsize=10,# distance from text to points (x,y)\r\n",
        "                 ha='center') # horizontal alignment can be left, right or center\r\n",
        "plt.plot(UC1['ano'],UC1['rank'], marker='o',label='Dados Originais')\r\n",
        "for x,y in zip(UC1['ano'],rank01[0]):\r\n",
        "\r\n",
        "    labely = \"{:.2f}\".format(y)\r\n",
        "    plt.annotate(labely, # this is the text\r\n",
        "                 (x,y), # this is the point to label\r\n",
        "                 textcoords=\"offset points\", # how to position the text\r\n",
        "                 xytext=(0,-20),\r\n",
        "                 fontsize=10,# distance from text to points (x,y)\r\n",
        "                 ha='center') # horizontal alignment can be left, right or center\r\n",
        "plt.plot(UC1['ano'],rank01[0], marker='o',label='Regressão Multivariável')\r\n",
        "plt.xticks(UC1['ano'])\r\n",
        "plt.ylim([0,100])\r\n",
        "#plt.grid()\r\n",
        "plt.legend()\r\n",
        "plt.tight_layout()\r\n",
        "plt.savefig('/content/IT305G/g01.jpg', format='jpg', dpi=600)\r\n"
      ],
      "execution_count": 197,
      "outputs": [
        {
          "output_type": "display_data",
          "data": {
            "image/png": "[encoded data removed]",
            "text/plain": [
              "<Figure size 720x360 with 1 Axes>"
            ]
          },
          "metadata": {
            "tags": []
          }
        }
      ]
    },
    {
      "cell_type": "code",
      "metadata": {
        "id": "O7R47XZQuAZI"
      },
      "source": [
        ""
      ],
      "execution_count": null,
      "outputs": []
    },
    {
      "cell_type": "code",
      "metadata": {
        "colab": {
          "base_uri": "https://localhost:8080/",
          "height": 348
        },
        "id": "TsaRfDBUuAyl",
        "outputId": "c00461ec-478e-4a21-8c7b-5144743b2223"
      },
      "source": [
        "#Gráfico de evolução eventos na rede\r\n",
        "plt.figure(figsize=(10, 5))\r\n",
        "plt.title('Brasil no Trilemma Ranking')\r\n",
        "plt.xlabel('Ano')\r\n",
        "plt.ylabel('Posição')\r\n",
        "for x,y in zip(UC1['ano'],UC1['rank']):\r\n",
        "\r\n",
        "    label = \"{:.2f}\".format(y)\r\n",
        "\r\n",
        "    plt.annotate(label, # this is the text\r\n",
        "                 (x,y), # this is the point to label\r\n",
        "                 textcoords=\"offset points\", # how to position the text\r\n",
        "                 xytext=(0,20),\r\n",
        "                 fontsize=10,# distance from text to points (x,y)\r\n",
        "                 ha='center') # horizontal alignment can be left, right or center\r\n",
        "plt.plot(UC1['ano'],UC1['rank'], marker='o',label='Dados Originais')\r\n",
        "for x,y in zip(UC1['ano'],rank02[0]):\r\n",
        "\r\n",
        "    labely = \"{:.2f}\".format(y)\r\n",
        "    plt.annotate(labely, # this is the text\r\n",
        "                 (x,y), # this is the point to label\r\n",
        "                 textcoords=\"offset points\", # how to position the text\r\n",
        "                 xytext=(0,-20),\r\n",
        "                 fontsize=10,# distance from text to points (x,y)\r\n",
        "                 ha='center') # horizontal alignment can be left, right or center\r\n",
        "plt.plot(UC1['ano'],rank02[0], marker='o',label='Regressão por Árvore de Decisão')\r\n",
        "plt.xticks(UC1['ano'])\r\n",
        "plt.ylim([0,100])\r\n",
        "#plt.grid()\r\n",
        "plt.legend()\r\n",
        "plt.tight_layout()\r\n",
        "plt.savefig('/content/IT305G/g02.jpg', format='jpg', dpi=600)\r\n"
      ],
      "execution_count": 198,
      "outputs": [
        {
          "output_type": "display_data",
          "data": {
            "image/png": "[encoded data removed]",
            "text/plain": [
              "<Figure size 720x360 with 1 Axes>"
            ]
          },
          "metadata": {
            "tags": []
          }
        }
      ]
    },
    {
      "cell_type": "code",
      "metadata": {
        "colab": {
          "base_uri": "https://localhost:8080/",
          "height": 348
        },
        "id": "h_47mxxjuczN",
        "outputId": "48a78fd1-5f9c-4541-85ac-636db5906b7b"
      },
      "source": [
        "#Gráfico de evolução eventos na rede\r\n",
        "plt.figure(figsize=(10, 5))\r\n",
        "plt.title('Brasil no Trilemma Ranking')\r\n",
        "plt.xlabel('Ano')\r\n",
        "plt.ylabel('Posição')\r\n",
        "for x,y in zip(UC1['ano'],UC1['rank']):\r\n",
        "\r\n",
        "    label = \"{:.2f}\".format(y)\r\n",
        "\r\n",
        "    plt.annotate(label, # this is the text\r\n",
        "                 (x,y), # this is the point to label\r\n",
        "                 textcoords=\"offset points\", # how to position the text\r\n",
        "                 xytext=(0,20),\r\n",
        "                 fontsize=10,# distance from text to points (x,y)\r\n",
        "                 ha='center') # horizontal alignment can be left, right or center\r\n",
        "plt.plot(UC1['ano'],UC1['rank'], marker='o',label='Dados Originais')\r\n",
        "for x,y in zip(UC1['ano'],rank03[0]):\r\n",
        "\r\n",
        "    labely = \"{:.2f}\".format(y)\r\n",
        "    plt.annotate(labely, # this is the text\r\n",
        "                 (x,y), # this is the point to label\r\n",
        "                 textcoords=\"offset points\", # how to position the text\r\n",
        "                 xytext=(0,-20),\r\n",
        "                 fontsize=10,# distance from text to points (x,y)\r\n",
        "                 ha='center') # horizontal alignment can be left, right or center\r\n",
        "plt.plot(UC1['ano'],rank03[0], marker='o',label='Regressão por Árvore de Decisão com Adaboost')\r\n",
        "plt.xticks(UC1['ano'])\r\n",
        "plt.ylim([0,100])\r\n",
        "#plt.grid()\r\n",
        "plt.legend()\r\n",
        "plt.tight_layout()\r\n",
        "plt.savefig('/content/IT305G/g03.jpg', format='jpg', dpi=600)\r\n"
      ],
      "execution_count": 199,
      "outputs": [
        {
          "output_type": "display_data",
          "data": {
            "image/png": "[encoded data removed]",
            "text/plain": [
              "<Figure size 720x360 with 1 Axes>"
            ]
          },
          "metadata": {
            "tags": []
          }
        }
      ]
    },
    {
      "cell_type": "code",
      "metadata": {
        "id": "E9LSdcoSu7j-"
      },
      "source": [
        ""
      ],
      "execution_count": null,
      "outputs": []
    },
    {
      "cell_type": "code",
      "metadata": {
        "colab": {
          "base_uri": "https://localhost:8080/",
          "height": 348
        },
        "id": "Rw6CCTNBu78R",
        "outputId": "55839458-f72a-49a6-bc94-1b590f98aaf8"
      },
      "source": [
        "#Gráfico de evolução eventos na rede\r\n",
        "plt.figure(figsize=(10, 5))\r\n",
        "plt.title('Brasil no Trilemma Ranking')\r\n",
        "plt.xlabel('Ano')\r\n",
        "plt.ylabel('Posição')\r\n",
        "for x,y in zip(UC1['ano'],UC1['rank']):\r\n",
        "\r\n",
        "    label = \"{:.2f}\".format(y)\r\n",
        "\r\n",
        "    plt.annotate(label, # this is the text\r\n",
        "                 (x,y), # this is the point to label\r\n",
        "                 textcoords=\"offset points\", # how to position the text\r\n",
        "                 xytext=(0,20),\r\n",
        "                 fontsize=10,# distance from text to points (x,y)\r\n",
        "                 ha='center') # horizontal alignment can be left, right or center\r\n",
        "plt.plot(UC1['ano'],UC1['rank'], marker='o',label='Dados Originais')\r\n",
        "for x,y in zip(UC1['ano'],rank04[0]):\r\n",
        "\r\n",
        "    labely = \"{:.2f}\".format(y)\r\n",
        "    plt.annotate(labely, # this is the text\r\n",
        "                 (x,y), # this is the point to label\r\n",
        "                 textcoords=\"offset points\", # how to position the text\r\n",
        "                 xytext=(0,-20),\r\n",
        "                 fontsize=10,# distance from text to points (x,y)\r\n",
        "                 ha='center') # horizontal alignment can be left, right or center\r\n",
        "plt.plot(UC1['ano'],rank04[0], marker='o',label='Regressão por Adaboost')\r\n",
        "plt.xticks(UC1['ano'])\r\n",
        "plt.ylim([0,100])\r\n",
        "#plt.grid()\r\n",
        "plt.legend()\r\n",
        "plt.tight_layout()\r\n",
        "plt.savefig('/content/IT305G/g04.jpg', format='jpg', dpi=600)\r\n"
      ],
      "execution_count": 200,
      "outputs": [
        {
          "output_type": "display_data",
          "data": {
            "image/png": "[encoded data removed]",
            "text/plain": [
              "<Figure size 720x360 with 1 Axes>"
            ]
          },
          "metadata": {
            "tags": []
          }
        }
      ]
    },
    {
      "cell_type": "code",
      "metadata": {
        "colab": {
          "base_uri": "https://localhost:8080/",
          "height": 348
        },
        "id": "n5-FwqoqvM2Z",
        "outputId": "db4297bc-193f-404d-c57a-aee69aa08ba9"
      },
      "source": [
        "#Gráfico de evolução eventos na rede\r\n",
        "plt.figure(figsize=(10, 5))\r\n",
        "plt.title('Brasil no Trilemma Ranking')\r\n",
        "plt.xlabel('Ano')\r\n",
        "plt.ylabel('Posição')\r\n",
        "for x,y in zip(UC1['ano'],UC1['rank']):\r\n",
        "\r\n",
        "    label = \"{:.2f}\".format(y)\r\n",
        "\r\n",
        "    plt.annotate(label, # this is the text\r\n",
        "                 (x,y), # this is the point to label\r\n",
        "                 textcoords=\"offset points\", # how to position the text\r\n",
        "                 xytext=(0,20),\r\n",
        "                 fontsize=10,# distance from text to points (x,y)\r\n",
        "                 ha='center') # horizontal alignment can be left, right or center\r\n",
        "plt.plot(UC1['ano'],UC1['rank'], marker='o',label='Dados Originais')\r\n",
        "for x,y in zip(UC1['ano'],rank05[0]):\r\n",
        "\r\n",
        "    labely = \"{:.2f}\".format(y)\r\n",
        "    plt.annotate(labely, # this is the text\r\n",
        "                 (x,y), # this is the point to label\r\n",
        "                 textcoords=\"offset points\", # how to position the text\r\n",
        "                 xytext=(0,-20),\r\n",
        "                 fontsize=10,# distance from text to points (x,y)\r\n",
        "                 ha='center') # horizontal alignment can be left, right or center\r\n",
        "plt.plot(UC1['ano'],rank05[0], marker='o',label='Regressão por Gradientboosting')\r\n",
        "plt.xticks(UC1['ano'])\r\n",
        "plt.ylim([0,100])\r\n",
        "#plt.grid()\r\n",
        "plt.legend()\r\n",
        "plt.tight_layout()\r\n",
        "plt.savefig('/content/IT305G/g05.jpg', format='jpg', dpi=600)\r\n"
      ],
      "execution_count": 201,
      "outputs": [
        {
          "output_type": "display_data",
          "data": {
            "image/png": "[encoded data removed]",
            "text/plain": [
              "<Figure size 720x360 with 1 Axes>"
            ]
          },
          "metadata": {
            "tags": []
          }
        }
      ]
    },
    {
      "cell_type": "code",
      "metadata": {
        "colab": {
          "base_uri": "https://localhost:8080/",
          "height": 348
        },
        "id": "NYO-kzLEvfak",
        "outputId": "cd44e064-15b0-4d65-935a-92db3b140cd5"
      },
      "source": [
        "#Gráfico de evolução eventos na rede\r\n",
        "plt.figure(figsize=(10, 5))\r\n",
        "plt.title('Brasil no Trilemma Ranking')\r\n",
        "plt.xlabel('Ano')\r\n",
        "plt.ylabel('Posição')\r\n",
        "for x,y in zip(UC1['ano'],UC1['rank']):\r\n",
        "\r\n",
        "    label = \"{:.2f}\".format(y)\r\n",
        "\r\n",
        "    plt.annotate(label, # this is the text\r\n",
        "                 (x,y), # this is the point to label\r\n",
        "                 textcoords=\"offset points\", # how to position the text\r\n",
        "                 xytext=(0,20),\r\n",
        "                 fontsize=10,# distance from text to points (x,y)\r\n",
        "                 ha='center') # horizontal alignment can be left, right or center\r\n",
        "plt.plot(UC1['ano'],UC1['rank'], marker='o',label='Dados Originais')\r\n",
        "for x,y in zip(UC1['ano'],rank06[0]):\r\n",
        "\r\n",
        "    labely = \"{:.2f}\".format(y)\r\n",
        "    plt.annotate(labely, # this is the text\r\n",
        "                 (x,y), # this is the point to label\r\n",
        "                 textcoords=\"offset points\", # how to position the text\r\n",
        "                 xytext=(0,-20),\r\n",
        "                 fontsize=10,# distance from text to points (x,y)\r\n",
        "                 ha='center') # horizontal alignment can be left, right or center\r\n",
        "plt.plot(UC1['ano'],rank06[0], marker='o',label='Regressão por Bagging')\r\n",
        "plt.xticks(UC1['ano'])\r\n",
        "plt.ylim([0,100])\r\n",
        "#plt.grid()\r\n",
        "plt.legend()\r\n",
        "plt.tight_layout()\r\n",
        "plt.savefig('/content/IT305G/g06.jpg', format='jpg', dpi=600)\r\n"
      ],
      "execution_count": 208,
      "outputs": [
        {
          "output_type": "display_data",
          "data": {
            "image/png": "[encoded data removed]",
            "text/plain": [
              "<Figure size 720x360 with 1 Axes>"
            ]
          },
          "metadata": {
            "tags": []
          }
        }
      ]
    },
    {
      "cell_type": "code",
      "metadata": {
        "colab": {
          "base_uri": "https://localhost:8080/",
          "height": 348
        },
        "id": "D_jl8K9AvyyR",
        "outputId": "c3538a1d-4dd1-4d7b-c077-529eb4563ebc"
      },
      "source": [
        "#Gráfico de evolução eventos na rede\r\n",
        "plt.figure(figsize=(10, 5))\r\n",
        "plt.title('Brasil no Trilemma Ranking')\r\n",
        "plt.xlabel('Ano')\r\n",
        "plt.ylabel('Posição')\r\n",
        "for x,y in zip(UC1['ano'],UC1['rank']):\r\n",
        "\r\n",
        "    label = \"{:.2f}\".format(y)\r\n",
        "\r\n",
        "    plt.annotate(label, # this is the text\r\n",
        "                 (x,y), # this is the point to label\r\n",
        "                 textcoords=\"offset points\", # how to position the text\r\n",
        "                 xytext=(0,20),\r\n",
        "                 fontsize=10,# distance from text to points (x,y)\r\n",
        "                 ha='center') # horizontal alignment can be left, right or center\r\n",
        "plt.plot(UC1['ano'],UC1['rank'], marker='o',label='Dados Originais')\r\n",
        "for x,y in zip(UC1['ano'],rank07[0]):\r\n",
        "\r\n",
        "    labely = \"{:.2f}\".format(y)\r\n",
        "    plt.annotate(labely, # this is the text\r\n",
        "                 (x,y), # this is the point to label\r\n",
        "                 textcoords=\"offset points\", # how to position the text\r\n",
        "                 xytext=(0,-20),\r\n",
        "                 fontsize=10,# distance from text to points (x,y)\r\n",
        "                 ha='center') # horizontal alignment can be left, right or center\r\n",
        "plt.plot(UC1['ano'],rank07[0], marker='o',label='Regressão por Random Forrest')\r\n",
        "plt.xticks(UC1['ano'])\r\n",
        "plt.ylim([0,100])\r\n",
        "#plt.grid()\r\n",
        "plt.legend()\r\n",
        "plt.tight_layout()\r\n",
        "plt.savefig('/content/IT305G/g07.jpg', format='jpg', dpi=600)\r\n"
      ],
      "execution_count": 203,
      "outputs": [
        {
          "output_type": "display_data",
          "data": {
            "image/png": "[encoded data removed]",
            "text/plain": [
              "<Figure size 720x360 with 1 Axes>"
            ]
          },
          "metadata": {
            "tags": []
          }
        }
      ]
    },
    {
      "cell_type": "code",
      "metadata": {
        "id": "QPg1KUaAxB--"
      },
      "source": [
        ""
      ],
      "execution_count": null,
      "outputs": []
    },
    {
      "cell_type": "code",
      "metadata": {
        "colab": {
          "base_uri": "https://localhost:8080/",
          "height": 348
        },
        "id": "nP0w-U4NxE4-",
        "outputId": "efeaef88-bf4f-4ae8-9f25-f8b0b50fc10f"
      },
      "source": [
        "#Gráfico de evolução eventos na rede\r\n",
        "plt.figure(figsize=(10, 5))\r\n",
        "plt.title('Brasil no Trilemma Ranking')\r\n",
        "plt.xlabel('Ano')\r\n",
        "plt.ylabel('Posição')\r\n",
        "for x,y in zip(UC1['ano'],UC1['rank']):\r\n",
        "\r\n",
        "    label = \"{:.2f}\".format(y)\r\n",
        "\r\n",
        "    plt.annotate(label, # this is the text\r\n",
        "                 (x,y), # this is the point to label\r\n",
        "                 textcoords=\"offset points\", # how to position the text\r\n",
        "                 xytext=(0,20),\r\n",
        "                 fontsize=10,# distance from text to points (x,y)\r\n",
        "                 ha='center') # horizontal alignment can be left, right or center\r\n",
        "plt.plot(UC1['ano'],UC1['rank'], marker='o',label='Dados Originais')\r\n",
        "for x,y in zip(UC1['ano'],rank08[0]):\r\n",
        "\r\n",
        "    labely = \"{:.2f}\".format(y)\r\n",
        "    plt.annotate(labely, # this is the text\r\n",
        "                 (x,y), # this is the point to label\r\n",
        "                 textcoords=\"offset points\", # how to position the text\r\n",
        "                 xytext=(0,-20),\r\n",
        "                 fontsize=10,# distance from text to points (x,y)\r\n",
        "                 ha='center') # horizontal alignment can be left, right or center\r\n",
        "plt.plot(UC1['ano'],rank08[0], marker='o',label='Regressão por SVR -RBF')\r\n",
        "plt.xticks(UC1['ano'])\r\n",
        "plt.ylim([0,100])\r\n",
        "#plt.grid()\r\n",
        "plt.legend()\r\n",
        "plt.tight_layout()\r\n",
        "plt.savefig('/content/IT305G/g08.jpg', format='jpg', dpi=600)\r\n"
      ],
      "execution_count": 209,
      "outputs": [
        {
          "output_type": "display_data",
          "data": {
            "image/png": "[encoded data removed]",
            "text/plain": [
              "<Figure size 720x360 with 1 Axes>"
            ]
          },
          "metadata": {
            "tags": []
          }
        }
      ]
    },
    {
      "cell_type": "code",
      "metadata": {
        "colab": {
          "base_uri": "https://localhost:8080/",
          "height": 348
        },
        "id": "H7wJN8vlxWOh",
        "outputId": "cca3f73d-8313-4751-d10b-ea3998d1830a"
      },
      "source": [
        "#Gráfico de evolução eventos na rede\r\n",
        "plt.figure(figsize=(10, 5))\r\n",
        "plt.title('Brasil no Trilemma Ranking')\r\n",
        "plt.xlabel('Ano')\r\n",
        "plt.ylabel('Posição')\r\n",
        "for x,y in zip(UC1['ano'],UC1['rank']):\r\n",
        "\r\n",
        "    label = \"{:.2f}\".format(y)\r\n",
        "\r\n",
        "    plt.annotate(label, # this is the text\r\n",
        "                 (x,y), # this is the point to label\r\n",
        "                 textcoords=\"offset points\", # how to position the text\r\n",
        "                 xytext=(0,20),\r\n",
        "                 fontsize=10,# distance from text to points (x,y)\r\n",
        "                 ha='center') # horizontal alignment can be left, right or center\r\n",
        "plt.plot(UC1['ano'],UC1['rank'], marker='o',label='Dados Originais')\r\n",
        "for x,y in zip(UC1['ano'],rank09[0]):\r\n",
        "\r\n",
        "    labely = \"{:.2f}\".format(y)\r\n",
        "    plt.annotate(labely, # this is the text\r\n",
        "                 (x,y), # this is the point to label\r\n",
        "                 textcoords=\"offset points\", # how to position the text\r\n",
        "                 xytext=(0,-20),\r\n",
        "                 fontsize=10,# distance from text to points (x,y)\r\n",
        "                 ha='center') # horizontal alignment can be left, right or center\r\n",
        "plt.plot(UC1['ano'],rank09[0], marker='o',label='Regressão por SVR - Linear')\r\n",
        "plt.xticks(UC1['ano'])\r\n",
        "plt.ylim([0,100])\r\n",
        "#plt.grid()\r\n",
        "plt.legend()\r\n",
        "plt.tight_layout()\r\n",
        "plt.savefig('/content/IT305G/g09.jpg', format='jpg', dpi=600)\r\n"
      ],
      "execution_count": 210,
      "outputs": [
        {
          "output_type": "display_data",
          "data": {
            "image/png": "[encoded data removed]",
            "text/plain": [
              "<Figure size 720x360 with 1 Axes>"
            ]
          },
          "metadata": {
            "tags": []
          }
        }
      ]
    },
    {
      "cell_type": "code",
      "metadata": {
        "colab": {
          "base_uri": "https://localhost:8080/",
          "height": 348
        },
        "id": "f5IaRhAZx48f",
        "outputId": "76fe1163-102b-42b7-8f51-beeb8d65fe46"
      },
      "source": [
        "#Gráfico de evolução eventos na rede\r\n",
        "plt.figure(figsize=(10, 5))\r\n",
        "plt.title('Brasil no Trilemma Ranking')\r\n",
        "plt.xlabel('Ano')\r\n",
        "plt.ylabel('Posição')\r\n",
        "for x,y in zip(UC1['ano'],UC1['rank']):\r\n",
        "\r\n",
        "    label = \"{:.2f}\".format(y)\r\n",
        "\r\n",
        "    plt.annotate(label, # this is the text\r\n",
        "                 (x,y), # this is the point to label\r\n",
        "                 textcoords=\"offset points\", # how to position the text\r\n",
        "                 xytext=(0,20),\r\n",
        "                 fontsize=10,# distance from text to points (x,y)\r\n",
        "                 ha='center') # horizontal alignment can be left, right or center\r\n",
        "plt.plot(UC1['ano'],UC1['rank'], marker='o',label='Dados Originais')\r\n",
        "for x,y in zip(UC1['ano'],rank10[0]):\r\n",
        "\r\n",
        "    labely = \"{:.2f}\".format(y)\r\n",
        "    plt.annotate(labely, # this is the text\r\n",
        "                 (x,y), # this is the point to label\r\n",
        "                 textcoords=\"offset points\", # how to position the text\r\n",
        "                 xytext=(0,-20),\r\n",
        "                 fontsize=10,# distance from text to points (x,y)\r\n",
        "                 ha='center') # horizontal alignment can be left, right or center\r\n",
        "plt.plot(UC1['ano'],rank10[0], marker='o',label='Regressão por SVR - Polynomial')\r\n",
        "plt.xticks(UC1['ano'])\r\n",
        "plt.ylim([0,100])\r\n",
        "#plt.grid()\r\n",
        "plt.legend()\r\n",
        "plt.tight_layout()\r\n",
        "plt.savefig('/content/IT305G/g10.jpg', format='jpg', dpi=600)\r\n"
      ],
      "execution_count": 211,
      "outputs": [
        {
          "output_type": "display_data",
          "data": {
            "image/png": "[encoded data removed]",
            "text/plain": [
              "<Figure size 720x360 with 1 Axes>"
            ]
          },
          "metadata": {
            "tags": []
          }
        }
      ]
    }
  ]
}