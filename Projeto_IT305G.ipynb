{
  "nbformat": 4,
  "nbformat_minor": 0,
  "metadata": {
    "colab": {
      "name": "Projeto IT305G.ipynb",
      "provenance": [],
      "collapsed_sections": [],
      "include_colab_link": true
    },
    "kernelspec": {
      "name": "python3",
      "display_name": "Python 3"
    }
  },
  "cells": [
    {
      "cell_type": "markdown",
      "metadata": {
        "id": "view-in-github",
        "colab_type": "text"
      },
      "source": [
        "<a href=\"https://colab.research.google.com/github/grnbatera/IT305G/blob/main/Projeto_IT305G.ipynb\" target=\"_parent\"><img src=\"https://colab.research.google.com/assets/colab-badge.svg\" alt=\"Open In Colab\"/></a>"
      ]
    },
    {
      "cell_type": "markdown",
      "metadata": {
        "id": "Kz-ehtpDomHC"
      },
      "source": [
        "# IT305G: Gestão de Energia e Eficiência Energética.\r\n",
        "##Prof. Dr. Luiz Carlos Pereira da Silva e Prof. Msc João Ito.\r\n"
      ]
    },
    {
      "cell_type": "markdown",
      "metadata": {
        "id": "-NThjXMJT6jD"
      },
      "source": [
        "# Análise de dados de Eficiência Energética através de Machine Learning "
      ]
    },
    {
      "cell_type": "markdown",
      "metadata": {
        "id": "AkfYmDBcUIWw"
      },
      "source": [
        "Uma metodologia muito utilizado para analisar dados é o chamado ``CRISP-DM\", por suas siglas em inglês: Cross-Industry Standard Process for Data Mining. O CRISP-DM tem seis etapas que são:\r\n",
        "\r\n",
        "* **Business Understanding:** Definição dos objetivos, declaração do problema, * * pergunta de interesse.\r\n",
        "* **Data Understanding:** Utilização de nosso conhecimento para coletar os dados.\r\n",
        "* **Data Preparation:** Manipulação de dados para a eliminação de outliers e dados faltantes.\r\n",
        "* **Modeling:** Modelo ou abordagem utilizado para estudar o comportamento de nosso sistema a partir de nossos dados.\r\n",
        "* **Evaluation:** Avaliação dos resultados obtidos, no contexto se são de ajuda para responder nossa pergunta de interesse.\r\n",
        "* **Deployment:** Disponibilizar o análise de dados."
      ]
    },
    {
      "cell_type": "markdown",
      "metadata": {
        "id": "q_TZAkqqUh5y"
      },
      "source": [
        "# Business Understanding"
      ]
    },
    {
      "cell_type": "markdown",
      "metadata": {
        "id": "G33ALa4rUm1h"
      },
      "source": [
        "* **Definição dos objetivos:** O objetivo do presente notebook é apresentar as variaveis disponíveis no banco de dados D1A.xlsx.\r\n",
        "* **Declaração do problema:** O arquivo D1A.xlsx, reune um conjunto de informações disponíveis sobre anos-base de 2013 a 2019 compilados dos Resultados Anuais do Procel, do Balanço Energético Nacional, do Atlas da Eficiência Energética, do Anuário Estatítico de Energia Elétrica e do World Energy Trilemma Index.\r\n",
        "* **Perguntas de Interesse:**\r\n",
        "Há dados faltantes? Esses dados possuem alguma correlação? É possível estabelecer um modelo estatítico de predição de forma que possamos fazer uma tomada de decisão de política pública para a melhora da Eficiência Energética no país?"
      ]
    },
    {
      "cell_type": "markdown",
      "metadata": {
        "id": "UcMU8qzDyB6g"
      },
      "source": [
        "#Protocolos iniciais do Phyton"
      ]
    },
    {
      "cell_type": "code",
      "metadata": {
        "colab": {
          "base_uri": "https://localhost:8080/"
        },
        "id": "QqLGzsiC-6tC",
        "outputId": "41a81956-d29c-45b3-fec1-0ca861e78ee3"
      },
      "source": [
        "#Clonando repositório do GitHub\r\n",
        "!git clone https://github.com/grnbatera/IT305G.git"
      ],
      "execution_count": 378,
      "outputs": [
        {
          "output_type": "stream",
          "text": [
            "Cloning into 'IT305G'...\n",
            "remote: Enumerating objects: 57, done.\u001b[K\n",
            "remote: Counting objects: 100% (57/57), done.\u001b[K\n",
            "remote: Compressing objects: 100% (54/54), done.\u001b[K\n",
            "remote: Total 57 (delta 16), reused 0 (delta 0), pack-reused 0\u001b[K\n",
            "Unpacking objects: 100% (57/57), done.\n"
          ],
          "name": "stdout"
        }
      ]
    },
    {
      "cell_type": "code",
      "metadata": {
        "id": "gngBWtGBU8tf"
      },
      "source": [
        "import pandas as pd\r\n",
        "import matplotlib as mpl\r\n",
        "import matplotlib.pyplot as plt\r\n",
        "import numpy as np\r\n",
        "import seaborn as sns\r\n",
        "from sklearn.linear_model import LinearRegression\r\n",
        "from sklearn import tree\r\n",
        "from sklearn.ensemble import BaggingRegressor\r\n",
        "from sklearn.ensemble import RandomForestRegressor\r\n",
        "from sklearn.model_selection import cross_val_score\r\n",
        "from sklearn.model_selection import KFold\r\n",
        "from sklearn.preprocessing import StandardScaler\r\n",
        "from sklearn.pipeline import Pipeline\r\n",
        "from sklearn.model_selection import train_test_split\r\n",
        "from sklearn.ensemble import AdaBoostRegressor\r\n",
        "from sklearn.ensemble import GradientBoostingRegressor\r\n",
        "from sklearn.metrics import mean_squared_error\r\n",
        "from sklearn.svm import SVR"
      ],
      "execution_count": null,
      "outputs": []
    },
    {
      "cell_type": "markdown",
      "metadata": {
        "id": "A6DTevFfyMU0"
      },
      "source": [
        "##Modelo de gráficos pelo Seaborn"
      ]
    },
    {
      "cell_type": "code",
      "metadata": {
        "id": "vNmpyqYbyLnV"
      },
      "source": [
        "mpl.rcParams['font.family'] = 'DejaVu Sans'\r\n",
        "plt.rcParams['font.family'] = 'DejaVu Sans'\r\n",
        "sns.set(font='Roboto',\r\n",
        "        rc={\r\n",
        " 'axes.axisbelow': False,\r\n",
        " 'axes.edgecolor': 'lightgrey',\r\n",
        " 'axes.facecolor': 'None',\r\n",
        " 'axes.grid': False,\r\n",
        " 'axes.labelcolor': 'dimgrey',\r\n",
        " 'axes.spines.right': False,\r\n",
        " 'axes.spines.top': False,\r\n",
        " 'figure.facecolor': 'white',\r\n",
        " 'lines.solid_capstyle': 'round',\r\n",
        " 'patch.edgecolor': 'w',\r\n",
        " 'patch.force_edgecolor': True,\r\n",
        " 'text.color': 'black',\r\n",
        " 'xtick.bottom': False,\r\n",
        " 'xtick.color': 'dimgrey',\r\n",
        " 'xtick.direction': 'out',\r\n",
        " 'xtick.top': False,\r\n",
        " 'ytick.color': 'dimgrey',\r\n",
        " 'ytick.direction': 'out',\r\n",
        " 'ytick.left': False,\r\n",
        " 'ytick.right': False})\r\n",
        " \r\n",
        "sns.set_context(\"notebook\", rc={\"font.size\":20,\r\n",
        "                                \"axes.titlesize\":24,\r\n",
        "                                \"axes.labelsize\":18})"
      ],
      "execution_count": null,
      "outputs": []
    },
    {
      "cell_type": "markdown",
      "metadata": {
        "id": "QrFirraKUzp_"
      },
      "source": [
        "# Data Understanding"
      ]
    },
    {
      "cell_type": "code",
      "metadata": {
        "colab": {
          "base_uri": "https://localhost:8080/"
        },
        "id": "AhP-7Nf-VQJe",
        "outputId": "304e4f0d-34ab-420d-f503-cd93d037f0a7"
      },
      "source": [
        "UC1 = pd.read_csv(\"/content/IT305G/D1A.csv\")\r\n",
        "UC1.shape"
      ],
      "execution_count": null,
      "outputs": [
        {
          "output_type": "execute_result",
          "data": {
            "text/plain": [
              "(7, 59)"
            ]
          },
          "metadata": {
            "tags": []
          },
          "execution_count": 110
        }
      ]
    },
    {
      "cell_type": "code",
      "metadata": {
        "colab": {
          "base_uri": "https://localhost:8080/",
          "height": 278
        },
        "id": "VDnqi00bVWB-",
        "outputId": "d0407104-ec62-42ca-917b-f6250426e956"
      },
      "source": [
        "UC1"
      ],
      "execution_count": null,
      "outputs": [
        {
          "output_type": "execute_result",
          "data": {
            "text/html": [
              "<div>\n",
              "<style scoped>\n",
              "    .dataframe tbody tr th:only-of-type {\n",
              "        vertical-align: middle;\n",
              "    }\n",
              "\n",
              "    .dataframe tbody tr th {\n",
              "        vertical-align: top;\n",
              "    }\n",
              "\n",
              "    .dataframe thead th {\n",
              "        text-align: right;\n",
              "    }\n",
              "</style>\n",
              "<table border=\"1\" class=\"dataframe\">\n",
              "  <thead>\n",
              "    <tr style=\"text-align: right;\">\n",
              "      <th></th>\n",
              "      <th>ano</th>\n",
              "      <th>v01</th>\n",
              "      <th>v02</th>\n",
              "      <th>v03</th>\n",
              "      <th>v04</th>\n",
              "      <th>v05</th>\n",
              "      <th>v06</th>\n",
              "      <th>v07</th>\n",
              "      <th>v08</th>\n",
              "      <th>v09</th>\n",
              "      <th>v10</th>\n",
              "      <th>v11</th>\n",
              "      <th>v12</th>\n",
              "      <th>v13</th>\n",
              "      <th>v14</th>\n",
              "      <th>v15</th>\n",
              "      <th>v16</th>\n",
              "      <th>v17</th>\n",
              "      <th>v18</th>\n",
              "      <th>v19</th>\n",
              "      <th>v20</th>\n",
              "      <th>v21</th>\n",
              "      <th>v22</th>\n",
              "      <th>v23</th>\n",
              "      <th>v24</th>\n",
              "      <th>v25</th>\n",
              "      <th>v26</th>\n",
              "      <th>v27</th>\n",
              "      <th>v28</th>\n",
              "      <th>v29</th>\n",
              "      <th>v30</th>\n",
              "      <th>v31</th>\n",
              "      <th>v32</th>\n",
              "      <th>v33</th>\n",
              "      <th>v34</th>\n",
              "      <th>v35</th>\n",
              "      <th>v36</th>\n",
              "      <th>v37</th>\n",
              "      <th>v38</th>\n",
              "      <th>v39</th>\n",
              "      <th>v40</th>\n",
              "      <th>v41</th>\n",
              "      <th>v42</th>\n",
              "      <th>v43</th>\n",
              "      <th>v44</th>\n",
              "      <th>v45</th>\n",
              "      <th>v46</th>\n",
              "      <th>v47</th>\n",
              "      <th>v48</th>\n",
              "      <th>v49</th>\n",
              "      <th>v50</th>\n",
              "      <th>v51</th>\n",
              "      <th>v52</th>\n",
              "      <th>v53</th>\n",
              "      <th>v54</th>\n",
              "      <th>v55</th>\n",
              "      <th>v56</th>\n",
              "      <th>v57</th>\n",
              "      <th>rank</th>\n",
              "    </tr>\n",
              "  </thead>\n",
              "  <tbody>\n",
              "    <tr>\n",
              "      <th>0</th>\n",
              "      <td>2013</td>\n",
              "      <td>70.6</td>\n",
              "      <td>7.6</td>\n",
              "      <td>1.1</td>\n",
              "      <td>0.00</td>\n",
              "      <td>11.3</td>\n",
              "      <td>4.4</td>\n",
              "      <td>2.4</td>\n",
              "      <td>2.6</td>\n",
              "      <td>570.0</td>\n",
              "      <td>31.95</td>\n",
              "      <td>33.93</td>\n",
              "      <td>10.05</td>\n",
              "      <td>9.12</td>\n",
              "      <td>4.59</td>\n",
              "      <td>4.09</td>\n",
              "      <td>59.6</td>\n",
              "      <td>40.4</td>\n",
              "      <td>16.7</td>\n",
              "      <td>83.3</td>\n",
              "      <td>71.2</td>\n",
              "      <td>28.8</td>\n",
              "      <td>86018</td>\n",
              "      <td>36528</td>\n",
              "      <td>2202</td>\n",
              "      <td>5</td>\n",
              "      <td>62.47</td>\n",
              "      <td>7.90</td>\n",
              "      <td>0.0</td>\n",
              "      <td>0.60</td>\n",
              "      <td>22.3</td>\n",
              "      <td>74.79</td>\n",
              "      <td>77294</td>\n",
              "      <td>16.9</td>\n",
              "      <td>0.0960</td>\n",
              "      <td>7</td>\n",
              "      <td>254.45</td>\n",
              "      <td>143.57</td>\n",
              "      <td>169.95</td>\n",
              "      <td>164.53</td>\n",
              "      <td>204.17</td>\n",
              "      <td>230.81</td>\n",
              "      <td>266.29</td>\n",
              "      <td>272.66</td>\n",
              "      <td>106</td>\n",
              "      <td>45921</td>\n",
              "      <td>64778</td>\n",
              "      <td>16661</td>\n",
              "      <td>7457</td>\n",
              "      <td>117309</td>\n",
              "      <td>1673</td>\n",
              "      <td>209237</td>\n",
              "      <td>9.744</td>\n",
              "      <td>0.935</td>\n",
              "      <td>3769</td>\n",
              "      <td>114.8</td>\n",
              "      <td>97.0</td>\n",
              "      <td>101.9</td>\n",
              "      <td>30</td>\n",
              "    </tr>\n",
              "    <tr>\n",
              "      <th>1</th>\n",
              "      <td>2014</td>\n",
              "      <td>65.2</td>\n",
              "      <td>7.3</td>\n",
              "      <td>2.0</td>\n",
              "      <td>0.00</td>\n",
              "      <td>13.0</td>\n",
              "      <td>6.9</td>\n",
              "      <td>2.5</td>\n",
              "      <td>3.2</td>\n",
              "      <td>624.3</td>\n",
              "      <td>32.48</td>\n",
              "      <td>32.87</td>\n",
              "      <td>10.33</td>\n",
              "      <td>9.33</td>\n",
              "      <td>4.75</td>\n",
              "      <td>4.21</td>\n",
              "      <td>59.1</td>\n",
              "      <td>40.9</td>\n",
              "      <td>17.5</td>\n",
              "      <td>82.5</td>\n",
              "      <td>72.3</td>\n",
              "      <td>27.7</td>\n",
              "      <td>89193</td>\n",
              "      <td>37827</td>\n",
              "      <td>4888</td>\n",
              "      <td>15</td>\n",
              "      <td>67.80</td>\n",
              "      <td>7.35</td>\n",
              "      <td>0.0</td>\n",
              "      <td>0.70</td>\n",
              "      <td>23.4</td>\n",
              "      <td>94.07</td>\n",
              "      <td>84319</td>\n",
              "      <td>17.9</td>\n",
              "      <td>0.1355</td>\n",
              "      <td>11</td>\n",
              "      <td>276.97</td>\n",
              "      <td>167.10</td>\n",
              "      <td>190.23</td>\n",
              "      <td>180.42</td>\n",
              "      <td>233.95</td>\n",
              "      <td>256.00</td>\n",
              "      <td>294.32</td>\n",
              "      <td>293.82</td>\n",
              "      <td>106</td>\n",
              "      <td>42653</td>\n",
              "      <td>60695</td>\n",
              "      <td>17416</td>\n",
              "      <td>7929</td>\n",
              "      <td>119942</td>\n",
              "      <td>1637</td>\n",
              "      <td>224444</td>\n",
              "      <td>10.517</td>\n",
              "      <td>1.425</td>\n",
              "      <td>2522</td>\n",
              "      <td>114.9</td>\n",
              "      <td>95.8</td>\n",
              "      <td>100.1</td>\n",
              "      <td>37</td>\n",
              "    </tr>\n",
              "    <tr>\n",
              "      <th>2</th>\n",
              "      <td>2015</td>\n",
              "      <td>64.0</td>\n",
              "      <td>8.0</td>\n",
              "      <td>3.5</td>\n",
              "      <td>0.01</td>\n",
              "      <td>12.9</td>\n",
              "      <td>4.8</td>\n",
              "      <td>2.4</td>\n",
              "      <td>4.5</td>\n",
              "      <td>581.5</td>\n",
              "      <td>32.24</td>\n",
              "      <td>32.47</td>\n",
              "      <td>10.65</td>\n",
              "      <td>9.57</td>\n",
              "      <td>4.82</td>\n",
              "      <td>4.41</td>\n",
              "      <td>58.9</td>\n",
              "      <td>41.1</td>\n",
              "      <td>20.7</td>\n",
              "      <td>79.3</td>\n",
              "      <td>72.5</td>\n",
              "      <td>27.5</td>\n",
              "      <td>91650</td>\n",
              "      <td>39563</td>\n",
              "      <td>7633</td>\n",
              "      <td>21</td>\n",
              "      <td>57.14</td>\n",
              "      <td>8.60</td>\n",
              "      <td>0.0</td>\n",
              "      <td>0.75</td>\n",
              "      <td>34.3</td>\n",
              "      <td>89.61</td>\n",
              "      <td>84613</td>\n",
              "      <td>18.3</td>\n",
              "      <td>0.1244</td>\n",
              "      <td>11</td>\n",
              "      <td>395.04</td>\n",
              "      <td>314.32</td>\n",
              "      <td>314.95</td>\n",
              "      <td>257.23</td>\n",
              "      <td>361.03</td>\n",
              "      <td>379.64</td>\n",
              "      <td>438.38</td>\n",
              "      <td>409.93</td>\n",
              "      <td>118</td>\n",
              "      <td>43632</td>\n",
              "      <td>57449</td>\n",
              "      <td>16258</td>\n",
              "      <td>7794</td>\n",
              "      <td>116119</td>\n",
              "      <td>1515</td>\n",
              "      <td>222825</td>\n",
              "      <td>11.680</td>\n",
              "      <td>1.453</td>\n",
              "      <td>2801</td>\n",
              "      <td>118.1</td>\n",
              "      <td>95.8</td>\n",
              "      <td>100.1</td>\n",
              "      <td>57</td>\n",
              "    </tr>\n",
              "    <tr>\n",
              "      <th>3</th>\n",
              "      <td>2016</td>\n",
              "      <td>68.1</td>\n",
              "      <td>8.2</td>\n",
              "      <td>5.4</td>\n",
              "      <td>0.01</td>\n",
              "      <td>9.1</td>\n",
              "      <td>3.7</td>\n",
              "      <td>2.6</td>\n",
              "      <td>2.9</td>\n",
              "      <td>619.7</td>\n",
              "      <td>32.40</td>\n",
              "      <td>33.00</td>\n",
              "      <td>10.30</td>\n",
              "      <td>9.70</td>\n",
              "      <td>4.90</td>\n",
              "      <td>4.00</td>\n",
              "      <td>58.0</td>\n",
              "      <td>42.0</td>\n",
              "      <td>20.0</td>\n",
              "      <td>80.0</td>\n",
              "      <td>64.0</td>\n",
              "      <td>36.0</td>\n",
              "      <td>96925</td>\n",
              "      <td>41276</td>\n",
              "      <td>10124</td>\n",
              "      <td>24</td>\n",
              "      <td>78.50</td>\n",
              "      <td>6.10</td>\n",
              "      <td>0.3</td>\n",
              "      <td>1.00</td>\n",
              "      <td>14.1</td>\n",
              "      <td>64.44</td>\n",
              "      <td>88097</td>\n",
              "      <td>19.2</td>\n",
              "      <td>0.0817</td>\n",
              "      <td>7</td>\n",
              "      <td>419.15</td>\n",
              "      <td>316.26</td>\n",
              "      <td>329.51</td>\n",
              "      <td>274.67</td>\n",
              "      <td>360.53</td>\n",
              "      <td>400.28</td>\n",
              "      <td>466.61</td>\n",
              "      <td>434.87</td>\n",
              "      <td>73</td>\n",
              "      <td>43264</td>\n",
              "      <td>57357</td>\n",
              "      <td>16494</td>\n",
              "      <td>9627</td>\n",
              "      <td>110714</td>\n",
              "      <td>2541</td>\n",
              "      <td>221709</td>\n",
              "      <td>15.500</td>\n",
              "      <td>1.238</td>\n",
              "      <td>3634</td>\n",
              "      <td>126.0</td>\n",
              "      <td>96.7</td>\n",
              "      <td>97.3</td>\n",
              "      <td>54</td>\n",
              "    </tr>\n",
              "    <tr>\n",
              "      <th>4</th>\n",
              "      <td>2017</td>\n",
              "      <td>65.2</td>\n",
              "      <td>8.2</td>\n",
              "      <td>6.8</td>\n",
              "      <td>0.10</td>\n",
              "      <td>10.5</td>\n",
              "      <td>3.0</td>\n",
              "      <td>2.5</td>\n",
              "      <td>3.6</td>\n",
              "      <td>624.3</td>\n",
              "      <td>32.70</td>\n",
              "      <td>32.90</td>\n",
              "      <td>10.10</td>\n",
              "      <td>9.70</td>\n",
              "      <td>4.80</td>\n",
              "      <td>4.00</td>\n",
              "      <td>57.0</td>\n",
              "      <td>43.0</td>\n",
              "      <td>20.0</td>\n",
              "      <td>80.0</td>\n",
              "      <td>63.0</td>\n",
              "      <td>37.0</td>\n",
              "      <td>100275</td>\n",
              "      <td>41628</td>\n",
              "      <td>12283</td>\n",
              "      <td>935</td>\n",
              "      <td>46.20</td>\n",
              "      <td>23.50</td>\n",
              "      <td>5.0</td>\n",
              "      <td>2.50</td>\n",
              "      <td>22.8</td>\n",
              "      <td>61.14</td>\n",
              "      <td>89139</td>\n",
              "      <td>19.2</td>\n",
              "      <td>0.0927</td>\n",
              "      <td>8</td>\n",
              "      <td>421.35</td>\n",
              "      <td>361.37</td>\n",
              "      <td>322.51</td>\n",
              "      <td>293.06</td>\n",
              "      <td>348.07</td>\n",
              "      <td>397.01</td>\n",
              "      <td>478.38</td>\n",
              "      <td>434.91</td>\n",
              "      <td>72</td>\n",
              "      <td>42892</td>\n",
              "      <td>57811</td>\n",
              "      <td>16652</td>\n",
              "      <td>10480</td>\n",
              "      <td>114950</td>\n",
              "      <td>1401</td>\n",
              "      <td>222903</td>\n",
              "      <td>21.200</td>\n",
              "      <td>1.965</td>\n",
              "      <td>6887</td>\n",
              "      <td>126.6</td>\n",
              "      <td>100.0</td>\n",
              "      <td>97.0</td>\n",
              "      <td>53</td>\n",
              "    </tr>\n",
              "    <tr>\n",
              "      <th>5</th>\n",
              "      <td>2018</td>\n",
              "      <td>66.6</td>\n",
              "      <td>8.5</td>\n",
              "      <td>7.6</td>\n",
              "      <td>0.50</td>\n",
              "      <td>8.6</td>\n",
              "      <td>2.4</td>\n",
              "      <td>2.5</td>\n",
              "      <td>3.2</td>\n",
              "      <td>636.4</td>\n",
              "      <td>32.70</td>\n",
              "      <td>31.70</td>\n",
              "      <td>11.20</td>\n",
              "      <td>9.90</td>\n",
              "      <td>4.90</td>\n",
              "      <td>4.10</td>\n",
              "      <td>57.0</td>\n",
              "      <td>43.0</td>\n",
              "      <td>23.0</td>\n",
              "      <td>77.0</td>\n",
              "      <td>65.0</td>\n",
              "      <td>35.0</td>\n",
              "      <td>104139</td>\n",
              "      <td>40523</td>\n",
              "      <td>14390</td>\n",
              "      <td>1798</td>\n",
              "      <td>63.50</td>\n",
              "      <td>19.10</td>\n",
              "      <td>1.7</td>\n",
              "      <td>1.80</td>\n",
              "      <td>13.9</td>\n",
              "      <td>52.70</td>\n",
              "      <td>90135</td>\n",
              "      <td>19.1</td>\n",
              "      <td>0.0740</td>\n",
              "      <td>7</td>\n",
              "      <td>474.99</td>\n",
              "      <td>308.92</td>\n",
              "      <td>358.51</td>\n",
              "      <td>338.06</td>\n",
              "      <td>402.24</td>\n",
              "      <td>443.92</td>\n",
              "      <td>540.78</td>\n",
              "      <td>489.76</td>\n",
              "      <td>65</td>\n",
              "      <td>41561</td>\n",
              "      <td>61377</td>\n",
              "      <td>17219</td>\n",
              "      <td>8912</td>\n",
              "      <td>116723</td>\n",
              "      <td>1301</td>\n",
              "      <td>227662</td>\n",
              "      <td>22.990</td>\n",
              "      <td>1.701</td>\n",
              "      <td>7257</td>\n",
              "      <td>128.5</td>\n",
              "      <td>100.0</td>\n",
              "      <td>96.8</td>\n",
              "      <td>39</td>\n",
              "    </tr>\n",
              "    <tr>\n",
              "      <th>6</th>\n",
              "      <td>2019</td>\n",
              "      <td>64.9</td>\n",
              "      <td>8.4</td>\n",
              "      <td>8.6</td>\n",
              "      <td>1.00</td>\n",
              "      <td>9.3</td>\n",
              "      <td>2.0</td>\n",
              "      <td>2.5</td>\n",
              "      <td>3.3</td>\n",
              "      <td>651.3</td>\n",
              "      <td>32.70</td>\n",
              "      <td>30.40</td>\n",
              "      <td>11.20</td>\n",
              "      <td>10.30</td>\n",
              "      <td>5.10</td>\n",
              "      <td>4.90</td>\n",
              "      <td>58.0</td>\n",
              "      <td>42.0</td>\n",
              "      <td>25.0</td>\n",
              "      <td>75.0</td>\n",
              "      <td>66.0</td>\n",
              "      <td>34.0</td>\n",
              "      <td>109058</td>\n",
              "      <td>41219</td>\n",
              "      <td>15378</td>\n",
              "      <td>2473</td>\n",
              "      <td>74.50</td>\n",
              "      <td>13.90</td>\n",
              "      <td>1.3</td>\n",
              "      <td>0.70</td>\n",
              "      <td>9.5</td>\n",
              "      <td>56.30</td>\n",
              "      <td>92515</td>\n",
              "      <td>19.3</td>\n",
              "      <td>0.0750</td>\n",
              "      <td>7</td>\n",
              "      <td>511.92</td>\n",
              "      <td>314.20</td>\n",
              "      <td>383.36</td>\n",
              "      <td>336.16</td>\n",
              "      <td>399.64</td>\n",
              "      <td>472.53</td>\n",
              "      <td>577.15</td>\n",
              "      <td>529.27</td>\n",
              "      <td>61</td>\n",
              "      <td>39215</td>\n",
              "      <td>60001</td>\n",
              "      <td>17806</td>\n",
              "      <td>9208</td>\n",
              "      <td>120170</td>\n",
              "      <td>1320</td>\n",
              "      <td>234444</td>\n",
              "      <td>21.600</td>\n",
              "      <td>1.600</td>\n",
              "      <td>8129</td>\n",
              "      <td>128.7</td>\n",
              "      <td>100.5</td>\n",
              "      <td>95.0</td>\n",
              "      <td>28</td>\n",
              "    </tr>\n",
              "  </tbody>\n",
              "</table>\n",
              "</div>"
            ],
            "text/plain": [
              "    ano   v01  v02  v03   v04   v05  ...    v53   v54    v55    v56    v57  rank\n",
              "0  2013  70.6  7.6  1.1  0.00  11.3  ...  0.935  3769  114.8   97.0  101.9    30\n",
              "1  2014  65.2  7.3  2.0  0.00  13.0  ...  1.425  2522  114.9   95.8  100.1    37\n",
              "2  2015  64.0  8.0  3.5  0.01  12.9  ...  1.453  2801  118.1   95.8  100.1    57\n",
              "3  2016  68.1  8.2  5.4  0.01   9.1  ...  1.238  3634  126.0   96.7   97.3    54\n",
              "4  2017  65.2  8.2  6.8  0.10  10.5  ...  1.965  6887  126.6  100.0   97.0    53\n",
              "5  2018  66.6  8.5  7.6  0.50   8.6  ...  1.701  7257  128.5  100.0   96.8    39\n",
              "6  2019  64.9  8.4  8.6  1.00   9.3  ...  1.600  8129  128.7  100.5   95.0    28\n",
              "\n",
              "[7 rows x 59 columns]"
            ]
          },
          "metadata": {
            "tags": []
          },
          "execution_count": 111
        }
      ]
    },
    {
      "cell_type": "code",
      "metadata": {
        "colab": {
          "base_uri": "https://localhost:8080/"
        },
        "id": "7CedXKdljVU7",
        "outputId": "8f6b7206-5e16-4201-e142-5781ba85d16a"
      },
      "source": [
        "mapa = pd.read_csv(\"/content/IT305G/mapadevariaveisdeD1A.csv\")\r\n",
        "mapa.shape"
      ],
      "execution_count": null,
      "outputs": [
        {
          "output_type": "execute_result",
          "data": {
            "text/plain": [
              "(59, 2)"
            ]
          },
          "metadata": {
            "tags": []
          },
          "execution_count": 112
        }
      ]
    },
    {
      "cell_type": "code",
      "metadata": {
        "colab": {
          "base_uri": "https://localhost:8080/",
          "height": 198
        },
        "id": "59rgGc_fmdLd",
        "outputId": "52bfbb74-e960-49d6-9734-08747c4387a0"
      },
      "source": [
        "mapa.head()"
      ],
      "execution_count": null,
      "outputs": [
        {
          "output_type": "execute_result",
          "data": {
            "text/html": [
              "<div>\n",
              "<style scoped>\n",
              "    .dataframe tbody tr th:only-of-type {\n",
              "        vertical-align: middle;\n",
              "    }\n",
              "\n",
              "    .dataframe tbody tr th {\n",
              "        vertical-align: top;\n",
              "    }\n",
              "\n",
              "    .dataframe thead th {\n",
              "        text-align: right;\n",
              "    }\n",
              "</style>\n",
              "<table border=\"1\" class=\"dataframe\">\n",
              "  <thead>\n",
              "    <tr style=\"text-align: right;\">\n",
              "      <th></th>\n",
              "      <th>Variavel</th>\n",
              "      <th>Descricao</th>\n",
              "    </tr>\n",
              "  </thead>\n",
              "  <tbody>\n",
              "    <tr>\n",
              "      <th>0</th>\n",
              "      <td>ano</td>\n",
              "      <td>Ano-Base</td>\n",
              "    </tr>\n",
              "    <tr>\n",
              "      <th>1</th>\n",
              "      <td>v01</td>\n",
              "      <td>Oferta Energia Renovavel - Hidraulica(%)</td>\n",
              "    </tr>\n",
              "    <tr>\n",
              "      <th>2</th>\n",
              "      <td>v02</td>\n",
              "      <td>Oferta Energia Renovavel - Biomassa(%)</td>\n",
              "    </tr>\n",
              "    <tr>\n",
              "      <th>3</th>\n",
              "      <td>v03</td>\n",
              "      <td>Oferta Energia Renovavel - Eolica(%)</td>\n",
              "    </tr>\n",
              "    <tr>\n",
              "      <th>4</th>\n",
              "      <td>v04</td>\n",
              "      <td>Oferta Energia Renovavel - Solar(%)</td>\n",
              "    </tr>\n",
              "  </tbody>\n",
              "</table>\n",
              "</div>"
            ],
            "text/plain": [
              "  Variavel                                 Descricao\n",
              "0      ano                                  Ano-Base\n",
              "1      v01  Oferta Energia Renovavel - Hidraulica(%)\n",
              "2      v02    Oferta Energia Renovavel - Biomassa(%)\n",
              "3      v03      Oferta Energia Renovavel - Eolica(%)\n",
              "4      v04       Oferta Energia Renovavel - Solar(%)"
            ]
          },
          "metadata": {
            "tags": []
          },
          "execution_count": 186
        }
      ]
    },
    {
      "cell_type": "markdown",
      "metadata": {
        "id": "y4cL6aORVllY"
      },
      "source": [
        "# Data Preparation"
      ]
    },
    {
      "cell_type": "markdown",
      "metadata": {
        "id": "DfCtrsm8zXj0"
      },
      "source": [
        "##Normalização dos Dados"
      ]
    },
    {
      "cell_type": "code",
      "metadata": {
        "id": "sug9Af5R7QvJ"
      },
      "source": [
        "UC1n = (UC1-UC1.mean(axis=0))/UC1.std(axis=0)\r\n",
        "anomedia = 2016\r\n",
        "anostd = 2.160246899\r\n",
        "rankmedia = 42.57142857\r\n",
        "rankstd = 11.98411647"
      ],
      "execution_count": null,
      "outputs": []
    },
    {
      "cell_type": "markdown",
      "metadata": {
        "id": "rWLCpfuN0hrW"
      },
      "source": [
        "##Divsão e ajuste dos dados para treino e teste"
      ]
    },
    {
      "cell_type": "code",
      "metadata": {
        "id": "655DUOtkxqfF"
      },
      "source": [
        "treino=UC1n.iloc[[0,1,2,3,6]]\r\n",
        "anotreino=treino.iloc[:,0:58]\r\n",
        "ranktreino=treino.iloc[:,58:]\r\n",
        "teste=UC1n.iloc[[4,5]]\r\n",
        "anoteste=teste.iloc[:,0:58]\r\n",
        "rankteste=teste.iloc[:,58:]"
      ],
      "execution_count": null,
      "outputs": []
    },
    {
      "cell_type": "code",
      "metadata": {
        "id": "W5Qa-D4x9hUq"
      },
      "source": [
        "anoteste=np.array(anoteste).reshape(len(anoteste),58)\r\n",
        "anotreino=np.array(anotreino).reshape(len(anotreino),58)\r\n",
        "rankteste=np.array(rankteste).reshape(len(rankteste),1)\r\n",
        "ranktreino=np.array(ranktreino).reshape(len(ranktreino),1)"
      ],
      "execution_count": null,
      "outputs": []
    },
    {
      "cell_type": "code",
      "metadata": {
        "colab": {
          "base_uri": "https://localhost:8080/"
        },
        "id": "VcOqFIscaOCK",
        "outputId": "f61b2fb5-ed20-41d3-9723-0676924ff53a"
      },
      "source": [
        "anoteste.shape"
      ],
      "execution_count": null,
      "outputs": [
        {
          "output_type": "execute_result",
          "data": {
            "text/plain": [
              "(2, 58)"
            ]
          },
          "metadata": {
            "tags": []
          },
          "execution_count": 116
        }
      ]
    },
    {
      "cell_type": "code",
      "metadata": {
        "colab": {
          "base_uri": "https://localhost:8080/"
        },
        "id": "q8STsMeGaWRK",
        "outputId": "acf9f8ed-0801-4e29-e979-bbdb889c36ed"
      },
      "source": [
        "anotreino.shape"
      ],
      "execution_count": null,
      "outputs": [
        {
          "output_type": "execute_result",
          "data": {
            "text/plain": [
              "(5, 58)"
            ]
          },
          "metadata": {
            "tags": []
          },
          "execution_count": 117
        }
      ]
    },
    {
      "cell_type": "code",
      "metadata": {
        "colab": {
          "base_uri": "https://localhost:8080/"
        },
        "id": "-fzG6Ud7abFJ",
        "outputId": "8dff7550-19c6-429f-f923-79656f909dc1"
      },
      "source": [
        "ranktreino.shape"
      ],
      "execution_count": null,
      "outputs": [
        {
          "output_type": "execute_result",
          "data": {
            "text/plain": [
              "(5, 1)"
            ]
          },
          "metadata": {
            "tags": []
          },
          "execution_count": 118
        }
      ]
    },
    {
      "cell_type": "code",
      "metadata": {
        "colab": {
          "base_uri": "https://localhost:8080/"
        },
        "id": "veFQvegpbWa5",
        "outputId": "3c52dcaa-f0b1-43d6-8017-9b0e7ef84d02"
      },
      "source": [
        "rankteste.shape"
      ],
      "execution_count": null,
      "outputs": [
        {
          "output_type": "execute_result",
          "data": {
            "text/plain": [
              "(2, 1)"
            ]
          },
          "metadata": {
            "tags": []
          },
          "execution_count": 119
        }
      ]
    },
    {
      "cell_type": "markdown",
      "metadata": {
        "id": "R23509PYWKqA"
      },
      "source": [
        "## Visualização de Dados Faltantes"
      ]
    },
    {
      "cell_type": "code",
      "metadata": {
        "colab": {
          "base_uri": "https://localhost:8080/"
        },
        "id": "BGt6iqPdVp74",
        "outputId": "38c3a455-13e3-4bf1-f352-47fe6c5f746f"
      },
      "source": [
        "np.nan + np.nan"
      ],
      "execution_count": null,
      "outputs": [
        {
          "output_type": "execute_result",
          "data": {
            "text/plain": [
              "nan"
            ]
          },
          "metadata": {
            "tags": []
          },
          "execution_count": 120
        }
      ]
    },
    {
      "cell_type": "code",
      "metadata": {
        "colab": {
          "base_uri": "https://localhost:8080/"
        },
        "id": "UKMxerpIVzKX",
        "outputId": "222ea8be-bbe3-436a-9a14-fdf5184e6002"
      },
      "source": [
        "np.nan == np.nan"
      ],
      "execution_count": null,
      "outputs": [
        {
          "output_type": "execute_result",
          "data": {
            "text/plain": [
              "False"
            ]
          },
          "metadata": {
            "tags": []
          },
          "execution_count": 121
        }
      ]
    },
    {
      "cell_type": "code",
      "metadata": {
        "colab": {
          "base_uri": "https://localhost:8080/"
        },
        "id": "rU4cm9IrV6b2",
        "outputId": "1da72d23-75bb-456a-c6b5-f2ee3a0cdbc2"
      },
      "source": [
        "np.isnan(np.nan)"
      ],
      "execution_count": null,
      "outputs": [
        {
          "output_type": "execute_result",
          "data": {
            "text/plain": [
              "True"
            ]
          },
          "metadata": {
            "tags": []
          },
          "execution_count": 122
        }
      ]
    },
    {
      "cell_type": "code",
      "metadata": {
        "id": "0-i8vvg5WFVF"
      },
      "source": [
        "import missingno as msno"
      ],
      "execution_count": null,
      "outputs": []
    },
    {
      "cell_type": "code",
      "metadata": {
        "colab": {
          "base_uri": "https://localhost:8080/",
          "height": 516
        },
        "id": "oZi_c82sWPp2",
        "outputId": "397c584f-a7c0-4487-ce3c-948ce3fe679d"
      },
      "source": [
        "msno.bar(UC1, labels=True,color=\"RoyalBlue\") #para visualizar a integridade do datafram"
      ],
      "execution_count": null,
      "outputs": [
        {
          "output_type": "execute_result",
          "data": {
            "text/plain": [
              "<matplotlib.axes._subplots.AxesSubplot at 0x7fc121cf7f60>"
            ]
          },
          "metadata": {
            "tags": []
          },
          "execution_count": 124
        },
        {
          "output_type": "display_data",
          "data": {
            "image/png": "[encoded data removed]",
            "text/plain": [
              "<Figure size 1728x720 with 3 Axes>"
            ]
          },
          "metadata": {
            "tags": []
          }
        }
      ]
    },
    {
      "cell_type": "markdown",
      "metadata": {
        "id": "rTeJgbpBWZpI"
      },
      "source": [
        "## Matriz de Dados Faltantes"
      ]
    },
    {
      "cell_type": "code",
      "metadata": {
        "colab": {
          "base_uri": "https://localhost:8080/",
          "height": 528
        },
        "id": "AfTxZvsPWRKU",
        "outputId": "82f5ef5b-f6ba-4951-9803-a5d4d712478e"
      },
      "source": [
        "msno.matrix(UC1, labels=True, color = (0.25,0.4,0.8))"
      ],
      "execution_count": null,
      "outputs": [
        {
          "output_type": "execute_result",
          "data": {
            "text/plain": [
              "<matplotlib.axes._subplots.AxesSubplot at 0x7fc121a88828>"
            ]
          },
          "metadata": {
            "tags": []
          },
          "execution_count": 125
        },
        {
          "output_type": "display_data",
          "data": {
            "image/png": "[encoded data removed]",
            "text/plain": [
              "<Figure size 1800x720 with 2 Axes>"
            ]
          },
          "metadata": {
            "tags": []
          }
        }
      ]
    },
    {
      "cell_type": "markdown",
      "metadata": {
        "id": "DaeXdZdmWuqP"
      },
      "source": [
        "## Matriz de Correlação de Dados Faltantes"
      ]
    },
    {
      "cell_type": "code",
      "metadata": {
        "colab": {
          "base_uri": "https://localhost:8080/",
          "height": 799
        },
        "id": "Nwv2o5H-WdJu",
        "outputId": "6dd3f5a7-b116-4fa8-e584-d1e78200b866"
      },
      "source": [
        "msno.heatmap(UC1,labels=True)"
      ],
      "execution_count": null,
      "outputs": [
        {
          "output_type": "stream",
          "text": [
            "/usr/local/lib/python3.6/dist-packages/seaborn/matrix.py:301: UserWarning: Attempting to set identical bottom == top == 0 results in singular transformations; automatically expanding.\n",
            "  ax.set(xlim=(0, self.data.shape[1]), ylim=(0, self.data.shape[0]))\n",
            "/usr/local/lib/python3.6/dist-packages/seaborn/matrix.py:301: UserWarning: Attempting to set identical left == right == 0 results in singular transformations; automatically expanding.\n",
            "  ax.set(xlim=(0, self.data.shape[1]), ylim=(0, self.data.shape[0]))\n"
          ],
          "name": "stderr"
        },
        {
          "output_type": "execute_result",
          "data": {
            "text/plain": [
              "<matplotlib.axes._subplots.AxesSubplot at 0x7fc121484828>"
            ]
          },
          "metadata": {
            "tags": []
          },
          "execution_count": 126
        },
        {
          "output_type": "display_data",
          "data": {
            "image/png": "[encoded data removed]",
            "text/plain": [
              "<Figure size 1440x864 with 2 Axes>"
            ]
          },
          "metadata": {
            "tags": []
          }
        }
      ]
    },
    {
      "cell_type": "markdown",
      "metadata": {
        "id": "DeUlGgt_W_3X"
      },
      "source": [
        "## Dendogram de dados Faltantes"
      ]
    },
    {
      "cell_type": "code",
      "metadata": {
        "colab": {
          "base_uri": "https://localhost:8080/",
          "height": 803
        },
        "id": "zpJsDoiyWwm1",
        "outputId": "030654bb-b3a1-4d2b-8138-46c418e761aa"
      },
      "source": [
        "msno.dendrogram(UC1)"
      ],
      "execution_count": null,
      "outputs": [
        {
          "output_type": "stream",
          "text": [
            "/usr/local/lib/python3.6/dist-packages/scipy/cluster/hierarchy.py:2865: UserWarning: Attempting to set identical left == right == 0.0 results in singular transformations; automatically expanding.\n",
            "  ax.set_xlim([dvw, 0])\n"
          ],
          "name": "stderr"
        },
        {
          "output_type": "execute_result",
          "data": {
            "text/plain": [
              "<matplotlib.axes._subplots.AxesSubplot at 0x7fc1213f7fd0>"
            ]
          },
          "metadata": {
            "tags": []
          },
          "execution_count": 127
        },
        {
          "output_type": "display_data",
          "data": {
            "image/png": "[encoded data removed]",
            "text/plain": [
              "<Figure size 1800x1224 with 1 Axes>"
            ]
          },
          "metadata": {
            "tags": []
          }
        }
      ]
    },
    {
      "cell_type": "markdown",
      "metadata": {
        "id": "0vxnc6vMAc1y"
      },
      "source": [
        "##Modelo de Avaliação"
      ]
    },
    {
      "cell_type": "markdown",
      "metadata": {
        "id": "oMEUlt2qAadD"
      },
      "source": [
        "$R M S E=\\sqrt{\\sum_{i=1}^{n} \\frac{\\left(\\hat{y}_{i}-y_{i}\\right)^{2}}{n}}$"
      ]
    },
    {
      "cell_type": "code",
      "metadata": {
        "id": "zqtps5YBR1Pb"
      },
      "source": [
        "def RMSE(yh, y):\r\n",
        "  er = yh - y\r\n",
        "  RMSE = sum(er*er/len(er))**0.5\r\n",
        "  return RMSE"
      ],
      "execution_count": null,
      "outputs": []
    },
    {
      "cell_type": "markdown",
      "metadata": {
        "id": "T3LfuKVh3q6e"
      },
      "source": [
        "#Modeling: Regressões Não-Lineares por Machine Learning"
      ]
    },
    {
      "cell_type": "markdown",
      "metadata": {
        "id": "XsyLwXvJ357f"
      },
      "source": [
        "##Regressão Multivariável"
      ]
    },
    {
      "cell_type": "code",
      "metadata": {
        "id": "KsQ9uIS1kHbo"
      },
      "source": [
        "modelo01 = LinearRegression().fit(anotreino,ranktreino)"
      ],
      "execution_count": null,
      "outputs": []
    },
    {
      "cell_type": "code",
      "metadata": {
        "colab": {
          "base_uri": "https://localhost:8080/"
        },
        "id": "WebqHwHVlw5J",
        "outputId": "31b809bf-367a-40ce-82a1-123a63f353b5"
      },
      "source": [
        "modelo01.score(anotreino,ranktreino)"
      ],
      "execution_count": null,
      "outputs": [
        {
          "output_type": "execute_result",
          "data": {
            "text/plain": [
              "1.0"
            ]
          },
          "metadata": {
            "tags": []
          },
          "execution_count": 130
        }
      ]
    },
    {
      "cell_type": "code",
      "metadata": {
        "colab": {
          "base_uri": "https://localhost:8080/"
        },
        "id": "XderOhrK2Sjh",
        "outputId": "28e5f714-64cd-4500-a8c0-fb484501db7f"
      },
      "source": [
        "modelo01.score(anoteste,rankteste)"
      ],
      "execution_count": null,
      "outputs": [
        {
          "output_type": "execute_result",
          "data": {
            "text/plain": [
              "0.6575994921653434"
            ]
          },
          "metadata": {
            "tags": []
          },
          "execution_count": 131
        }
      ]
    },
    {
      "cell_type": "code",
      "metadata": {
        "colab": {
          "base_uri": "https://localhost:8080/"
        },
        "id": "BOk942a5PK3e",
        "outputId": "0aa738e9-fd9d-4f83-fea5-20f24aecc7ea"
      },
      "source": [
        "rmsmodelo01 = RMSE(rankteste.ravel(), modelo01.predict(anoteste).ravel())\r\n",
        "rmsmodelo01"
      ],
      "execution_count": null,
      "outputs": [
        {
          "output_type": "execute_result",
          "data": {
            "text/plain": [
              "0.3417898951320977"
            ]
          },
          "metadata": {
            "tags": []
          },
          "execution_count": 132
        }
      ]
    },
    {
      "cell_type": "code",
      "metadata": {
        "colab": {
          "base_uri": "https://localhost:8080/"
        },
        "id": "RO7s3pMm1np0",
        "outputId": "0853ac26-0089-4cf3-a8ea-a285a5f34a56"
      },
      "source": [
        "predicao01 = (modelo01.predict(anoteste))*rankstd+rankmedia\r\n",
        "predicao01.ravel()"
      ],
      "execution_count": null,
      "outputs": [
        {
          "output_type": "execute_result",
          "data": {
            "text/plain": [
              "array([48.10283144, 35.90597513])"
            ]
          },
          "metadata": {
            "tags": []
          },
          "execution_count": 133
        }
      ]
    },
    {
      "cell_type": "code",
      "metadata": {
        "colab": {
          "base_uri": "https://localhost:8080/",
          "height": 198
        },
        "id": "GggWAdPNVklF",
        "outputId": "b031c20f-dfa6-447a-b978-3e60b413b317"
      },
      "source": [
        "importancia01a = pd.DataFrame(modelo01.coef_).T\r\n",
        "importancia01 = importancia01a.sort_values(by=0,ascending=False)\r\n",
        "importancia01.head()"
      ],
      "execution_count": null,
      "outputs": [
        {
          "output_type": "execute_result",
          "data": {
            "text/html": [
              "<div>\n",
              "<style scoped>\n",
              "    .dataframe tbody tr th:only-of-type {\n",
              "        vertical-align: middle;\n",
              "    }\n",
              "\n",
              "    .dataframe tbody tr th {\n",
              "        vertical-align: top;\n",
              "    }\n",
              "\n",
              "    .dataframe thead th {\n",
              "        text-align: right;\n",
              "    }\n",
              "</style>\n",
              "<table border=\"1\" class=\"dataframe\">\n",
              "  <thead>\n",
              "    <tr style=\"text-align: right;\">\n",
              "      <th></th>\n",
              "      <th>0</th>\n",
              "    </tr>\n",
              "  </thead>\n",
              "  <tbody>\n",
              "    <tr>\n",
              "      <th>8</th>\n",
              "      <td>0.108742</td>\n",
              "    </tr>\n",
              "    <tr>\n",
              "      <th>37</th>\n",
              "      <td>0.095114</td>\n",
              "    </tr>\n",
              "    <tr>\n",
              "      <th>50</th>\n",
              "      <td>0.088605</td>\n",
              "    </tr>\n",
              "    <tr>\n",
              "      <th>30</th>\n",
              "      <td>0.083740</td>\n",
              "    </tr>\n",
              "    <tr>\n",
              "      <th>40</th>\n",
              "      <td>0.072880</td>\n",
              "    </tr>\n",
              "  </tbody>\n",
              "</table>\n",
              "</div>"
            ],
            "text/plain": [
              "           0\n",
              "8   0.108742\n",
              "37  0.095114\n",
              "50  0.088605\n",
              "30  0.083740\n",
              "40  0.072880"
            ]
          },
          "metadata": {
            "tags": []
          },
          "execution_count": 134
        }
      ]
    },
    {
      "cell_type": "markdown",
      "metadata": {
        "id": "1iF0tZwW8aaL"
      },
      "source": [
        "##Regressão por Árvore de Decisão"
      ]
    },
    {
      "cell_type": "code",
      "metadata": {
        "id": "zODDJxiVihSz"
      },
      "source": [
        "modelo02 = tree.DecisionTreeRegressor(max_depth=2,random_state=18).fit(anotreino,ranktreino)"
      ],
      "execution_count": null,
      "outputs": []
    },
    {
      "cell_type": "code",
      "metadata": {
        "colab": {
          "base_uri": "https://localhost:8080/"
        },
        "id": "9IjqWbG_ihS6",
        "outputId": "f9da3f4e-bf6f-4423-8eba-1907374522a4"
      },
      "source": [
        "modelo02.score(anotreino,ranktreino)"
      ],
      "execution_count": null,
      "outputs": [
        {
          "output_type": "execute_result",
          "data": {
            "text/plain": [
              "0.9972632731253421"
            ]
          },
          "metadata": {
            "tags": []
          },
          "execution_count": 136
        }
      ]
    },
    {
      "cell_type": "code",
      "metadata": {
        "colab": {
          "base_uri": "https://localhost:8080/"
        },
        "id": "6FznpA55ihS6",
        "outputId": "746075e6-0000-4ca4-fe82-315505f34d4d"
      },
      "source": [
        "modelo02.score(anoteste,rankteste)"
      ],
      "execution_count": null,
      "outputs": [
        {
          "output_type": "execute_result",
          "data": {
            "text/plain": [
              "-0.030612244897959103"
            ]
          },
          "metadata": {
            "tags": []
          },
          "execution_count": 137
        }
      ]
    },
    {
      "cell_type": "code",
      "metadata": {
        "colab": {
          "base_uri": "https://localhost:8080/"
        },
        "id": "_sSkhPIXihS7",
        "outputId": "c196c0dd-ec41-496b-9d39-06b8bf2fad87"
      },
      "source": [
        "rmsmodelo02 = RMSE(rankteste.ravel(), modelo02.predict(anoteste).ravel())\r\n",
        "rmsmodelo02"
      ],
      "execution_count": null,
      "outputs": [
        {
          "output_type": "execute_result",
          "data": {
            "text/plain": [
              "0.5929794839916582"
            ]
          },
          "metadata": {
            "tags": []
          },
          "execution_count": 138
        }
      ]
    },
    {
      "cell_type": "code",
      "metadata": {
        "colab": {
          "base_uri": "https://localhost:8080/"
        },
        "id": "LCpyi4WcihS7",
        "outputId": "87d04193-ae45-41c1-daf2-3a726fb2219d"
      },
      "source": [
        "predicao02 = (modelo02.predict(anoteste))*rankstd+rankmedia\r\n",
        "predicao02.ravel()"
      ],
      "execution_count": null,
      "outputs": [
        {
          "output_type": "execute_result",
          "data": {
            "text/plain": [
              "array([54., 29.])"
            ]
          },
          "metadata": {
            "tags": []
          },
          "execution_count": 139
        }
      ]
    },
    {
      "cell_type": "code",
      "metadata": {
        "colab": {
          "base_uri": "https://localhost:8080/",
          "height": 198
        },
        "id": "YKLhO28VihS7",
        "outputId": "554e8490-7e46-4135-e64c-7f25c3174dbf"
      },
      "source": [
        "importancia02a = pd.DataFrame((modelo02.feature_importances_))\r\n",
        "importancia02 = importancia02a.sort_values(by=0,ascending=False)\r\n",
        "importancia02.head()"
      ],
      "execution_count": null,
      "outputs": [
        {
          "output_type": "execute_result",
          "data": {
            "text/html": [
              "<div>\n",
              "<style scoped>\n",
              "    .dataframe tbody tr th:only-of-type {\n",
              "        vertical-align: middle;\n",
              "    }\n",
              "\n",
              "    .dataframe tbody tr th {\n",
              "        vertical-align: top;\n",
              "    }\n",
              "\n",
              "    .dataframe thead th {\n",
              "        text-align: right;\n",
              "    }\n",
              "</style>\n",
              "<table border=\"1\" class=\"dataframe\">\n",
              "  <thead>\n",
              "    <tr style=\"text-align: right;\">\n",
              "      <th></th>\n",
              "      <th>0</th>\n",
              "    </tr>\n",
              "  </thead>\n",
              "  <tbody>\n",
              "    <tr>\n",
              "      <th>37</th>\n",
              "      <td>0.935282</td>\n",
              "    </tr>\n",
              "    <tr>\n",
              "      <th>35</th>\n",
              "      <td>0.058544</td>\n",
              "    </tr>\n",
              "    <tr>\n",
              "      <th>56</th>\n",
              "      <td>0.006175</td>\n",
              "    </tr>\n",
              "    <tr>\n",
              "      <th>0</th>\n",
              "      <td>0.000000</td>\n",
              "    </tr>\n",
              "    <tr>\n",
              "      <th>43</th>\n",
              "      <td>0.000000</td>\n",
              "    </tr>\n",
              "  </tbody>\n",
              "</table>\n",
              "</div>"
            ],
            "text/plain": [
              "           0\n",
              "37  0.935282\n",
              "35  0.058544\n",
              "56  0.006175\n",
              "0   0.000000\n",
              "43  0.000000"
            ]
          },
          "metadata": {
            "tags": []
          },
          "execution_count": 140
        }
      ]
    },
    {
      "cell_type": "markdown",
      "metadata": {
        "id": "Bt9PrnC_pVD-"
      },
      "source": [
        "##Regressão por Árvore de Decisão com AdaBoost"
      ]
    },
    {
      "cell_type": "code",
      "metadata": {
        "id": "vyiqj_p8_ChS"
      },
      "source": [
        "modelo03 =  AdaBoostRegressor(tree.DecisionTreeRegressor(max_depth=4), loss='exponential',n_estimators=4, random_state=400).fit(anotreino,ranktreino.ravel())"
      ],
      "execution_count": null,
      "outputs": []
    },
    {
      "cell_type": "code",
      "metadata": {
        "colab": {
          "base_uri": "https://localhost:8080/"
        },
        "id": "XahwPqXDpm5E",
        "outputId": "13196161-9bdf-4c52-e8dd-b4ea3cd1fa25"
      },
      "source": [
        "modelo03.score(anotreino,ranktreino)"
      ],
      "execution_count": null,
      "outputs": [
        {
          "output_type": "execute_result",
          "data": {
            "text/plain": [
              "0.8891625615763546"
            ]
          },
          "metadata": {
            "tags": []
          },
          "execution_count": 142
        }
      ]
    },
    {
      "cell_type": "code",
      "metadata": {
        "colab": {
          "base_uri": "https://localhost:8080/"
        },
        "id": "Qp0tsWb6pm5F",
        "outputId": "16b18506-5657-46ca-dc92-1756a2eb8929"
      },
      "source": [
        "modelo03.score(anoteste,rankteste)"
      ],
      "execution_count": null,
      "outputs": [
        {
          "output_type": "execute_result",
          "data": {
            "text/plain": [
              "0.9489795918367349"
            ]
          },
          "metadata": {
            "tags": []
          },
          "execution_count": 143
        }
      ]
    },
    {
      "cell_type": "code",
      "metadata": {
        "colab": {
          "base_uri": "https://localhost:8080/"
        },
        "id": "ADzz3Daxpm5F",
        "outputId": "e5c8a975-4daf-46b1-f1ac-8530e8bd9d3b"
      },
      "source": [
        "rmsmodelo03 = RMSE(rankteste.ravel(), modelo03.predict(anoteste).ravel())\r\n",
        "rmsmodelo03"
      ],
      "execution_count": null,
      "outputs": [
        {
          "output_type": "execute_result",
          "data": {
            "text/plain": [
              "0.1319362035368364"
            ]
          },
          "metadata": {
            "tags": []
          },
          "execution_count": 144
        }
      ]
    },
    {
      "cell_type": "code",
      "metadata": {
        "colab": {
          "base_uri": "https://localhost:8080/"
        },
        "id": "WcCFyuZ7pm5F",
        "outputId": "a562d20d-a894-4e7a-f272-05c1dd95b8b7"
      },
      "source": [
        "predicao03 = (modelo03.predict(anoteste))*rankstd+rankmedia\r\n",
        "predicao03.ravel()"
      ],
      "execution_count": null,
      "outputs": [
        {
          "output_type": "execute_result",
          "data": {
            "text/plain": [
              "array([54., 37.])"
            ]
          },
          "metadata": {
            "tags": []
          },
          "execution_count": 145
        }
      ]
    },
    {
      "cell_type": "code",
      "metadata": {
        "colab": {
          "base_uri": "https://localhost:8080/",
          "height": 198
        },
        "id": "jGBYDifIpm5G",
        "outputId": "8980c9cc-73d9-4a48-e5ca-80f220408726"
      },
      "source": [
        "importancia03a = pd.DataFrame((modelo03.feature_importances_))\r\n",
        "importancia03 = importancia03a.sort_values(by=0,ascending=False)\r\n",
        "importancia03.head()"
      ],
      "execution_count": null,
      "outputs": [
        {
          "output_type": "execute_result",
          "data": {
            "text/html": [
              "<div>\n",
              "<style scoped>\n",
              "    .dataframe tbody tr th:only-of-type {\n",
              "        vertical-align: middle;\n",
              "    }\n",
              "\n",
              "    .dataframe tbody tr th {\n",
              "        vertical-align: top;\n",
              "    }\n",
              "\n",
              "    .dataframe thead th {\n",
              "        text-align: right;\n",
              "    }\n",
              "</style>\n",
              "<table border=\"1\" class=\"dataframe\">\n",
              "  <thead>\n",
              "    <tr style=\"text-align: right;\">\n",
              "      <th></th>\n",
              "      <th>0</th>\n",
              "    </tr>\n",
              "  </thead>\n",
              "  <tbody>\n",
              "    <tr>\n",
              "      <th>2</th>\n",
              "      <td>0.305600</td>\n",
              "    </tr>\n",
              "    <tr>\n",
              "      <th>45</th>\n",
              "      <td>0.276745</td>\n",
              "    </tr>\n",
              "    <tr>\n",
              "      <th>46</th>\n",
              "      <td>0.222966</td>\n",
              "    </tr>\n",
              "    <tr>\n",
              "      <th>52</th>\n",
              "      <td>0.172757</td>\n",
              "    </tr>\n",
              "    <tr>\n",
              "      <th>29</th>\n",
              "      <td>0.018597</td>\n",
              "    </tr>\n",
              "  </tbody>\n",
              "</table>\n",
              "</div>"
            ],
            "text/plain": [
              "           0\n",
              "2   0.305600\n",
              "45  0.276745\n",
              "46  0.222966\n",
              "52  0.172757\n",
              "29  0.018597"
            ]
          },
          "metadata": {
            "tags": []
          },
          "execution_count": 146
        }
      ]
    },
    {
      "cell_type": "code",
      "metadata": {
        "id": "J43t4vWwyyVK"
      },
      "source": [
        ""
      ],
      "execution_count": null,
      "outputs": []
    },
    {
      "cell_type": "markdown",
      "metadata": {
        "id": "GEpmI3UUyyq0"
      },
      "source": [
        "##Regressão por AdaBoost"
      ]
    },
    {
      "cell_type": "code",
      "metadata": {
        "id": "HD9O4qR1yyq2"
      },
      "source": [
        "modelo04 =  AdaBoostRegressor(n_estimators=40).fit(anotreino,ranktreino.ravel())"
      ],
      "execution_count": 235,
      "outputs": []
    },
    {
      "cell_type": "code",
      "metadata": {
        "colab": {
          "base_uri": "https://localhost:8080/"
        },
        "id": "VWIKKJhWyyq4",
        "outputId": "42d9a842-d789-41e7-972c-13038fa88728"
      },
      "source": [
        "modelo04.score(anotreino,ranktreino)"
      ],
      "execution_count": 236,
      "outputs": [
        {
          "output_type": "execute_result",
          "data": {
            "text/plain": [
              "0.8891625615763546"
            ]
          },
          "metadata": {
            "tags": []
          },
          "execution_count": 236
        }
      ]
    },
    {
      "cell_type": "code",
      "metadata": {
        "colab": {
          "base_uri": "https://localhost:8080/"
        },
        "id": "D0vVfwMQyyq5",
        "outputId": "de2033b8-be16-4688-80ba-180bea81a4a3"
      },
      "source": [
        "modelo04.score(anoteste,rankteste)"
      ],
      "execution_count": 237,
      "outputs": [
        {
          "output_type": "execute_result",
          "data": {
            "text/plain": [
              "0.9489795918367349"
            ]
          },
          "metadata": {
            "tags": []
          },
          "execution_count": 237
        }
      ]
    },
    {
      "cell_type": "code",
      "metadata": {
        "colab": {
          "base_uri": "https://localhost:8080/"
        },
        "id": "sux01kJ4yyq6",
        "outputId": "c8b8e9a5-e232-4c4f-b8b5-ca1fb535cfcc"
      },
      "source": [
        "rmsmodelo04 = RMSE(rankteste.ravel(), modelo04.predict(anoteste).ravel())\r\n",
        "rmsmodelo04"
      ],
      "execution_count": 238,
      "outputs": [
        {
          "output_type": "execute_result",
          "data": {
            "text/plain": [
              "0.1319362035368364"
            ]
          },
          "metadata": {
            "tags": []
          },
          "execution_count": 238
        }
      ]
    },
    {
      "cell_type": "code",
      "metadata": {
        "colab": {
          "base_uri": "https://localhost:8080/"
        },
        "id": "sr_l8nIXyyq7",
        "outputId": "23e6ae53-1128-4129-cc6c-e27db360a6ab"
      },
      "source": [
        "predicao04 = (modelo03.predict(anoteste))*rankstd+rankmedia\r\n",
        "predicao04.ravel()"
      ],
      "execution_count": 239,
      "outputs": [
        {
          "output_type": "execute_result",
          "data": {
            "text/plain": [
              "array([54., 37.])"
            ]
          },
          "metadata": {
            "tags": []
          },
          "execution_count": 239
        }
      ]
    },
    {
      "cell_type": "code",
      "metadata": {
        "colab": {
          "base_uri": "https://localhost:8080/",
          "height": 198
        },
        "id": "db9CtbDiyyq7",
        "outputId": "38909180-e0dd-4245-b396-386141ace435"
      },
      "source": [
        "importancia04a = pd.DataFrame((modelo04.feature_importances_))\r\n",
        "importancia04 = importancia04a.sort_values(by=0,ascending=False)\r\n",
        "importancia04.head()"
      ],
      "execution_count": 240,
      "outputs": [
        {
          "output_type": "execute_result",
          "data": {
            "text/html": [
              "<div>\n",
              "<style scoped>\n",
              "    .dataframe tbody tr th:only-of-type {\n",
              "        vertical-align: middle;\n",
              "    }\n",
              "\n",
              "    .dataframe tbody tr th {\n",
              "        vertical-align: top;\n",
              "    }\n",
              "\n",
              "    .dataframe thead th {\n",
              "        text-align: right;\n",
              "    }\n",
              "</style>\n",
              "<table border=\"1\" class=\"dataframe\">\n",
              "  <thead>\n",
              "    <tr style=\"text-align: right;\">\n",
              "      <th></th>\n",
              "      <th>0</th>\n",
              "    </tr>\n",
              "  </thead>\n",
              "  <tbody>\n",
              "    <tr>\n",
              "      <th>5</th>\n",
              "      <td>0.266020</td>\n",
              "    </tr>\n",
              "    <tr>\n",
              "      <th>51</th>\n",
              "      <td>0.214678</td>\n",
              "    </tr>\n",
              "    <tr>\n",
              "      <th>11</th>\n",
              "      <td>0.193580</td>\n",
              "    </tr>\n",
              "    <tr>\n",
              "      <th>47</th>\n",
              "      <td>0.185711</td>\n",
              "    </tr>\n",
              "    <tr>\n",
              "      <th>57</th>\n",
              "      <td>0.115751</td>\n",
              "    </tr>\n",
              "  </tbody>\n",
              "</table>\n",
              "</div>"
            ],
            "text/plain": [
              "           0\n",
              "5   0.266020\n",
              "51  0.214678\n",
              "11  0.193580\n",
              "47  0.185711\n",
              "57  0.115751"
            ]
          },
          "metadata": {
            "tags": []
          },
          "execution_count": 240
        }
      ]
    },
    {
      "cell_type": "markdown",
      "metadata": {
        "id": "bucfozGLtlsn"
      },
      "source": [
        "##Regressão com GradientBoosting"
      ]
    },
    {
      "cell_type": "code",
      "metadata": {
        "id": "NlZdQsVIte8u"
      },
      "source": [
        "modelo05 =  GradientBoostingRegressor(n_estimators=300).fit(anotreino,ranktreino.ravel())"
      ],
      "execution_count": 253,
      "outputs": []
    },
    {
      "cell_type": "code",
      "metadata": {
        "colab": {
          "base_uri": "https://localhost:8080/"
        },
        "id": "mpCdZE6Qte9C",
        "outputId": "56de4578-830c-43a2-b49a-4ed39464c99c"
      },
      "source": [
        "modelo05.score(anotreino,ranktreino)"
      ],
      "execution_count": 254,
      "outputs": [
        {
          "output_type": "execute_result",
          "data": {
            "text/plain": [
              "0.9999999060685005"
            ]
          },
          "metadata": {
            "tags": []
          },
          "execution_count": 254
        }
      ]
    },
    {
      "cell_type": "code",
      "metadata": {
        "colab": {
          "base_uri": "https://localhost:8080/"
        },
        "id": "qxdWN8T5te9D",
        "outputId": "629b0c58-29a2-4e1e-97ed-53366ce2eb47"
      },
      "source": [
        "modelo05.score(anoteste,rankteste)"
      ],
      "execution_count": 255,
      "outputs": [
        {
          "output_type": "execute_result",
          "data": {
            "text/plain": [
              "0.9300556646794087"
            ]
          },
          "metadata": {
            "tags": []
          },
          "execution_count": 255
        }
      ]
    },
    {
      "cell_type": "code",
      "metadata": {
        "colab": {
          "base_uri": "https://localhost:8080/"
        },
        "id": "P3ChyjY7te9E",
        "outputId": "7e05207a-cbd1-46fc-f466-e3be70b63c07"
      },
      "source": [
        "rmsmodelo05 = RMSE(rankteste.ravel(), modelo05.predict(anoteste).ravel())\r\n",
        "rmsmodelo05"
      ],
      "execution_count": 256,
      "outputs": [
        {
          "output_type": "execute_result",
          "data": {
            "text/plain": [
              "0.15447858847977308"
            ]
          },
          "metadata": {
            "tags": []
          },
          "execution_count": 256
        }
      ]
    },
    {
      "cell_type": "code",
      "metadata": {
        "colab": {
          "base_uri": "https://localhost:8080/"
        },
        "id": "CZ-nOX9Vte9E",
        "outputId": "3339dd7f-3ecd-41f8-9cfe-3840fa02412b"
      },
      "source": [
        "predicao05 = (modelo05.predict(anoteste))*rankstd+rankmedia\r\n",
        "predicao05.ravel()"
      ],
      "execution_count": 257,
      "outputs": [
        {
          "output_type": "execute_result",
          "data": {
            "text/plain": [
              "array([52.92220012, 36.38303763])"
            ]
          },
          "metadata": {
            "tags": []
          },
          "execution_count": 257
        }
      ]
    },
    {
      "cell_type": "code",
      "metadata": {
        "colab": {
          "base_uri": "https://localhost:8080/",
          "height": 198
        },
        "id": "1gi5Mcwwte9E",
        "outputId": "4e1d948c-73ec-4825-9559-5be856a496e2"
      },
      "source": [
        "importancia05a = pd.DataFrame((modelo05.feature_importances_))\r\n",
        "importancia05 = importancia05a.sort_values(by=0,ascending=False)\r\n",
        "importancia05.head()"
      ],
      "execution_count": 362,
      "outputs": [
        {
          "output_type": "execute_result",
          "data": {
            "text/html": [
              "<div>\n",
              "<style scoped>\n",
              "    .dataframe tbody tr th:only-of-type {\n",
              "        vertical-align: middle;\n",
              "    }\n",
              "\n",
              "    .dataframe tbody tr th {\n",
              "        vertical-align: top;\n",
              "    }\n",
              "\n",
              "    .dataframe thead th {\n",
              "        text-align: right;\n",
              "    }\n",
              "</style>\n",
              "<table border=\"1\" class=\"dataframe\">\n",
              "  <thead>\n",
              "    <tr style=\"text-align: right;\">\n",
              "      <th></th>\n",
              "      <th>0</th>\n",
              "    </tr>\n",
              "  </thead>\n",
              "  <tbody>\n",
              "    <tr>\n",
              "      <th>29</th>\n",
              "      <td>0.337167</td>\n",
              "    </tr>\n",
              "    <tr>\n",
              "      <th>46</th>\n",
              "      <td>0.276101</td>\n",
              "    </tr>\n",
              "    <tr>\n",
              "      <th>37</th>\n",
              "      <td>0.169699</td>\n",
              "    </tr>\n",
              "    <tr>\n",
              "      <th>47</th>\n",
              "      <td>0.076454</td>\n",
              "    </tr>\n",
              "    <tr>\n",
              "      <th>49</th>\n",
              "      <td>0.073596</td>\n",
              "    </tr>\n",
              "  </tbody>\n",
              "</table>\n",
              "</div>"
            ],
            "text/plain": [
              "           0\n",
              "29  0.337167\n",
              "46  0.276101\n",
              "37  0.169699\n",
              "47  0.076454\n",
              "49  0.073596"
            ]
          },
          "metadata": {
            "tags": []
          },
          "execution_count": 362
        }
      ]
    },
    {
      "cell_type": "markdown",
      "metadata": {
        "id": "y7I3F2E8C-EQ"
      },
      "source": [
        "##Regressão por Bagging"
      ]
    },
    {
      "cell_type": "code",
      "metadata": {
        "id": "O0ft3AOZ2vty"
      },
      "source": [
        "modelo06 =  BaggingRegressor(n_estimators=300).fit(anotreino,ranktreino.ravel())"
      ],
      "execution_count": 303,
      "outputs": []
    },
    {
      "cell_type": "code",
      "metadata": {
        "colab": {
          "base_uri": "https://localhost:8080/"
        },
        "id": "ljP9rMZQ2vty",
        "outputId": "43d818d8-dbae-41b3-d82c-5193f80aede1"
      },
      "source": [
        "modelo06.score(anotreino,ranktreino)"
      ],
      "execution_count": 304,
      "outputs": [
        {
          "output_type": "execute_result",
          "data": {
            "text/plain": [
              "0.8095791826309074"
            ]
          },
          "metadata": {
            "tags": []
          },
          "execution_count": 304
        }
      ]
    },
    {
      "cell_type": "code",
      "metadata": {
        "colab": {
          "base_uri": "https://localhost:8080/"
        },
        "id": "2BZH9ZcT2vtz",
        "outputId": "62ca4f3f-b321-4102-a600-f350ee89968e"
      },
      "source": [
        "modelo06.score(anoteste,rankteste)"
      ],
      "execution_count": 305,
      "outputs": [
        {
          "output_type": "execute_result",
          "data": {
            "text/plain": [
              "0.4660856009070287"
            ]
          },
          "metadata": {
            "tags": []
          },
          "execution_count": 305
        }
      ]
    },
    {
      "cell_type": "code",
      "metadata": {
        "colab": {
          "base_uri": "https://localhost:8080/"
        },
        "id": "8utPOfwh2vt0",
        "outputId": "d108c961-a26b-4d7a-d6d6-65eceb53cf4c"
      },
      "source": [
        "rmsmodelo06 = RMSE(rankteste.ravel(), modelo06.predict(anoteste).ravel())\r\n",
        "rmsmodelo06"
      ],
      "execution_count": 306,
      "outputs": [
        {
          "output_type": "execute_result",
          "data": {
            "text/plain": [
              "0.4268033656769111"
            ]
          },
          "metadata": {
            "tags": []
          },
          "execution_count": 306
        }
      ]
    },
    {
      "cell_type": "code",
      "metadata": {
        "colab": {
          "base_uri": "https://localhost:8080/"
        },
        "id": "zT_67k8o2vt0",
        "outputId": "7f371b00-f177-40dd-f97f-c63381e3eeb7"
      },
      "source": [
        "predicao06 = (modelo06.predict(anoteste))*rankstd+rankmedia\r\n",
        "predicao06.ravel()"
      ],
      "execution_count": 307,
      "outputs": [
        {
          "output_type": "execute_result",
          "data": {
            "text/plain": [
              "array([45.79666666, 39.66      ])"
            ]
          },
          "metadata": {
            "tags": []
          },
          "execution_count": 307
        }
      ]
    },
    {
      "cell_type": "markdown",
      "metadata": {
        "id": "7iROb4O4FYqe"
      },
      "source": [
        "##Regressão por Random Forrest"
      ]
    },
    {
      "cell_type": "code",
      "metadata": {
        "id": "F5VDAyo232w5"
      },
      "source": [
        "modelo07 =  RandomForestRegressor(n_estimators=160).fit(anotreino,ranktreino.ravel())"
      ],
      "execution_count": 311,
      "outputs": []
    },
    {
      "cell_type": "code",
      "metadata": {
        "colab": {
          "base_uri": "https://localhost:8080/"
        },
        "id": "-VRA7LjY32w6",
        "outputId": "3710e589-ca04-4ac2-a12b-3e193f3f501c"
      },
      "source": [
        "modelo07.score(anotreino,ranktreino)"
      ],
      "execution_count": 312,
      "outputs": [
        {
          "output_type": "execute_result",
          "data": {
            "text/plain": [
              "0.7837522877326217"
            ]
          },
          "metadata": {
            "tags": []
          },
          "execution_count": 312
        }
      ]
    },
    {
      "cell_type": "code",
      "metadata": {
        "colab": {
          "base_uri": "https://localhost:8080/"
        },
        "id": "2C_XSBXu32w7",
        "outputId": "4a0efddd-95a7-4978-b10e-f06f23707934"
      },
      "source": [
        "modelo07.score(anoteste,rankteste)"
      ],
      "execution_count": 313,
      "outputs": [
        {
          "output_type": "execute_result",
          "data": {
            "text/plain": [
              "0.40004384566326534"
            ]
          },
          "metadata": {
            "tags": []
          },
          "execution_count": 313
        }
      ]
    },
    {
      "cell_type": "code",
      "metadata": {
        "colab": {
          "base_uri": "https://localhost:8080/"
        },
        "id": "KDPu04Re32w8",
        "outputId": "2c9a1b1a-f8a5-4600-faf7-2002a66508b8"
      },
      "source": [
        "rmsmodelo07 = RMSE(rankteste.ravel(), modelo07.predict(anoteste).ravel())\r\n",
        "rmsmodelo07"
      ],
      "execution_count": 314,
      "outputs": [
        {
          "output_type": "execute_result",
          "data": {
            "text/plain": [
              "0.45243039633958726"
            ]
          },
          "metadata": {
            "tags": []
          },
          "execution_count": 314
        }
      ]
    },
    {
      "cell_type": "code",
      "metadata": {
        "colab": {
          "base_uri": "https://localhost:8080/"
        },
        "id": "T--y2Y6632w9",
        "outputId": "887594e1-fcca-4821-f060-76738124ac20"
      },
      "source": [
        "predicao07 = (modelo07.predict(anoteste))*rankstd+rankmedia\r\n",
        "predicao07.ravel()"
      ],
      "execution_count": 315,
      "outputs": [
        {
          "output_type": "execute_result",
          "data": {
            "text/plain": [
              "array([45.51875, 40.68125])"
            ]
          },
          "metadata": {
            "tags": []
          },
          "execution_count": 315
        }
      ]
    },
    {
      "cell_type": "code",
      "metadata": {
        "colab": {
          "base_uri": "https://localhost:8080/",
          "height": 198
        },
        "id": "Gbu7zSEy32w-",
        "outputId": "22102c32-8f7f-43b3-e442-96330591e78b"
      },
      "source": [
        "importancia07a = pd.DataFrame((modelo07.feature_importances_))\r\n",
        "importancia07 = importancia07a.sort_values(by=0,ascending=False)\r\n",
        "importancia07.head()"
      ],
      "execution_count": 316,
      "outputs": [
        {
          "output_type": "execute_result",
          "data": {
            "text/html": [
              "<div>\n",
              "<style scoped>\n",
              "    .dataframe tbody tr th:only-of-type {\n",
              "        vertical-align: middle;\n",
              "    }\n",
              "\n",
              "    .dataframe tbody tr th {\n",
              "        vertical-align: top;\n",
              "    }\n",
              "\n",
              "    .dataframe thead th {\n",
              "        text-align: right;\n",
              "    }\n",
              "</style>\n",
              "<table border=\"1\" class=\"dataframe\">\n",
              "  <thead>\n",
              "    <tr style=\"text-align: right;\">\n",
              "      <th></th>\n",
              "      <th>0</th>\n",
              "    </tr>\n",
              "  </thead>\n",
              "  <tbody>\n",
              "    <tr>\n",
              "      <th>29</th>\n",
              "      <td>0.095920</td>\n",
              "    </tr>\n",
              "    <tr>\n",
              "      <th>46</th>\n",
              "      <td>0.061112</td>\n",
              "    </tr>\n",
              "    <tr>\n",
              "      <th>37</th>\n",
              "      <td>0.053756</td>\n",
              "    </tr>\n",
              "    <tr>\n",
              "      <th>54</th>\n",
              "      <td>0.046199</td>\n",
              "    </tr>\n",
              "    <tr>\n",
              "      <th>47</th>\n",
              "      <td>0.043571</td>\n",
              "    </tr>\n",
              "  </tbody>\n",
              "</table>\n",
              "</div>"
            ],
            "text/plain": [
              "           0\n",
              "29  0.095920\n",
              "46  0.061112\n",
              "37  0.053756\n",
              "54  0.046199\n",
              "47  0.043571"
            ]
          },
          "metadata": {
            "tags": []
          },
          "execution_count": 316
        }
      ]
    },
    {
      "cell_type": "markdown",
      "metadata": {
        "id": "6HcxkF8s5mDs"
      },
      "source": [
        "##Regressão por Support Vector Regressor - Kernel RBF"
      ]
    },
    {
      "cell_type": "code",
      "metadata": {
        "id": "BwCAGGXT5mD7"
      },
      "source": [
        "modelo08 =  SVR(kernel='rbf', C=8).fit(anotreino,ranktreino.ravel())"
      ],
      "execution_count": 326,
      "outputs": []
    },
    {
      "cell_type": "code",
      "metadata": {
        "colab": {
          "base_uri": "https://localhost:8080/"
        },
        "id": "YVmT3mul5mD8",
        "outputId": "0d468444-33a6-4d66-b45d-bb05d92afbc4"
      },
      "source": [
        "modelo08.score(anotreino,ranktreino)"
      ],
      "execution_count": 327,
      "outputs": [
        {
          "output_type": "execute_result",
          "data": {
            "text/plain": [
              "0.9901571764140344"
            ]
          },
          "metadata": {
            "tags": []
          },
          "execution_count": 327
        }
      ]
    },
    {
      "cell_type": "code",
      "metadata": {
        "colab": {
          "base_uri": "https://localhost:8080/"
        },
        "id": "6KZefexg5mD9",
        "outputId": "1716b900-7e1d-4847-8b40-e2a964db6395"
      },
      "source": [
        "modelo08.score(anoteste,rankteste)"
      ],
      "execution_count": 328,
      "outputs": [
        {
          "output_type": "execute_result",
          "data": {
            "text/plain": [
              "0.14471751980583203"
            ]
          },
          "metadata": {
            "tags": []
          },
          "execution_count": 328
        }
      ]
    },
    {
      "cell_type": "code",
      "metadata": {
        "colab": {
          "base_uri": "https://localhost:8080/"
        },
        "id": "DI3B-iuW5mD9",
        "outputId": "3eb4509d-7411-4031-94c2-f6ecf8a69473"
      },
      "source": [
        "rmsmodelo08 = RMSE(rankteste.ravel(), modelo08.predict(anoteste).ravel())\r\n",
        "rmsmodelo08"
      ],
      "execution_count": 329,
      "outputs": [
        {
          "output_type": "execute_result",
          "data": {
            "text/plain": [
              "0.540190331461215"
            ]
          },
          "metadata": {
            "tags": []
          },
          "execution_count": 329
        }
      ]
    },
    {
      "cell_type": "code",
      "metadata": {
        "colab": {
          "base_uri": "https://localhost:8080/"
        },
        "id": "QwzTzgHZ5mD-",
        "outputId": "3f0bb289-736f-4924-e659-e91cfca0f7c1"
      },
      "source": [
        "predicao08 = (modelo08.predict(anoteste))*rankstd+rankmedia\r\n",
        "predicao08.ravel()"
      ],
      "execution_count": 330,
      "outputs": [
        {
          "output_type": "execute_result",
          "data": {
            "text/plain": [
              "array([43.92770857, 37.77068662])"
            ]
          },
          "metadata": {
            "tags": []
          },
          "execution_count": 330
        }
      ]
    },
    {
      "cell_type": "markdown",
      "metadata": {
        "id": "YtyYdV515nU7"
      },
      "source": [
        "##Regressão por Support Vector Regressor - Kernel Linear"
      ]
    },
    {
      "cell_type": "code",
      "metadata": {
        "id": "yDD0EMWz5nU7"
      },
      "source": [
        "modelo09 =  SVR(kernel='linear', C=200, gamma='auto').fit(anotreino,ranktreino.ravel())"
      ],
      "execution_count": 334,
      "outputs": []
    },
    {
      "cell_type": "code",
      "metadata": {
        "colab": {
          "base_uri": "https://localhost:8080/"
        },
        "id": "DG1TWYXc5nU8",
        "outputId": "95fff1d4-3e5b-43c5-e958-f4856479b395"
      },
      "source": [
        "modelo09.score(anotreino,ranktreino)"
      ],
      "execution_count": 335,
      "outputs": [
        {
          "output_type": "execute_result",
          "data": {
            "text/plain": [
              "0.9901686520518388"
            ]
          },
          "metadata": {
            "tags": []
          },
          "execution_count": 335
        }
      ]
    },
    {
      "cell_type": "code",
      "metadata": {
        "colab": {
          "base_uri": "https://localhost:8080/"
        },
        "id": "LDp_OS-t5nU9",
        "outputId": "1d77989d-ab14-4ded-964c-94fcffe48446"
      },
      "source": [
        "modelo09.score(anoteste,rankteste)"
      ],
      "execution_count": 336,
      "outputs": [
        {
          "output_type": "execute_result",
          "data": {
            "text/plain": [
              "0.6126893919925578"
            ]
          },
          "metadata": {
            "tags": []
          },
          "execution_count": 336
        }
      ]
    },
    {
      "cell_type": "code",
      "metadata": {
        "colab": {
          "base_uri": "https://localhost:8080/"
        },
        "id": "qVVLSn7a5nU9",
        "outputId": "deaf0ebd-83ec-45cc-e9a5-d9eb2adcd0f3"
      },
      "source": [
        "rmsmodelo09 = RMSE(rankteste.ravel(), modelo09.predict(anoteste).ravel())\r\n",
        "rmsmodelo09"
      ],
      "execution_count": 337,
      "outputs": [
        {
          "output_type": "execute_result",
          "data": {
            "text/plain": [
              "0.36351447986132845"
            ]
          },
          "metadata": {
            "tags": []
          },
          "execution_count": 337
        }
      ]
    },
    {
      "cell_type": "code",
      "metadata": {
        "colab": {
          "base_uri": "https://localhost:8080/"
        },
        "id": "e6HjkAfM5nU-",
        "outputId": "85801cdc-1474-4324-a61b-ab2589e988b9"
      },
      "source": [
        "predicao09 = (modelo09.predict(anoteste))*rankstd+rankmedia\r\n",
        "predicao09.ravel()"
      ],
      "execution_count": 338,
      "outputs": [
        {
          "output_type": "execute_result",
          "data": {
            "text/plain": [
              "array([47.47406691, 36.27593997])"
            ]
          },
          "metadata": {
            "tags": []
          },
          "execution_count": 338
        }
      ]
    },
    {
      "cell_type": "code",
      "metadata": {
        "colab": {
          "base_uri": "https://localhost:8080/",
          "height": 198
        },
        "id": "P2DOAKl95nU-",
        "outputId": "03f120fc-be05-474c-aab0-1a6c25272114"
      },
      "source": [
        "importancia09a = pd.DataFrame(modelo09.coef_).T\r\n",
        "importancia09 = importancia09a.sort_values(by=0,ascending=False)\r\n",
        "importancia09.head()"
      ],
      "execution_count": 339,
      "outputs": [
        {
          "output_type": "execute_result",
          "data": {
            "text/html": [
              "<div>\n",
              "<style scoped>\n",
              "    .dataframe tbody tr th:only-of-type {\n",
              "        vertical-align: middle;\n",
              "    }\n",
              "\n",
              "    .dataframe tbody tr th {\n",
              "        vertical-align: top;\n",
              "    }\n",
              "\n",
              "    .dataframe thead th {\n",
              "        text-align: right;\n",
              "    }\n",
              "</style>\n",
              "<table border=\"1\" class=\"dataframe\">\n",
              "  <thead>\n",
              "    <tr style=\"text-align: right;\">\n",
              "      <th></th>\n",
              "      <th>0</th>\n",
              "    </tr>\n",
              "  </thead>\n",
              "  <tbody>\n",
              "    <tr>\n",
              "      <th>8</th>\n",
              "      <td>0.098491</td>\n",
              "    </tr>\n",
              "    <tr>\n",
              "      <th>37</th>\n",
              "      <td>0.084941</td>\n",
              "    </tr>\n",
              "    <tr>\n",
              "      <th>50</th>\n",
              "      <td>0.080283</td>\n",
              "    </tr>\n",
              "    <tr>\n",
              "      <th>30</th>\n",
              "      <td>0.075869</td>\n",
              "    </tr>\n",
              "    <tr>\n",
              "      <th>40</th>\n",
              "      <td>0.064908</td>\n",
              "    </tr>\n",
              "  </tbody>\n",
              "</table>\n",
              "</div>"
            ],
            "text/plain": [
              "           0\n",
              "8   0.098491\n",
              "37  0.084941\n",
              "50  0.080283\n",
              "30  0.075869\n",
              "40  0.064908"
            ]
          },
          "metadata": {
            "tags": []
          },
          "execution_count": 339
        }
      ]
    },
    {
      "cell_type": "code",
      "metadata": {
        "id": "pUj7kYSs5oSA"
      },
      "source": [
        ""
      ],
      "execution_count": null,
      "outputs": []
    },
    {
      "cell_type": "markdown",
      "metadata": {
        "id": "9eqEm_495opB"
      },
      "source": [
        "##Regressão por Support Vector Regressor - Kernel Polynomial"
      ]
    },
    {
      "cell_type": "code",
      "metadata": {
        "id": "JK1ksqbL5opB"
      },
      "source": [
        "modelo10 =  SVR(kernel='poly', C=100, gamma='auto', degree=3, epsilon=.1, coef0=1).fit(anotreino,ranktreino.ravel())"
      ],
      "execution_count": 340,
      "outputs": []
    },
    {
      "cell_type": "code",
      "metadata": {
        "colab": {
          "base_uri": "https://localhost:8080/"
        },
        "id": "2zbCR2Zi5opC",
        "outputId": "1f0e0ab5-db16-4d10-fad1-1d4fc22f3fc9"
      },
      "source": [
        "modelo10.score(anotreino,ranktreino)"
      ],
      "execution_count": 341,
      "outputs": [
        {
          "output_type": "execute_result",
          "data": {
            "text/plain": [
              "0.9901830755602106"
            ]
          },
          "metadata": {
            "tags": []
          },
          "execution_count": 341
        }
      ]
    },
    {
      "cell_type": "code",
      "metadata": {
        "colab": {
          "base_uri": "https://localhost:8080/"
        },
        "id": "NCN9DIK-5opC",
        "outputId": "5ac9be21-426f-4b63-fa40-b46caa778b6b"
      },
      "source": [
        "modelo10.score(anoteste,rankteste)"
      ],
      "execution_count": 342,
      "outputs": [
        {
          "output_type": "execute_result",
          "data": {
            "text/plain": [
              "0.7330552864367361"
            ]
          },
          "metadata": {
            "tags": []
          },
          "execution_count": 342
        }
      ]
    },
    {
      "cell_type": "code",
      "metadata": {
        "colab": {
          "base_uri": "https://localhost:8080/"
        },
        "id": "DXBgWfoV5opC",
        "outputId": "441577f0-2b0d-4bfd-d95c-4e149e0c0265"
      },
      "source": [
        "rmsmodelo10 = RMSE(rankteste.ravel(), modelo10.predict(anoteste).ravel())\r\n",
        "rmsmodelo10"
      ],
      "execution_count": 343,
      "outputs": [
        {
          "output_type": "execute_result",
          "data": {
            "text/plain": [
              "0.3017884963085526"
            ]
          },
          "metadata": {
            "tags": []
          },
          "execution_count": 343
        }
      ]
    },
    {
      "cell_type": "code",
      "metadata": {
        "colab": {
          "base_uri": "https://localhost:8080/"
        },
        "id": "-rraydSD5opD",
        "outputId": "49051299-837f-4b39-b730-795efeb52f8e"
      },
      "source": [
        "predicao10 = (modelo10.predict(anoteste))*rankstd+rankmedia\r\n",
        "predicao10.ravel()"
      ],
      "execution_count": 344,
      "outputs": [
        {
          "output_type": "execute_result",
          "data": {
            "text/plain": [
              "array([48.90240883, 42.06109924])"
            ]
          },
          "metadata": {
            "tags": []
          },
          "execution_count": 344
        }
      ]
    },
    {
      "cell_type": "code",
      "metadata": {
        "id": "SuYL6cyqnDPN"
      },
      "source": [
        "rank01=pd.DataFrame(modelo01.predict(UC1n.iloc[:,0:58]))*rankstd+rankmedia\r\n",
        "rank02=pd.DataFrame(modelo02.predict(UC1n.iloc[:,0:58]))*rankstd+rankmedia\r\n",
        "rank03=pd.DataFrame(modelo03.predict(UC1n.iloc[:,0:58]))*rankstd+rankmedia\r\n",
        "rank04=pd.DataFrame(modelo04.predict(UC1n.iloc[:,0:58]))*rankstd+rankmedia\r\n",
        "rank05=pd.DataFrame(modelo05.predict(UC1n.iloc[:,0:58]))*rankstd+rankmedia\r\n",
        "rank06=pd.DataFrame(modelo06.predict(UC1n.iloc[:,0:58]))*rankstd+rankmedia\r\n",
        "rank07=pd.DataFrame(modelo07.predict(UC1n.iloc[:,0:58]))*rankstd+rankmedia\r\n",
        "rank08=pd.DataFrame(modelo08.predict(UC1n.iloc[:,0:58]))*rankstd+rankmedia\r\n",
        "rank09=pd.DataFrame(modelo09.predict(UC1n.iloc[:,0:58]))*rankstd+rankmedia\r\n",
        "rank10=pd.DataFrame(modelo10.predict(UC1n.iloc[:,0:58]))*rankstd+rankmedia"
      ],
      "execution_count": 345,
      "outputs": []
    },
    {
      "cell_type": "markdown",
      "metadata": {
        "id": "jyzZQcIaApwZ"
      },
      "source": [
        "#Evaluation"
      ]
    },
    {
      "cell_type": "markdown",
      "metadata": {
        "id": "IaLZJXNRBNV8"
      },
      "source": [
        "##Análise de gráficos das regressões por Machine Learning"
      ]
    },
    {
      "cell_type": "code",
      "metadata": {
        "id": "IzJhIfdHnszc"
      },
      "source": [
        "c1='#4e4cac'\r\n",
        "c2='#d3652a'"
      ],
      "execution_count": 367,
      "outputs": []
    },
    {
      "cell_type": "code",
      "metadata": {
        "colab": {
          "base_uri": "https://localhost:8080/",
          "height": 348
        },
        "id": "joSrEjT3BkTk",
        "outputId": "d2537989-a2ed-4709-8aa4-5bd8d8612697"
      },
      "source": [
        "#Gráfico de evolução eventos na rede\r\n",
        "plt.figure(figsize=(10, 5))\r\n",
        "plt.title('Brasil no Trilemma Ranking')\r\n",
        "plt.xlabel('Ano')\r\n",
        "plt.ylabel('Posição')\r\n",
        "for x,y in zip(UC1['ano'],UC1['rank']):\r\n",
        "\r\n",
        "    label = \"{:.2f}\".format(y)\r\n",
        "\r\n",
        "    plt.annotate(label, # this is the text\r\n",
        "                 (x,y), # this is the point to label\r\n",
        "                 textcoords=\"offset points\", # how to position the text\r\n",
        "                 xytext=(0,20),\r\n",
        "                 fontsize=10,# distance from text to points (x,y)\r\n",
        "                 color=c1,\r\n",
        "                 ha='center') # horizontal alignment can be left, right or center\r\n",
        "plt.plot(UC1['ano'],UC1['rank'], marker='o',color=c1,label='Dados Originais')\r\n",
        "for x,y in zip(UC1['ano'],rank01[0]):\r\n",
        "\r\n",
        "    labely = \"{:.2f}\".format(y)\r\n",
        "    plt.annotate(labely, # this is the text\r\n",
        "                 (x,y), # this is the point to label\r\n",
        "                 textcoords=\"offset points\", # how to position the text\r\n",
        "                 xytext=(0,-20),\r\n",
        "                 fontsize=10,# distance from text to points (x,y)\r\n",
        "                 color=c2,\r\n",
        "                 ha='center') # horizontal alignment can be left, right or center\r\n",
        "plt.plot(UC1['ano'],rank01[0], marker='o',color=c2,label='Regressão Multivariável')\r\n",
        "plt.xticks(UC1['ano'])\r\n",
        "plt.ylim([0,100])\r\n",
        "#plt.grid()\r\n",
        "plt.legend()\r\n",
        "plt.tight_layout()\r\n",
        "plt.savefig('/content/IT305G/g01.svg', format='svg', dpi=600)\r\n"
      ],
      "execution_count": 368,
      "outputs": [
        {
          "output_type": "display_data",
          "data": {
            "image/png": "[encoded data removed]",
            "text/plain": [
              "<Figure size 720x360 with 1 Axes>"
            ]
          },
          "metadata": {
            "tags": []
          }
        }
      ]
    },
    {
      "cell_type": "code",
      "metadata": {
        "colab": {
          "base_uri": "https://localhost:8080/",
          "height": 348
        },
        "id": "TsaRfDBUuAyl",
        "outputId": "a901e143-6a88-4d30-ec23-ff2494e0902d"
      },
      "source": [
        "#Gráfico de evolução eventos na rede\r\n",
        "plt.figure(figsize=(10, 5))\r\n",
        "plt.title('Brasil no Trilemma Ranking')\r\n",
        "plt.xlabel('Ano')\r\n",
        "plt.ylabel('Posição')\r\n",
        "for x,y in zip(UC1['ano'],UC1['rank']):\r\n",
        "\r\n",
        "    label = \"{:.2f}\".format(y)\r\n",
        "\r\n",
        "    plt.annotate(label, # this is the text\r\n",
        "                 (x,y), # this is the point to label\r\n",
        "                 textcoords=\"offset points\", # how to position the text\r\n",
        "                 xytext=(0,20),\r\n",
        "                 fontsize=10,# distance from text to points (x,y)\r\n",
        "                 color=c1,\r\n",
        "                 ha='center') # horizontal alignment can be left, right or center\r\n",
        "plt.plot(UC1['ano'],UC1['rank'], marker='o',color=c1,label='Dados Originais')\r\n",
        "for x,y in zip(UC1['ano'],rank02[0]):\r\n",
        "\r\n",
        "    labely = \"{:.2f}\".format(y)\r\n",
        "    plt.annotate(labely, # this is the text\r\n",
        "                 (x,y), # this is the point to label\r\n",
        "                 textcoords=\"offset points\", # how to position the text\r\n",
        "                 xytext=(0,-20),\r\n",
        "                 fontsize=10,# distance from text to points (x,y)\r\n",
        "                 color=c2,\r\n",
        "                 ha='center') # horizontal alignment can be left, right or center\r\n",
        "plt.plot(UC1['ano'],rank02[0], marker='o',color=c2,label='Regressão por Árvore de Decisão')\r\n",
        "plt.xticks(UC1['ano'])\r\n",
        "plt.ylim([0,100])\r\n",
        "#plt.grid()\r\n",
        "plt.legend()\r\n",
        "plt.tight_layout()\r\n",
        "plt.savefig('/content/IT305G/g02.svg', format='svg', dpi=600)\r\n"
      ],
      "execution_count": 369,
      "outputs": [
        {
          "output_type": "display_data",
          "data": {
            "image/png": "[encoded data removed]",
            "text/plain": [
              "<Figure size 720x360 with 1 Axes>"
            ]
          },
          "metadata": {
            "tags": []
          }
        }
      ]
    },
    {
      "cell_type": "code",
      "metadata": {
        "colab": {
          "base_uri": "https://localhost:8080/",
          "height": 348
        },
        "id": "h_47mxxjuczN",
        "outputId": "1007c1f4-52f5-4219-89b8-1fd5b8d71fd4"
      },
      "source": [
        "#Gráfico de evolução eventos na rede\r\n",
        "plt.figure(figsize=(10, 5))\r\n",
        "plt.title('Brasil no Trilemma Ranking')\r\n",
        "plt.xlabel('Ano')\r\n",
        "plt.ylabel('Posição')\r\n",
        "for x,y in zip(UC1['ano'],UC1['rank']):\r\n",
        "\r\n",
        "    label = \"{:.2f}\".format(y)\r\n",
        "\r\n",
        "    plt.annotate(label, # this is the text\r\n",
        "                 (x,y), # this is the point to label\r\n",
        "                 textcoords=\"offset points\", # how to position the text\r\n",
        "                 xytext=(0,20),\r\n",
        "                 fontsize=10,# distance from text to points (x,y)\r\n",
        "                 color=c1,\r\n",
        "                 ha='center') # horizontal alignment can be left, right or center\r\n",
        "plt.plot(UC1['ano'],UC1['rank'], marker='o',color=c1,label='Dados Originais')\r\n",
        "for x,y in zip(UC1['ano'],rank03[0]):\r\n",
        "\r\n",
        "    labely = \"{:.2f}\".format(y)\r\n",
        "    plt.annotate(labely, # this is the text\r\n",
        "                 (x,y), # this is the point to label\r\n",
        "                 textcoords=\"offset points\", # how to position the text\r\n",
        "                 xytext=(0,-20),\r\n",
        "                 fontsize=10,# distance from text to points (x,y)\r\n",
        "                 color=c2,\r\n",
        "                 ha='center') # horizontal alignment can be left, right or center\r\n",
        "plt.plot(UC1['ano'],rank03[0], marker='o',color=c2,label='Regressão por Árvore de Decisão com Adaboost')\r\n",
        "plt.xticks(UC1['ano'])\r\n",
        "plt.ylim([0,100])\r\n",
        "#plt.grid()\r\n",
        "plt.legend()\r\n",
        "plt.tight_layout()\r\n",
        "plt.savefig('/content/IT305G/g03.svg', format='svg', dpi=600)\r\n"
      ],
      "execution_count": 370,
      "outputs": [
        {
          "output_type": "display_data",
          "data": {
            "image/png": "[encoded data removed]",
            "text/plain": [
              "<Figure size 720x360 with 1 Axes>"
            ]
          },
          "metadata": {
            "tags": []
          }
        }
      ]
    },
    {
      "cell_type": "code",
      "metadata": {
        "id": "E9LSdcoSu7j-"
      },
      "source": [
        ""
      ],
      "execution_count": 370,
      "outputs": []
    },
    {
      "cell_type": "code",
      "metadata": {
        "colab": {
          "base_uri": "https://localhost:8080/",
          "height": 348
        },
        "id": "Rw6CCTNBu78R",
        "outputId": "bfa7a0e8-4186-4a80-e48c-d959cc14cf93"
      },
      "source": [
        "#Gráfico de evolução eventos na rede\r\n",
        "plt.figure(figsize=(10, 5))\r\n",
        "plt.title('Brasil no Trilemma Ranking')\r\n",
        "plt.xlabel('Ano')\r\n",
        "plt.ylabel('Posição')\r\n",
        "for x,y in zip(UC1['ano'],UC1['rank']):\r\n",
        "\r\n",
        "    label = \"{:.2f}\".format(y)\r\n",
        "\r\n",
        "    plt.annotate(label, # this is the text\r\n",
        "                 (x,y), # this is the point to label\r\n",
        "                 textcoords=\"offset points\", # how to position the text\r\n",
        "                 xytext=(0,30),\r\n",
        "                 fontsize=10,# distance from text to points (x,y)\r\n",
        "                 color=c1,\r\n",
        "                 ha='center') # horizontal alignment can be left, right or center\r\n",
        "plt.plot(UC1['ano'],UC1['rank'], marker='o',color=c1,label='Dados Originais')\r\n",
        "for x,y in zip(UC1['ano'],rank04[0]):\r\n",
        "\r\n",
        "    labely = \"{:.2f}\".format(y)\r\n",
        "    plt.annotate(labely, # this is the text\r\n",
        "                 (x,y), # this is the point to label\r\n",
        "                 textcoords=\"offset points\", # how to position the text\r\n",
        "                 xytext=(0,-20),\r\n",
        "                 fontsize=10,# distance from text to points (x,y)\r\n",
        "                 color=c2,\r\n",
        "                 ha='center') # horizontal alignment can be left, right or center\r\n",
        "plt.plot(UC1['ano'],rank04[0], marker='o',color=c2,label='Regressão por Adaboost')\r\n",
        "plt.xticks(UC1['ano'])\r\n",
        "plt.ylim([0,100])\r\n",
        "#plt.grid()\r\n",
        "plt.legend()\r\n",
        "plt.tight_layout()\r\n",
        "plt.savefig('/content/IT305G/g04.svg', format='svg', dpi=600)\r\n"
      ],
      "execution_count": 371,
      "outputs": [
        {
          "output_type": "display_data",
          "data": {
            "image/png": "[encoded data removed]",
            "text/plain": [
              "<Figure size 720x360 with 1 Axes>"
            ]
          },
          "metadata": {
            "tags": []
          }
        }
      ]
    },
    {
      "cell_type": "code",
      "metadata": {
        "colab": {
          "base_uri": "https://localhost:8080/",
          "height": 348
        },
        "id": "n5-FwqoqvM2Z",
        "outputId": "f7bc05be-7fcf-4560-c74e-52c498c4816c"
      },
      "source": [
        "#Gráfico de evolução eventos na rede\r\n",
        "plt.figure(figsize=(10, 5))\r\n",
        "plt.title('Brasil no Trilemma Ranking')\r\n",
        "plt.xlabel('Ano')\r\n",
        "plt.ylabel('Posição')\r\n",
        "for x,y in zip(UC1['ano'],UC1['rank']):\r\n",
        "\r\n",
        "    label = \"{:.2f}\".format(y)\r\n",
        "\r\n",
        "    plt.annotate(label, # this is the text\r\n",
        "                 (x,y), # this is the point to label\r\n",
        "                 textcoords=\"offset points\", # how to position the text\r\n",
        "                 xytext=(0,20),\r\n",
        "                 fontsize=10,# distance from text to points (x,y)\r\n",
        "                 color=c1,\r\n",
        "                 ha='center') # horizontal alignment can be left, right or center\r\n",
        "plt.plot(UC1['ano'],UC1['rank'], marker='o',color=c1,label='Dados Originais')\r\n",
        "for x,y in zip(UC1['ano'],rank05[0]):\r\n",
        "\r\n",
        "    labely = \"{:.2f}\".format(y)\r\n",
        "    plt.annotate(labely, # this is the text\r\n",
        "                 (x,y), # this is the point to label\r\n",
        "                 textcoords=\"offset points\", # how to position the text\r\n",
        "                 xytext=(0,-20),\r\n",
        "                 fontsize=10,# distance from text to points (x,y)\r\n",
        "                 color=c2,\r\n",
        "                 ha='center') # horizontal alignment can be left, right or center\r\n",
        "plt.plot(UC1['ano'],rank05[0], marker='o',color=c2,label='Regressão por Gradientboosting')\r\n",
        "plt.xticks(UC1['ano'])\r\n",
        "plt.ylim([0,100])\r\n",
        "#plt.grid()\r\n",
        "plt.legend()\r\n",
        "plt.tight_layout()\r\n",
        "plt.savefig('/content/IT305G/g05.svg', format='svg', dpi=600)\r\n"
      ],
      "execution_count": 372,
      "outputs": [
        {
          "output_type": "display_data",
          "data": {
            "image/png": "[encoded data removed]",
            "text/plain": [
              "<Figure size 720x360 with 1 Axes>"
            ]
          },
          "metadata": {
            "tags": []
          }
        }
      ]
    },
    {
      "cell_type": "code",
      "metadata": {
        "colab": {
          "base_uri": "https://localhost:8080/",
          "height": 348
        },
        "id": "NYO-kzLEvfak",
        "outputId": "8d521f6f-adf9-4ead-943c-ea1b94f6bbc8"
      },
      "source": [
        "#Gráfico de evolução eventos na rede\r\n",
        "plt.figure(figsize=(10, 5))\r\n",
        "plt.title('Brasil no Trilemma Ranking')\r\n",
        "plt.xlabel('Ano')\r\n",
        "plt.ylabel('Posição')\r\n",
        "for x,y in zip(UC1['ano'],UC1['rank']):\r\n",
        "\r\n",
        "    label = \"{:.2f}\".format(y)\r\n",
        "\r\n",
        "    plt.annotate(label, # this is the text\r\n",
        "                 (x,y), # this is the point to label\r\n",
        "                 textcoords=\"offset points\", # how to position the text\r\n",
        "                 xytext=(0,30),\r\n",
        "                 fontsize=10,# distance from text to points (x,y)\r\n",
        "                 color=c1,\r\n",
        "                 ha='center') # horizontal alignment can be left, right or center\r\n",
        "plt.plot(UC1['ano'],UC1['rank'], marker='o',color=c1,label='Dados Originais')\r\n",
        "for x,y in zip(UC1['ano'],rank06[0]):\r\n",
        "\r\n",
        "    labely = \"{:.2f}\".format(y)\r\n",
        "    plt.annotate(labely, # this is the text\r\n",
        "                 (x,y), # this is the point to label\r\n",
        "                 textcoords=\"offset points\", # how to position the text\r\n",
        "                 xytext=(0,-30),\r\n",
        "                 fontsize=10,# distance from text to points (x,y)\r\n",
        "                 color=c2,\r\n",
        "                 ha='center') # horizontal alignment can be left, right or center\r\n",
        "plt.plot(UC1['ano'],rank06[0], marker='o',color=c2,label='Regressão por Bagging')\r\n",
        "plt.xticks(UC1['ano'])\r\n",
        "plt.ylim([0,100])\r\n",
        "#plt.grid()\r\n",
        "plt.legend()\r\n",
        "plt.tight_layout()\r\n",
        "plt.savefig('/content/IT305G/g06.svg', format='svg', dpi=600)\r\n"
      ],
      "execution_count": 373,
      "outputs": [
        {
          "output_type": "display_data",
          "data": {
            "image/png": "[encoded data removed]",
            "text/plain": [
              "<Figure size 720x360 with 1 Axes>"
            ]
          },
          "metadata": {
            "tags": []
          }
        }
      ]
    },
    {
      "cell_type": "code",
      "metadata": {
        "colab": {
          "base_uri": "https://localhost:8080/",
          "height": 348
        },
        "id": "D_jl8K9AvyyR",
        "outputId": "dd44d284-2d7b-426a-8dbc-741febbb7505"
      },
      "source": [
        "#Gráfico de evolução eventos na rede\r\n",
        "plt.figure(figsize=(10, 5))\r\n",
        "plt.title('Brasil no Trilemma Ranking')\r\n",
        "plt.xlabel('Ano')\r\n",
        "plt.ylabel('Posição')\r\n",
        "for x,y in zip(UC1['ano'],UC1['rank']):\r\n",
        "\r\n",
        "    label = \"{:.2f}\".format(y)\r\n",
        "\r\n",
        "    plt.annotate(label, # this is the text\r\n",
        "                 (x,y), # this is the point to label\r\n",
        "                 textcoords=\"offset points\", # how to position the text\r\n",
        "                 xytext=(0,40),\r\n",
        "                 fontsize=10,# distance from text to points (x,y)\r\n",
        "                 color=c1,\r\n",
        "                 ha='center') # horizontal alignment can be left, right or center\r\n",
        "plt.plot(UC1['ano'],UC1['rank'], marker='o',color=c1,label='Dados Originais')\r\n",
        "for x,y in zip(UC1['ano'],rank07[0]):\r\n",
        "\r\n",
        "    labely = \"{:.2f}\".format(y)\r\n",
        "    plt.annotate(labely, # this is the text\r\n",
        "                 (x,y), # this is the point to label\r\n",
        "                 textcoords=\"offset points\", # how to position the text\r\n",
        "                 xytext=(0,-40),\r\n",
        "                 fontsize=10,# distance from text to points (x,y)\r\n",
        "                 color=c2,\r\n",
        "                 ha='center') # horizontal alignment can be left, right or center\r\n",
        "plt.plot(UC1['ano'],rank07[0], marker='o',color=c2,label='Regressão por Random Forrest')\r\n",
        "plt.xticks(UC1['ano'])\r\n",
        "plt.ylim([0,100])\r\n",
        "#plt.grid()\r\n",
        "plt.legend()\r\n",
        "plt.tight_layout()\r\n",
        "plt.savefig('/content/IT305G/g07.svg', format='svg', dpi=600)\r\n"
      ],
      "execution_count": 374,
      "outputs": [
        {
          "output_type": "display_data",
          "data": {
            "image/png": "[encoded data removed]",
            "text/plain": [
              "<Figure size 720x360 with 1 Axes>"
            ]
          },
          "metadata": {
            "tags": []
          }
        }
      ]
    },
    {
      "cell_type": "code",
      "metadata": {
        "colab": {
          "base_uri": "https://localhost:8080/",
          "height": 348
        },
        "id": "nP0w-U4NxE4-",
        "outputId": "409e5e49-f618-4d5a-c3ee-53c5998744ce"
      },
      "source": [
        "#Gráfico de evolução eventos na rede\r\n",
        "plt.figure(figsize=(10, 5))\r\n",
        "plt.title('Brasil no Trilemma Ranking')\r\n",
        "plt.xlabel('Ano')\r\n",
        "plt.ylabel('Posição')\r\n",
        "for x,y in zip(UC1['ano'],UC1['rank']):\r\n",
        "\r\n",
        "    label = \"{:.2f}\".format(y)\r\n",
        "\r\n",
        "    plt.annotate(label, # this is the text\r\n",
        "                 (x,y), # this is the point to label\r\n",
        "                 textcoords=\"offset points\", # how to position the text\r\n",
        "                 xytext=(0,20),\r\n",
        "                 fontsize=10,# distance from text to points (x,y)\r\n",
        "                 color=c1,\r\n",
        "                 ha='center') # horizontal alignment can be left, right or center\r\n",
        "plt.plot(UC1['ano'],UC1['rank'], marker='o',color=c1,label='Dados Originais')\r\n",
        "for x,y in zip(UC1['ano'],rank08[0]):\r\n",
        "\r\n",
        "    labely = \"{:.2f}\".format(y)\r\n",
        "    plt.annotate(labely, # this is the text\r\n",
        "                 (x,y), # this is the point to label\r\n",
        "                 textcoords=\"offset points\", # how to position the text\r\n",
        "                 xytext=(0,-20),\r\n",
        "                 fontsize=10,# distance from text to points (x,y)\r\n",
        "                 color=c2,\r\n",
        "                 ha='center') # horizontal alignment can be left, right or center\r\n",
        "plt.plot(UC1['ano'],rank08[0], marker='o',color=c2,label='Regressão por SVR -RBF')\r\n",
        "plt.xticks(UC1['ano'])\r\n",
        "plt.ylim([0,100])\r\n",
        "#plt.grid()\r\n",
        "plt.legend()\r\n",
        "plt.tight_layout()\r\n",
        "plt.savefig('/content/IT305G/g08.svg', format='svg', dpi=600)\r\n"
      ],
      "execution_count": 375,
      "outputs": [
        {
          "output_type": "display_data",
          "data": {
            "image/png": "[encoded data removed]",
            "text/plain": [
              "<Figure size 720x360 with 1 Axes>"
            ]
          },
          "metadata": {
            "tags": []
          }
        }
      ]
    },
    {
      "cell_type": "code",
      "metadata": {
        "colab": {
          "base_uri": "https://localhost:8080/",
          "height": 348
        },
        "id": "H7wJN8vlxWOh",
        "outputId": "f9e981de-9b92-4dda-c9ee-5c786314d034"
      },
      "source": [
        "#Gráfico de evolução eventos na rede\r\n",
        "plt.figure(figsize=(10, 5))\r\n",
        "plt.title('Brasil no Trilemma Ranking')\r\n",
        "plt.xlabel('Ano')\r\n",
        "plt.ylabel('Posição')\r\n",
        "for x,y in zip(UC1['ano'],UC1['rank']):\r\n",
        "\r\n",
        "    label = \"{:.2f}\".format(y)\r\n",
        "\r\n",
        "    plt.annotate(label, # this is the text\r\n",
        "                 (x,y), # this is the point to label\r\n",
        "                 textcoords=\"offset points\", # how to position the text\r\n",
        "                 xytext=(0,20),\r\n",
        "                 fontsize=10,# distance from text to points (x,y)\r\n",
        "                 color=c1,\r\n",
        "                 ha='center') # horizontal alignment can be left, right or center\r\n",
        "plt.plot(UC1['ano'],UC1['rank'], marker='o',color=c1,label='Dados Originais')\r\n",
        "for x,y in zip(UC1['ano'],rank09[0]):\r\n",
        "\r\n",
        "    labely = \"{:.2f}\".format(y)\r\n",
        "    plt.annotate(labely, # this is the text\r\n",
        "                 (x,y), # this is the point to label\r\n",
        "                 textcoords=\"offset points\", # how to position the text\r\n",
        "                 xytext=(0,-20),\r\n",
        "                 fontsize=10,# distance from text to points (x,y)\r\n",
        "                 color=c2,\r\n",
        "                 ha='center') # horizontal alignment can be left, right or center\r\n",
        "plt.plot(UC1['ano'],rank09[0], marker='o',color=c2,label='Regressão por SVR - Linear')\r\n",
        "plt.xticks(UC1['ano'])\r\n",
        "plt.ylim([0,100])\r\n",
        "#plt.grid()\r\n",
        "plt.legend()\r\n",
        "plt.tight_layout()\r\n",
        "plt.savefig('/content/IT305G/g09.svg', format='svg', dpi=600)\r\n"
      ],
      "execution_count": 376,
      "outputs": [
        {
          "output_type": "display_data",
          "data": {
            "image/png": "[encoded data removed]",
            "text/plain": [
              "<Figure size 720x360 with 1 Axes>"
            ]
          },
          "metadata": {
            "tags": []
          }
        }
      ]
    },
    {
      "cell_type": "code",
      "metadata": {
        "colab": {
          "base_uri": "https://localhost:8080/",
          "height": 348
        },
        "id": "f5IaRhAZx48f",
        "outputId": "4d55f15a-c930-4bbb-efa8-affb75ea5b29"
      },
      "source": [
        "#Gráfico de evolução eventos na rede\r\n",
        "plt.figure(figsize=(10, 5))\r\n",
        "plt.title('Brasil no Trilemma Ranking')\r\n",
        "plt.xlabel('Ano')\r\n",
        "plt.ylabel('Posição')\r\n",
        "for x,y in zip(UC1['ano'],UC1['rank']):\r\n",
        "\r\n",
        "    label = \"{:.2f}\".format(y)\r\n",
        "\r\n",
        "    plt.annotate(label, # this is the text\r\n",
        "                 (x,y), # this is the point to label\r\n",
        "                 textcoords=\"offset points\", # how to position the text\r\n",
        "                 xytext=(0,30),\r\n",
        "                 fontsize=10,# distance from text to points (x,y)\r\n",
        "                 color=c1,\r\n",
        "                 ha='center') # horizontal alignment can be left, right or center\r\n",
        "plt.plot(UC1['ano'],UC1['rank'], marker='o',color=c1,label='Dados Originais')\r\n",
        "for x,y in zip(UC1['ano'],rank10[0]):\r\n",
        "\r\n",
        "    labely = \"{:.2f}\".format(y)\r\n",
        "    plt.annotate(labely, # this is the text\r\n",
        "                 (x,y), # this is the point to label\r\n",
        "                 textcoords=\"offset points\", # how to position the text\r\n",
        "                 xytext=(0,-30),\r\n",
        "                 fontsize=10,# distance from text to points (x,y)\r\n",
        "                 color=c2,\r\n",
        "                 ha='center') # horizontal alignment can be left, right or center\r\n",
        "plt.plot(UC1['ano'],rank10[0], marker='o',color=c2,label='Regressão por SVR - Polynomial')\r\n",
        "plt.xticks(UC1['ano'])\r\n",
        "plt.ylim([0,100])\r\n",
        "#plt.grid()\r\n",
        "plt.legend()\r\n",
        "plt.tight_layout()\r\n",
        "plt.savefig('/content/IT305G/g10.svg', format='svg', dpi=600)\r\n"
      ],
      "execution_count": 377,
      "outputs": [
        {
          "output_type": "display_data",
          "data": {
            "image/png": "[encoded data removed]",
            "text/plain": [
              "<Figure size 720x360 with 1 Axes>"
            ]
          },
          "metadata": {
            "tags": []
          }
        }
      ]
    }
  ]
}